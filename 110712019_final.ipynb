{
 "cells": [
  {
   "cell_type": "code",
   "execution_count": 1,
   "metadata": {},
   "outputs": [
    {
     "name": "stdout",
     "output_type": "stream",
     "text": [
      "請輸入玩家數:4\n",
      "1 號玩家發言時間\n",
      "2 號玩家發言時間\n",
      "3 號玩家發言時間\n",
      "4 號玩家發言時間\n",
      "發言環節結束\n",
      "請 1 號玩家投票給以下玩家之一 [1, 2, 3, 4]\n",
      "3\n",
      "請 2 號玩家投票給以下玩家之一 [1, 2, 3, 4]\n",
      "3\n",
      "請 3 號玩家投票給以下玩家之一 [1, 2, 3, 4]\n",
      "2\n",
      "請 4 號玩家投票給以下玩家之一 [1, 2, 3, 4]\n",
      "3\n",
      "最高票玩家名單: 3\n",
      "平民獲勝\n"
     ]
    }
   ],
   "source": [
    "from random import randint\n",
    " \n",
    "total_players = int(input('請輸入玩家數:'))\n",
    " \n",
    "while total_players < 3:\n",
    "    print('人數不夠，請重新輸入')\n",
    "else:\n",
    "    # 選狼人\n",
    "    wolf = randint(1, total_players)\n",
    " \n",
    "    # 存活玩家編號列表 1 ~ total_players\n",
    "    players = [p+1 for p in range(total_players)]  #list comprehension\n",
    " \n",
    "    # 遊戲開始\n",
    "    for game_round in range(total_players - 2):\n",
    "        # 初始化投票結果，這些是要被投票的人，也就是目前所有存活的玩家\n",
    "        vote_players = players[:]\n",
    " \n",
    "        # 當投票結果不唯一時\n",
    "        while len(vote_players) != 1:\n",
    "            # 所有投票目標玩家(要被投票的那些人)輪流發言\n",
    "            for player in vote_players:\n",
    "                input(f'{player} 號玩家發言時間')  #f-string\n",
    "            print('發言環節結束')\n",
    " \n",
    "            # 把票數歸 0\n",
    "            vote = {vp: 0 for vp in vote_players}  # dictionary comprehension\n",
    "        \n",
    "            # 所有存活玩家輪流投票\n",
    "            for player in players:\n",
    "                num = 0\n",
    "                while num not in vote_players:\n",
    "                    # 直到投票給目標玩家之ㄧ\n",
    "                    num = int(input(f'請 {player} 號玩家投票給以下玩家之一 {vote_players}\\n'))\n",
    "                vote[num] += 1\n",
    " \n",
    "            # 找出最高票的玩家\n",
    "            max_vote = max(vote.values())  # 最高票數\n",
    "            vote_players = [*filter(lambda p: vote[p] == max_vote, vote)]  # 最高票玩家名單\n",
    "            print('最高票玩家名單:', *vote_players)\n",
    "       \n",
    "        # 玩家死亡\n",
    "        vote_result = vote_players[0]  \n",
    "        players.remove(vote_result)\n",
    "        if vote_result == wolf:\n",
    "            print('平民獲勝')\n",
    "            break\n",
    "        print(f'{vote_result} 號玩家被冤死！')\n",
    "    else:\n",
    "        # 臥底存活到最後\n",
    "        print('狼人獲勝')"
   ]
  },
  {
   "cell_type": "code",
   "execution_count": null,
   "metadata": {},
   "outputs": [],
   "source": []
  }
 ],
 "metadata": {
  "kernelspec": {
   "display_name": "Python 3",
   "language": "python",
   "name": "python3"
  },
  "language_info": {
   "codemirror_mode": {
    "name": "ipython",
    "version": 3
   },
   "file_extension": ".py",
   "mimetype": "text/x-python",
   "name": "python",
   "nbconvert_exporter": "python",
   "pygments_lexer": "ipython3",
   "version": "3.7.4"
  }
 },
 "nbformat": 4,
 "nbformat_minor": 2
}
