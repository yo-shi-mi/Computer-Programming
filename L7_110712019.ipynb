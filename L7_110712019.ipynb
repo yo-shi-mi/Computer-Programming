{
 "cells": [
  {
   "cell_type": "code",
   "execution_count": null,
   "metadata": {},
   "outputs": [],
   "source": [
    "# 7 迴圈設計\n",
    "    # 7-1 基本的迴圈 for\n",
    "    # 7-2 函數 range()\n",
    "    # 7-3 進階的迴圈 for\n",
    "    # 7-4 迴圈 while\n",
    "    # 7-5 物件計數 enumerate()與迴圈 for 的搭配"
   ]
  },
  {
   "cell_type": "code",
   "execution_count": null,
   "metadata": {},
   "outputs": [],
   "source": []
  },
  {
   "cell_type": "code",
   "execution_count": null,
   "metadata": {},
   "outputs": [],
   "source": [
    "# 先從猜數字遊戲談起\n",
    "\n",
    "#載入有關隨機的模組\n",
    "import random\n",
    "\n",
    "# 呈現歡迎詞(營造參與感覺)\n",
    "name=input('請輸入你的姓名：')\n",
    "print('歡迎 %s 來玩猜數字遊戲'%name)\n",
    "\n",
    "# 設定數字範圍及答案(設定挑戰目標)\n",
    "answer=random.randint(1,20)\n",
    "\n",
    "# 取得輸入的整數數值(取得猜測數字)\n",
    "guess=int(input('請從1-20選出一個數字：'))\n",
    "\n",
    "# 判斷猜測結果(提供挑戰回饋)\n",
    "if guess==answer:\n",
    "    print('哇，你好棒，猜中了！')\n",
    "elif guess>answer:\n",
    "    print('哇，好可惜，猜大了些！')\n",
    "else:\n",
    "    print('哇，好可惜，猜小了些！')\n",
    "\n",
    "# 遊戲再改進...\n",
    "    # 數字範圍縮小\n",
    "    # 增加猜測次數"
   ]
  },
  {
   "cell_type": "code",
   "execution_count": null,
   "metadata": {},
   "outputs": [],
   "source": []
  },
  {
   "cell_type": "code",
   "execution_count": null,
   "metadata": {},
   "outputs": [],
   "source": [
    "import random\n",
    "\n",
    "name=input('請輸入你的姓名：')\n",
    "print('歡迎 %s 來玩猜數字遊戲'%name)\n",
    "\n",
    "answer=random.randint(1,20)\n",
    "\n",
    "for i in range(5):\n",
    "    guess=int(input('請從1-20選出一個數字：'))\n",
    "\n",
    "    if guess==answer:\n",
    "        print('哇，你好棒，猜中了！')\n",
    "        break\n",
    "    elif guess>answer:\n",
    "        print('哇，好可惜，猜大了些！')\n",
    "    else:\n",
    "        print('哇，好可惜，猜小了些！')\n",
    "    \n"
   ]
  },
  {
   "cell_type": "code",
   "execution_count": null,
   "metadata": {},
   "outputs": [],
   "source": [
    "a=range(5)\n",
    "d=list(a)\n",
    "print(d)\n",
    "\n",
    "b=range(1,5)\n",
    "c=list(b)\n",
    "print(c)"
   ]
  },
  {
   "cell_type": "code",
   "execution_count": null,
   "metadata": {},
   "outputs": [],
   "source": [
    "# 7-1 基本的迴圈 for\n",
    "# 使用時機：重複的程序可以用迴圈處理\n",
    "# 基本語法 for 變數 in 物件：\n",
    "\n",
    "# 範例 7-1a：唱名\n",
    "names=['Chen','Yang','Hui','Cheng','Lin','Wang','Liu']\n",
    "print('我們歡迎 %s 同學出場！'%names[0])\n",
    "print('我們歡迎 %s 同學出場！'%names[1])\n",
    "print('我們歡迎 %s 同學出場！'%names[2])\n",
    "print('我們歡迎 %s 同學出場！'%names[3])\n",
    "print('我們歡迎 %s 同學出場！'%names[4])\n",
    "print('我們歡迎 %s 同學出場！'%names[5])\n",
    "print('我們歡迎 %s 同學出場！'%names[6])\n",
    "\n",
    "# 修改成迴圈 for 處理\n",
    "\n",
    "\n",
    "# 說明\n",
    "    # 串列 names 為物件，變數 name 指向物件中的元素\n",
    "    # 迴圈執行的次數是元素個數，元素使用的次序就是其在物件的次序\n",
    "    # \n",
    "   \n"
   ]
  },
  {
   "cell_type": "code",
   "execution_count": null,
   "metadata": {},
   "outputs": [],
   "source": []
  },
  {
   "cell_type": "code",
   "execution_count": null,
   "metadata": {},
   "outputs": [],
   "source": [
    "names=['Chen','Yang','Hui','Cheng','Lin','Wang','Liu']\n",
    "n=len(names)\n",
    "for i in range(n):\n",
    "    print('我們歡迎 %s 同學出場！'%names[i])"
   ]
  },
  {
   "cell_type": "code",
   "execution_count": null,
   "metadata": {},
   "outputs": [],
   "source": [
    "# 範例 7-1b：修改猜數字遊戲(玩五次)\n",
    "import random\n",
    "\n",
    "# 呈現歡迎詞(營造參與感覺)\n",
    "name=input('請輸入你的姓名：')\n",
    "print('歡迎 %s 來玩猜數字遊戲'%name)\n",
    "\n",
    "# 設定數字範圍及答案(設定挑戰目標)\n",
    "answer=random.randint(1,20)\n",
    "for i in range(5):\n",
    "    print('第%d次猜數字'%+1)\n",
    "    guess=int(input('請從1-20選出一個數字：'))\n",
    "\n",
    "    # 判斷猜測結果(提供挑戰回饋)\n",
    "    if guess==answer:\n",
    "        print('哇，你好棒，猜中了！')\n",
    "        break\n",
    "    elif guess>answer:\n",
    "        print('哇，好可惜，你猜大了些！')\n",
    "    else:\n",
    "        print('哇，好可惜，你猜小了些！')\n",
    "\n",
    "\n",
    "# 遊戲再改進...\n",
    "    # 五次內猜對的，迴圈就可以中止\n",
    "\n"
   ]
  },
  {
   "cell_type": "code",
   "execution_count": null,
   "metadata": {},
   "outputs": [],
   "source": [
    "# 範例 7-1c：迴圈 for 與串列切片搭配\n",
    "names=['Chen','Yang','Hui','Cheng','Lin','Wang','Liu']\n",
    "n=len(names)\n",
    "print(\"你姓?\")\n",
    "for i in range(n):\n",
    "    print(\"我姓: \", names[i])\n",
    "    \n"
   ]
  },
  {
   "cell_type": "code",
   "execution_count": null,
   "metadata": {},
   "outputs": [],
   "source": [
    "# 練習 7-1a：累加\n",
    "# 成績串列 scores=[89,91,82,79,95,80,88]，使用迴圈累加，結果存為變數 total\n",
    "# 接上題，使用迴圈累加前四項成績，並計算平均\n",
    "scores=[89,91,82,79,95,80,88]\n",
    "n=len(scores)\n",
    "sum=0\n",
    "for i in range(n):\n",
    "    sum+=scores[i]\n",
    "print(sum)\n",
    "print(sum/n)\n"
   ]
  },
  {
   "cell_type": "code",
   "execution_count": null,
   "metadata": {},
   "outputs": [],
   "source": [
    "# 7-2 函數 range()\n",
    "# 利用函數 range() 產生有序整數串列\n",
    "# 利用函數 range() 控制迴圈次數\n",
    "# 利用函數 range()及其參數產生等差整數串列\n",
    "# 搭配迴圈計算數值串列的元素總和\n",
    "\n",
    "# 函數 range() 用來產生整數數列，資料類型為其自身的 range\n",
    "print(range(10))\n",
    "print(type(range(10)))"
   ]
  },
  {
   "cell_type": "code",
   "execution_count": null,
   "metadata": {},
   "outputs": [],
   "source": [
    "# 範例 7-2a：利用函數 range() 產生整數資料的串列\n",
    "\n",
    "numbers=list(range(10))\n",
    "print(numbers)\n",
    "print(type(numbers))\n",
    "\n",
    "# 說明：參數為整數，只給一個是指右邊界(不含)，左邊界預設 0，間隔預設 1"
   ]
  },
  {
   "cell_type": "code",
   "execution_count": null,
   "metadata": {},
   "outputs": [],
   "source": [
    "# 範例 7-2b：利用函數 range() 產生物件控制迴圈數，修改範例 7-1a 的唱名\n",
    "\n",
    "names=['Chen','Yang','Hui','Cheng','Lin','Wang','Liu']\n",
    "for i in range():\n",
    "    print('我們歡迎 %s 同學出場！'%names[i])\n",
    "\n",
    "\n",
    "# 說明：\n",
    "    # 迴圈可直接使用 range()產生的物件，不需要再轉換為串列物件\n",
    "    # range()的參數設為串列長度 len()，可以因應串列元素量的變動\n",
    "\n",
    "\n"
   ]
  },
  {
   "cell_type": "code",
   "execution_count": null,
   "metadata": {},
   "outputs": [],
   "source": [
    "# 範例 7-2c：使用函數 range() 再修改範例 7-1-b 猜數字遊戲的迴圈\n"
   ]
  },
  {
   "cell_type": "code",
   "execution_count": null,
   "metadata": {},
   "outputs": [],
   "source": [
    "# 練習 7-2a：使用函數 range() 產生迴圈，計算 1+2+3+...+n的總和\n",
    "\n",
    "\n",
    "# 說明：其實，此加總問題不一定要使用迴圈"
   ]
  },
  {
   "cell_type": "code",
   "execution_count": null,
   "metadata": {},
   "outputs": [],
   "source": [
    "# 函數 range() 的參數有三個：起點數(預設0)、終點數()、間隔數(預設1)\n",
    "\n",
    "# 範例 7-2d：利用 range() 產出串列\n",
    "\n",
    "#-9~9 的整數串列\n",
    "numbers=list(range(-9,10))\n",
    "print(numbers)\n",
    "\n",
    "# 10~40 的偶數串列\n",
    "evens=list(range(10,41,2))\n",
    "print(evens)\n",
    "\n"
   ]
  },
  {
   "cell_type": "code",
   "execution_count": null,
   "metadata": {},
   "outputs": [],
   "source": [
    "# 範例 7-2e：搭配迴圈加總(練習 7-2a 可參考)\n",
    "\n",
    "num=int(input('請輸入 1+2+3+...+n 的正整數 n：'))\n",
    "\n",
    "num_list=list(range(1,num+1))\n",
    "\n",
    "total=0\n",
    "\n",
    "for i in range(num):\n",
    "    total+=i+1\n",
    "print('計算 1+2+3+...+%d 所得總和為 %d'%(num,total))\n",
    "\n",
    "# 說明：其實，此加總問題不一定要使用迴圈"
   ]
  },
  {
   "cell_type": "code",
   "execution_count": null,
   "metadata": {},
   "outputs": [],
   "source": [
    "# 還可調整為\n",
    "\n",
    "num=int(input('請輸入 1+2+3+...+n 的正整數 n：'))\n",
    "total=0\n",
    "for i in range(num+1):\n",
    "    total+=i\n",
    "print('計算 1+2+3+...+%d 所得總和為 %d'%(num,total))"
   ]
  },
  {
   "cell_type": "code",
   "execution_count": null,
   "metadata": {},
   "outputs": [],
   "source": [
    "# 練習 7-2b\n",
    "   # 利用 range()產生奇數串列 [1,3,5,...,n(2k+1)]\n",
    "   # 利用迴圈 for 將串列數值加總"
   ]
  },
  {
   "cell_type": "code",
   "execution_count": null,
   "metadata": {},
   "outputs": [],
   "source": [
    "# 範例 7-2f：使用迴圈計算等差級數\n",
    "\n",
    "print('計算整數型的等差級數')\n",
    "\n",
    "first=int(input('請輸入等差級數的首項：'))\n",
    "common=int(input('請輸入等差級數的公差：'))\n",
    "terms=int(input('請輸入等差級數的項數：'))\n",
    "total=0\n",
    "term_n=first\n",
    "for i in range(terms):\n",
    "    total+=term_n\n",
    "    term_n+=common\n",
    "print('首項 %d、公差 %d、項數 %d的等差級數：%d'%(first,common,terms,total))\n",
    "\n",
    "# 說明：\n",
    "    # 輸入數值的資料類型判別，如浮點數\n",
    "    # 輸入數值大小的控制，如位數限制\n"
   ]
  },
  {
   "cell_type": "code",
   "execution_count": null,
   "metadata": {},
   "outputs": [],
   "source": [
    "# 範例 7-2g：進階使用 函數 range() 產生數值串列\n",
    "\n",
    "# 正整數平方串列 [1,4,9,16,...,n^2]：基本\n",
    "num=int(input('建立串列[1,4,9,...,n^2] 的正整數 n：'))\n",
    "squares=[]\n",
    "for i in range(1,num+1):\n",
    "    squares.append(i*i)\n",
    "\n",
    "print(squares)\n"
   ]
  },
  {
   "cell_type": "code",
   "execution_count": null,
   "metadata": {},
   "outputs": [],
   "source": [
    "# 正整數平方串列 [1,4,9,16,...,n^2]：進階\n",
    "num=int(input('建立串列[1,4,9,...,n^2] 的正整數 n：'))\n",
    "squares=[i*i for i in range(1,num+1)]\n",
    "print(squares)\n"
   ]
  },
  {
   "cell_type": "code",
   "execution_count": null,
   "metadata": {},
   "outputs": [],
   "source": [
    "# 練習 7-2c：\n",
    "# 產生區間 [1,3]切割成 n等分的切割點串列[1,1+2/n,1+4/n,...,2]\n",
    "# 搭配梯形法積分，估計f(x)=1/x在[1,3]定積分值(ln3)"
   ]
  },
  {
   "cell_type": "code",
   "execution_count": null,
   "metadata": {},
   "outputs": [],
   "source": [
    "# 7-3進階的迴圈 for\n",
    "# 迴圈 for 中，還有迴圈 for\n",
    "# 迴圈 for 中，若要強制中止，可使用 break\n",
    "# 迴圈 for 中，若有些情形要跳過，可使用 contiue\n",
    "# 迴圈 for 結束(不含強制中止)後，若要再執行補充，可使用 else\n",
    "\n"
   ]
  },
  {
   "cell_type": "code",
   "execution_count": null,
   "metadata": {},
   "outputs": [],
   "source": [
    "# 範例 7-3a：迴圈中有迴圈，二維序列之九九乘法表(需調整)\n",
    "for i in range(1,10):\n",
    "    for j in range(1,10):\n",
    "        print('%d*%d=%2d'%(i,j,i*j),end=' ')\n",
    "    print('  ')"
   ]
  },
  {
   "cell_type": "code",
   "execution_count": null,
   "metadata": {},
   "outputs": [],
   "source": [
    "# 練習 7-3a 使用雙層迴圈產生下面圖形\n",
    "\n",
    "# QQ\n",
    "# QQQQ\n",
    "# QQQQQQ\n",
    "# QQQQQQQQ\n",
    "# QQQQQQQQQQ\n",
    "# QQQQQQQQQQQQ\n",
    "# QQQQQQQQQQQQQQ\n",
    "# QQQQQQQQQQQQQQQQ\n",
    "\n",
    "s='QQ'\n",
    "for i in range(1,9):\n",
    "    print(s*i)\n"
   ]
  },
  {
   "cell_type": "code",
   "execution_count": null,
   "metadata": {},
   "outputs": [],
   "source": [
    "# 範例 7-3b：強制中止 break ，再探猜數字遊戲\n",
    "\n"
   ]
  },
  {
   "cell_type": "code",
   "execution_count": null,
   "metadata": {},
   "outputs": [],
   "source": [
    "# 範例 7-3c：強制中止 break ，改由電腦猜你給的數字\n",
    "import random\n",
    "answer=int(input('請輸入1,2,3,...,9的一個數，讓電腦猜九次看看'))\n",
    "for i in range(1,10):\n",
    "    guess=random.randint(1,9)\n",
    "    print('第 %d 次猜測數字為 %d'%(i,guess))\n",
    "    if guess == answer:\n",
    "        print('恭喜猜中！')\n",
    "        break\n",
    "    else:\n",
    "        print('可惜沒猜中')"
   ]
  },
  {
   "cell_type": "code",
   "execution_count": null,
   "metadata": {},
   "outputs": [],
   "source": [
    "# 練習 7-3a：強制中止 break \n",
    "# 從一份玩家列表[姓名,年齡]，參考如下，找出第一位年紀小於20的玩家\n",
    "player=[['Chen',49],['Yang',41],['Hui',45],['Cheng',18],['Lin',70],['Wang',15]]\n",
    "for i in range(len(player)):\n",
    "    if player[i][1]<20:\n",
    "        print('%s是第一位年紀小於20的玩家，%d歲 '%(player[i][0],player[i][1]))\n",
    "        break\n",
    "    else:\n",
    "        continue"
   ]
  },
  {
   "cell_type": "code",
   "execution_count": null,
   "metadata": {},
   "outputs": [],
   "source": [
    "# 範例 7-3d：強制跳過往下 continue ，找出符合資格者並輸出(修改練習 7-3a)\n",
    "\n",
    "player=[['Chen',49],['Yang',41],['Hui',45],['Cheng',18],['Lin',70],['Wang',15]]\n",
    "for i in range(len(player)):\n",
    "    if player[i][1]>=20:\n",
    "        continue\n",
    "    print('玩家 %s 年齡%d'%(player[i][0],player[i][1]))"
   ]
  },
  {
   "cell_type": "code",
   "execution_count": null,
   "metadata": {},
   "outputs": [],
   "source": [
    "# 練習 7-3b：其實，上述案例可以不用 continue，請修改\n",
    "\n",
    "player=[['Chen',49],['Yang',41],['Hui',45],['Cheng',18],['Lin',70],['Wang',15]]\n",
    "for i in range(len(player)):\n",
    "    if player[i][1]>=20:\n",
    "        continue\n",
    "    print('玩家 %s 年齡%d'%(player[i][0],player[i][1]))"
   ]
  },
  {
   "cell_type": "code",
   "execution_count": null,
   "metadata": {},
   "outputs": [],
   "source": [
    "# 範例 7-3e：迴圈沒被中斷且跑完後，可再做些什麼 else，判斷質數\n",
    "\n",
    "number=int(input('質數判斷：請輸入一個大於2的正整數：'))\n",
    "for i in range(2,number):\n",
    "    if number%i==0:\n",
    "        print('你輸入的 %d 是合數，它可以被 %d 整除'%(number,i))\n",
    "        break\n",
    "else:\n",
    "    print('你輸入的 %d 是質數'%number)\n",
    "\n",
    "#說明：\n",
    "    # for...else...是迴圈for執行完後再執行else，這與 if ...else...不同\n",
    "    # 質數檢查可以再簡化"
   ]
  },
  {
   "cell_type": "code",
   "execution_count": null,
   "metadata": {},
   "outputs": [],
   "source": [
    "# 練習 7-3c：檢驗輸入的數值是否為完全平方數"
   ]
  },
  {
   "cell_type": "code",
   "execution_count": null,
   "metadata": {},
   "outputs": [],
   "source": [
    "# 7-4 迴圈 while\n",
    "# 基本迴圈 while\n",
    "# 迴圈中有迴圈的巢狀迴圈 while\n",
    "# 強迫中止迴圈 break\n",
    "# 跳過該次迴圈 continue\n",
    "# 迴圈的判斷亦可搭配物件\n",
    "# 忽略迴圈內程式碼 pass\n"
   ]
  },
  {
   "cell_type": "code",
   "execution_count": null,
   "metadata": {},
   "outputs": [],
   "source": [
    "# 範例 7-4a：遊戲迴圈語法修改(使用 for 程式)\n",
    "import random\n",
    "name=input('請輸入你的姓名：')\n",
    "print('歡迎 %s 來玩猜數字遊戲'%name)\n",
    "answer=random.randint(1,20)\n",
    "\n",
    "for i in range(5):\n",
    "    print('這是你第 %d 次猜喔！'%(i+1))\n",
    "    guess=int(input('請從1-20選出一個數字：'))\n",
    "    if guess==answer:\n",
    "        print('哇，你好棒，猜中了！')\n",
    "        break\n",
    "    elif guess>answer:\n",
    "        print('哇，好可惜，猜大了些！')\n",
    "    else:\n",
    "        print('哇，好可惜，猜小了些！')\n",
    "else:\n",
    "    print('你猜了五次都沒猜中，遊戲到此結束！')\n"
   ]
  },
  {
   "cell_type": "code",
   "execution_count": null,
   "metadata": {},
   "outputs": [],
   "source": [
    "# 範例 7-4a：遊戲迴圈語法修改(使用 while 修改)\n",
    "import random\n",
    "name=input('請輸入你的姓名：')\n",
    "print('歡迎 %s 來玩猜數字遊戲'%name)\n",
    "answer=random.randint(1,20)\n",
    "i=0\n",
    "\n",
    "while i<5:\n",
    "    print('這是你第 %d 次猜喔！'%(i+1))\n",
    "    guess=int(input('請從1-20選出一個數字：'))\n",
    "    if guess==answer:\n",
    "        print('哇，你好棒，猜中了！')\n",
    "        break\n",
    "    elif guess>answer:\n",
    "        print('哇，好可惜，猜大了些！')\n",
    "    else:\n",
    "        print('哇，好可惜，猜小了些！')\n",
    "else:\n",
    "    print('你猜了五次都沒猜中，遊戲到此結束！')"
   ]
  },
  {
   "cell_type": "code",
   "execution_count": null,
   "metadata": {},
   "outputs": [],
   "source": [
    "# 練習 7-4a：利用 while 迴圈進行四次，並將結果與平均輸出\n",
    "i=0\n",
    "a=0\n",
    "while i<4:\n",
    "    s=int(input(\"輸入成績:\"))\n",
    "    i+=1\n",
    "    a+=s\n",
    "print(\"平均為%.2f\"%(a/4))\n"
   ]
  },
  {
   "cell_type": "code",
   "execution_count": null,
   "metadata": {},
   "outputs": [],
   "source": [
    "# 範例 7-4b：遊戲次數使用者決定(使用 while 比 for 合適)\n",
    "import random\n",
    "name=input('請輸入你的姓名：')\n",
    "print('歡迎 %s 來玩猜數字遊戲'%name)\n",
    "answer=random.randint(1,20)\n",
    "\n",
    "i=1               #遊戲次數計數\n",
    "key=''            #遊戲迴圈繼續與否判斷\n",
    "\n",
    "while key!='q':   \n",
    "    print('這是你第 %d 次猜喔！'%(i))\n",
    "    guess=int(input('請從1-20選出一個數字：'))\n",
    "    if guess==answer:\n",
    "        print('哇，你好棒，猜中了！')\n",
    "        break\n",
    "    elif guess>answer:\n",
    "        print('哇，好可惜，猜大了些！')\n",
    "    else:\n",
    "        print('哇，好可惜，你猜小了些！')\n",
    "    i+=1\n",
    "    key=input('退出請按q，繼續請按其他鍵：')\n",
    "print('歡迎下次再來！')\n"
   ]
  },
  {
   "cell_type": "code",
   "execution_count": null,
   "metadata": {},
   "outputs": [],
   "source": [
    "# 練習 7-4b：使用 while 迴圈進行成績輸入，並以字串'n'當作繼續與否依據，\n",
    "key=''\n",
    "while key!='n':\n",
    "    s=int(input('請輸入成績'))\n",
    "    key=input(\"停止輸入請按n,任意輸入則繼續\")\n",
    "else:\n",
    "    print('成績已輸入')\n",
    "    "
   ]
  },
  {
   "cell_type": "code",
   "execution_count": null,
   "metadata": {},
   "outputs": [],
   "source": [
    "# 範例 7-4c：迴圈 while 中還有迴圈 while(修改迴圈 for 的九九乘法表案例)\n",
    "i=1\n",
    "while i<10:\n",
    "    j=1\n",
    "    while j<10:\n",
    "        print(\"%2d*%2d=%2d\"%(i,j,i*j,),end=' ')\n",
    "        j+=1\n",
    "    print()\n",
    "    i+=1\n",
    "# print()\n",
    "    "
   ]
  },
  {
   "cell_type": "code",
   "execution_count": null,
   "metadata": {},
   "outputs": [],
   "source": [
    "# 練習 7-4c：使用迴圈中的迴圈修改上例，將被乘數與乘數交換的算式刪除，例如，1*8=8 和 8*1=8視為相同，只留一項\n",
    "i=1\n",
    "while i<10:\n",
    "    j=1\n",
    "    while j<10:\n",
    "        if i<=j:\n",
    "            print(\"%2d*%2d=%2d\"%(i,j,i*j,),end=' ')\n",
    "        else:\n",
    "            pass\n",
    "        j+=1\n",
    "    print()\n",
    "    i+=1"
   ]
  },
  {
   "cell_type": "code",
   "execution_count": null,
   "metadata": {},
   "outputs": [],
   "source": [
    "# 範例 7-4d：強制離開 while：使用 break (請參考範例 7-4b)"
   ]
  },
  {
   "cell_type": "code",
   "execution_count": null,
   "metadata": {},
   "outputs": [],
   "source": [
    "# 範例 7-4e：跳過後方程式 ：使用 continue (找因數為案例，找到則輸出，找不到則跳過輸出)\n",
    "\n",
    "num=int(input('Please input an integer to find its factors:'))\n",
    "i=0\n",
    "while i<num:\n",
    "    i+=1\n",
    "    if (num%i)==0:\n",
    "        print(i)"
   ]
  },
  {
   "cell_type": "code",
   "execution_count": null,
   "metadata": {},
   "outputs": [],
   "source": [
    "# 練習 7-4e：嘗試修改上例，改成輸出兩數的公因數(common factor)\n",
    "num1=int(input('Please input an integral number: '))\n",
    "num2=int(input('Please input the other integral number: '))\n",
    "i=0\n",
    "while i<=num1 and i<=num2:\n",
    "    i+=1\n",
    "    if (num1%i)==0 and (num2%i)==0:\n",
    "        print(i)"
   ]
  },
  {
   "cell_type": "code",
   "execution_count": null,
   "metadata": {},
   "outputs": [],
   "source": [
    "# 範例 7-4f：未確定迴圈內程式可先使用 pass \n",
    "scores=[89,78,82,90,94]\n",
    "for score in scores:\n",
    "    if score>=90:\n",
    "        print(score)\n",
    "    else: pass\n"
   ]
  },
  {
   "cell_type": "code",
   "execution_count": null,
   "metadata": {},
   "outputs": [],
   "source": [
    "# 7-5 再探 enumerate()\n",
    "\n",
    "# 函數 enumerate()可將物件的計數值與元素配對呈現\n",
    "# 利用 for in 抓取對應的元素\n",
    "\n",
    "# 範例 7-5a：enumerate 物件\n",
    "drinks=['water','coffee','tea','juice','wine']\n",
    "pairs=enumerate(drinks)\n",
    "print(pairs)"
   ]
  },
  {
   "cell_type": "code",
   "execution_count": null,
   "metadata": {},
   "outputs": [],
   "source": [
    "# 範例 7-5b：利用 for in 取出 enumerate 物件元素\n",
    "drinks=['water','coffee','tea','juice','wine']\n",
    "pairs=enumerate(drinks)\n",
    "for pair in pairs:\n",
    "    print(pair)"
   ]
  },
  {
   "cell_type": "code",
   "execution_count": null,
   "metadata": {},
   "outputs": [],
   "source": [
    "# 範例 7-5c：利用 for in 分別取出 enumerate 物件元素\n",
    "drinks=['water','coffee','tea','juice','wine']\n",
    "pairs=enumerate(drinks)\n",
    "for index,element in pairs:\n",
    "    print(index,element)\n",
    "    print(type(index),type(element))"
   ]
  },
  {
   "cell_type": "code",
   "execution_count": null,
   "metadata": {},
   "outputs": [],
   "source": [
    "# 練習 7-5c：使用以下案例，'Chen'從指標10開始使用 enumerate 配對，並使用 for in 逐一取出\n",
    "names=['Chen','Cheng','Lin','Hui','Yang']\n",
    "pairs=enumerate(names)\n",
    "for index,element in pairs:\n",
    "    print(index+10,element)"
   ]
  },
  {
   "cell_type": "code",
   "execution_count": null,
   "metadata": {},
   "outputs": [],
   "source": [
    "# 7 實作題\n",
    "\n",
    "# 實作 7-1：使用迴圈並以字母 A 建構出下方圖形\n",
    "AAAAAAAAAAAAAAAAAA\n",
    "AAAAAAAA  AAAAAAAA\n",
    "AAAAAA      AAAAAA\n",
    "AAAA          AAAA\n",
    "AA              AA\n",
    "\n",
    "# 實作 7-2：可輸入一個大於2的自然數，並使用迴圈建立該自然數的所有因數之列表(list)\n",
    "    # 例如，輸入 n=10, m=16，可得 10+11+12+13+14+15+16=91\n",
    "\n",
    "# 實作 7-3：可輸入兩個相異自然數，並使用迴圈計算自然數 n 至 m 的所有自然數的和\n",
    "    # 例如，輸入 n=10, m=16，可得 10+11+12+13+14+15+16=91\n",
    "\n",
    "# 實作 7-4：終極密碼，隨機設定 1-100的某數為謎底，進行兩人輪流猜數字遊戲，猜中者輸\n",
    "    # 例如\n",
    "        # 隨機產生謎底 24，呈現\"終極密碼 1-100，請猜：\"\n",
    "        # 第一位猜 50 後，判斷 50 是否等於謎底，若不等於，則根據大於或等於呈現\"終極密碼 1-50，請猜：\"\n",
    "        # 第二位如同第一位猜測... \n"
   ]
  },
  {
   "cell_type": "code",
   "execution_count": null,
   "metadata": {},
   "outputs": [],
   "source": [
    "for i in range(5):\n",
    "    I='A'*(9-i)\n",
    "    c=' '*(i*2)\n",
    "    print(I+c+I)"
   ]
  },
  {
   "cell_type": "code",
   "execution_count": null,
   "metadata": {},
   "outputs": [],
   "source": [
    "n=10\n",
    "m=16\n",
    "for i in range(1,n+1):\n",
    "    if n%i==0 and m%i==0:\n",
    "        print(i)"
   ]
  },
  {
   "cell_type": "code",
   "execution_count": null,
   "metadata": {},
   "outputs": [],
   "source": [
    "n=1\n",
    "m=16\n",
    "total=0\n",
    "for i in range(n,m+1):\n",
    "    total+=i\n",
    "    print(total)"
   ]
  },
  {
   "cell_type": "code",
   "execution_count": 2,
   "metadata": {},
   "outputs": [
    {
     "name": "stdout",
     "output_type": "stream",
     "text": [
      "終極密碼 1-100請猜:89\n",
      "再猜小一點\n",
      "請第二位猜\n",
      "\n",
      "終極密碼 1-89請猜:50\n",
      "再猜小一點\n",
      "請第一位猜\n",
      "\n",
      "終極密碼 1-50請猜:25\n",
      "再猜小一點\n",
      "請第二位猜\n",
      "\n",
      "終極密碼 1-25請猜:5\n",
      "再猜大一點\n",
      "請第一位猜\n",
      "\n",
      "終極密碼 5-25請猜:20\n",
      "再猜小一點\n",
      "請第二位猜\n",
      "\n",
      "終極密碼 5-20請猜:18\n",
      "再猜小一點\n",
      "請第一位猜\n",
      "\n",
      "終極密碼 5-18請猜:15\n",
      "猜對了\n"
     ]
    }
   ],
   "source": [
    "import random\n",
    "lowest=1\n",
    "highest=100\n",
    "number = random.randint(lowest,highest)\n",
    "key=''\n",
    "i=1\n",
    "\n",
    "while key!='s':\n",
    "    p=int(input('終極密碼 ' + str(lowest) + '-' + str(highest) + '請猜:'))\n",
    "    if p== number:\n",
    "        print(\"猜對了\")\n",
    "        break\n",
    "    elif p<number:\n",
    "        lowest=p\n",
    "        print(\"再猜大一點\")\n",
    "    else:\n",
    "        highest=p\n",
    "        print(\"再猜小一點\")\n",
    "    i+=1\n",
    "    if i%2==0:\n",
    "        print(\"請第二位猜\")\n",
    "    else:\n",
    "        print(\"請第一位猜\")\n",
    "    print()"
   ]
  },
  {
   "cell_type": "code",
   "execution_count": null,
   "metadata": {},
   "outputs": [],
   "source": []
  }
 ],
 "metadata": {
  "kernelspec": {
   "display_name": "Python 3",
   "language": "python",
   "name": "python3"
  },
  "language_info": {
   "codemirror_mode": {
    "name": "ipython",
    "version": 3
   },
   "file_extension": ".py",
   "mimetype": "text/x-python",
   "name": "python",
   "nbconvert_exporter": "python",
   "pygments_lexer": "ipython3",
   "version": "3.7.4"
  }
 },
 "nbformat": 4,
 "nbformat_minor": 2
}
