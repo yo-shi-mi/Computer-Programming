{
 "cells": [
  {
   "cell_type": "code",
   "execution_count": null,
   "metadata": {},
   "outputs": [],
   "source": [
    "# 20 模組與函數庫\n"
   ]
  },
  {
   "cell_type": "code",
   "execution_count": null,
   "metadata": {},
   "outputs": [],
   "source": [
    "# 視覺化資料的函數庫： matplotlib\n",
    "    # 函數庫被廣泛地使用來進行資料的視覺化\n",
    "    # 它能夠處理簡單的長條圖、折線圖、散點圖\n",
    "    # 本節以 matplotlib.pyplot 模組建立視覺化效果\n",
    "    # 搭配函數 savefig() 儲存視覺化、show()展現視覺化結果\n",
    "\n",
    "\n"
   ]
  },
  {
   "cell_type": "code",
   "execution_count": 1,
   "metadata": {},
   "outputs": [
    {
     "data": {
      "text/plain": [
       "<Figure size 640x480 with 1 Axes>"
      ]
     },
     "metadata": {},
     "output_type": "display_data"
    }
   ],
   "source": [
    "# 範例 20-1：折線圖之國內生產毛額(Gross Domestic Product,GDP)\n",
    "    #意義： 一區域內經濟活動所產出之全部最終成果的市場價值\n",
    "    \n",
    "    #資料來源：主計處公開資訊(略)\n",
    "    \n",
    "    #資料擷取：excel 或 csv 檔案特定欄位資料讀取(略)\n",
    "years = ['2000','2002','2004','2006','2008',\n",
    "         '2010','2012','2014','2016','2018']\n",
    "gdp = [10328549,10630911,11596241,12572587,13115096,\n",
    "       14060345,14677765,16258047,17555268,18342891]\n",
    "    \n",
    "    #安裝函數庫 matplotlib：pip3 install matplotlib...(略)\n",
    "    \n",
    "    #載入函數庫及其模組  \n",
    "from matplotlib import pyplot as plt\n",
    "\n",
    "    #使用模組中的折線圖繪製函數\n",
    "plt.plot(years, gdp, color='green', marker='o', linestyle='solid') \n",
    "\n",
    "plt.title(\"台灣國內生產總額(GDP)\")\n",
    "plt.xlabel(\"年度：2000-2018\")\n",
    "plt.ylabel(\"單位：百萬元\")\n",
    "\n",
    "plt.show()\n"
   ]
  },
  {
   "cell_type": "code",
   "execution_count": 2,
   "metadata": {},
   "outputs": [],
   "source": [
    "    #繪製圖形圖形秀不來，互動介面功能要開啟，就全開吧！\n",
    "\n",
    "from IPython.core.interactiveshell import InteractiveShell\n",
    "\n",
    "InteractiveShell.ast_node_interactivity = \"all\""
   ]
  },
  {
   "cell_type": "code",
   "execution_count": 3,
   "metadata": {},
   "outputs": [
    {
     "name": "stdout",
     "output_type": "stream",
     "text": [
      "Help on function plot in module matplotlib.pyplot:\n",
      "\n",
      "plot(*args, scalex=True, scaley=True, data=None, **kwargs)\n",
      "    Plot y versus x as lines and/or markers.\n",
      "    \n",
      "    Call signatures::\n",
      "    \n",
      "        plot([x], y, [fmt], *, data=None, **kwargs)\n",
      "        plot([x], y, [fmt], [x2], y2, [fmt2], ..., **kwargs)\n",
      "    \n",
      "    The coordinates of the points or line nodes are given by *x*, *y*.\n",
      "    \n",
      "    The optional parameter *fmt* is a convenient way for defining basic\n",
      "    formatting like color, marker and linestyle. It's a shortcut string\n",
      "    notation described in the *Notes* section below.\n",
      "    \n",
      "    >>> plot(x, y)        # plot x and y using default line style and color\n",
      "    >>> plot(x, y, 'bo')  # plot x and y using blue circle markers\n",
      "    >>> plot(y)           # plot y using x as index array 0..N-1\n",
      "    >>> plot(y, 'r+')     # ditto, but with red plusses\n",
      "    \n",
      "    You can use `.Line2D` properties as keyword arguments for more\n",
      "    control on the appearance. Line properties and *fmt* can be mixed.\n",
      "    The following two calls yield identical results:\n",
      "    \n",
      "    >>> plot(x, y, 'go--', linewidth=2, markersize=12)\n",
      "    >>> plot(x, y, color='green', marker='o', linestyle='dashed',\n",
      "    ...      linewidth=2, markersize=12)\n",
      "    \n",
      "    When conflicting with *fmt*, keyword arguments take precedence.\n",
      "    \n",
      "    \n",
      "    **Plotting labelled data**\n",
      "    \n",
      "    There's a convenient way for plotting objects with labelled data (i.e.\n",
      "    data that can be accessed by index ``obj['y']``). Instead of giving\n",
      "    the data in *x* and *y*, you can provide the object in the *data*\n",
      "    parameter and just give the labels for *x* and *y*::\n",
      "    \n",
      "    >>> plot('xlabel', 'ylabel', data=obj)\n",
      "    \n",
      "    All indexable objects are supported. This could e.g. be a `dict`, a\n",
      "    `pandas.DataFame` or a structured numpy array.\n",
      "    \n",
      "    \n",
      "    **Plotting multiple sets of data**\n",
      "    \n",
      "    There are various ways to plot multiple sets of data.\n",
      "    \n",
      "    - The most straight forward way is just to call `plot` multiple times.\n",
      "      Example:\n",
      "    \n",
      "      >>> plot(x1, y1, 'bo')\n",
      "      >>> plot(x2, y2, 'go')\n",
      "    \n",
      "    - Alternatively, if your data is already a 2d array, you can pass it\n",
      "      directly to *x*, *y*. A separate data set will be drawn for every\n",
      "      column.\n",
      "    \n",
      "      Example: an array ``a`` where the first column represents the *x*\n",
      "      values and the other columns are the *y* columns::\n",
      "    \n",
      "      >>> plot(a[0], a[1:])\n",
      "    \n",
      "    - The third way is to specify multiple sets of *[x]*, *y*, *[fmt]*\n",
      "      groups::\n",
      "    \n",
      "      >>> plot(x1, y1, 'g^', x2, y2, 'g-')\n",
      "    \n",
      "      In this case, any additional keyword argument applies to all\n",
      "      datasets. Also this syntax cannot be combined with the *data*\n",
      "      parameter.\n",
      "    \n",
      "    By default, each line is assigned a different style specified by a\n",
      "    'style cycle'. The *fmt* and line property parameters are only\n",
      "    necessary if you want explicit deviations from these defaults.\n",
      "    Alternatively, you can also change the style cycle using the\n",
      "    'axes.prop_cycle' rcParam.\n",
      "    \n",
      "    \n",
      "    Parameters\n",
      "    ----------\n",
      "    x, y : array-like or scalar\n",
      "        The horizontal / vertical coordinates of the data points.\n",
      "        *x* values are optional and default to `range(len(y))`.\n",
      "    \n",
      "        Commonly, these parameters are 1D arrays.\n",
      "    \n",
      "        They can also be scalars, or two-dimensional (in that case, the\n",
      "        columns represent separate data sets).\n",
      "    \n",
      "        These arguments cannot be passed as keywords.\n",
      "    \n",
      "    fmt : str, optional\n",
      "        A format string, e.g. 'ro' for red circles. See the *Notes*\n",
      "        section for a full description of the format strings.\n",
      "    \n",
      "        Format strings are just an abbreviation for quickly setting\n",
      "        basic line properties. All of these and more can also be\n",
      "        controlled by keyword arguments.\n",
      "    \n",
      "        This argument cannot be passed as keyword.\n",
      "    \n",
      "    data : indexable object, optional\n",
      "        An object with labelled data. If given, provide the label names to\n",
      "        plot in *x* and *y*.\n",
      "    \n",
      "        .. note::\n",
      "            Technically there's a slight ambiguity in calls where the\n",
      "            second label is a valid *fmt*. `plot('n', 'o', data=obj)`\n",
      "            could be `plt(x, y)` or `plt(y, fmt)`. In such cases,\n",
      "            the former interpretation is chosen, but a warning is issued.\n",
      "            You may suppress the warning by adding an empty format string\n",
      "            `plot('n', 'o', '', data=obj)`.\n",
      "    \n",
      "    Other Parameters\n",
      "    ----------------\n",
      "    scalex, scaley : bool, optional, default: True\n",
      "        These parameters determined if the view limits are adapted to\n",
      "        the data limits. The values are passed on to `autoscale_view`.\n",
      "    \n",
      "    **kwargs : `.Line2D` properties, optional\n",
      "        *kwargs* are used to specify properties like a line label (for\n",
      "        auto legends), linewidth, antialiasing, marker face color.\n",
      "        Example::\n",
      "    \n",
      "        >>> plot([1,2,3], [1,2,3], 'go-', label='line 1', linewidth=2)\n",
      "        >>> plot([1,2,3], [1,4,9], 'rs',  label='line 2')\n",
      "    \n",
      "        If you make multiple lines with one plot command, the kwargs\n",
      "        apply to all those lines.\n",
      "    \n",
      "        Here is a list of available `.Line2D` properties:\n",
      "    \n",
      "      agg_filter: a filter function, which takes a (m, n, 3) float array and a dpi value, and returns a (m, n, 3) array\n",
      "      alpha: float\n",
      "      animated: bool\n",
      "      antialiased or aa: bool\n",
      "      clip_box: `.Bbox`\n",
      "      clip_on: bool\n",
      "      clip_path: [(`~matplotlib.path.Path`, `.Transform`) | `.Patch` | None]\n",
      "      color or c: color\n",
      "      contains: callable\n",
      "      dash_capstyle: {'butt', 'round', 'projecting'}\n",
      "      dash_joinstyle: {'miter', 'round', 'bevel'}\n",
      "      dashes: sequence of floats (on/off ink in points) or (None, None)\n",
      "      drawstyle or ds: {'default', 'steps', 'steps-pre', 'steps-mid', 'steps-post'}, default: 'default'\n",
      "      figure: `.Figure`\n",
      "      fillstyle: {'full', 'left', 'right', 'bottom', 'top', 'none'}\n",
      "      gid: str\n",
      "      in_layout: bool\n",
      "      label: object\n",
      "      linestyle or ls: {'-', '--', '-.', ':', '', (offset, on-off-seq), ...}\n",
      "      linewidth or lw: float\n",
      "      marker: marker style\n",
      "      markeredgecolor or mec: color\n",
      "      markeredgewidth or mew: float\n",
      "      markerfacecolor or mfc: color\n",
      "      markerfacecoloralt or mfcalt: color\n",
      "      markersize or ms: float\n",
      "      markevery: None or int or (int, int) or slice or List[int] or float or (float, float)\n",
      "      path_effects: `.AbstractPathEffect`\n",
      "      picker: float or callable[[Artist, Event], Tuple[bool, dict]]\n",
      "      pickradius: float\n",
      "      rasterized: bool or None\n",
      "      sketch_params: (scale: float, length: float, randomness: float)\n",
      "      snap: bool or None\n",
      "      solid_capstyle: {'butt', 'round', 'projecting'}\n",
      "      solid_joinstyle: {'miter', 'round', 'bevel'}\n",
      "      transform: `matplotlib.transforms.Transform`\n",
      "      url: str\n",
      "      visible: bool\n",
      "      xdata: 1D array\n",
      "      ydata: 1D array\n",
      "      zorder: float\n",
      "    \n",
      "    Returns\n",
      "    -------\n",
      "    lines\n",
      "        A list of `.Line2D` objects representing the plotted data.\n",
      "    \n",
      "    See Also\n",
      "    --------\n",
      "    scatter : XY scatter plot with markers of varying size and/or color (\n",
      "        sometimes also called bubble chart).\n",
      "    \n",
      "    Notes\n",
      "    -----\n",
      "    **Format Strings**\n",
      "    \n",
      "    A format string consists of a part for color, marker and line::\n",
      "    \n",
      "        fmt = '[marker][line][color]'\n",
      "    \n",
      "    Each of them is optional. If not provided, the value from the style\n",
      "    cycle is used. Exception: If ``line`` is given, but no ``marker``,\n",
      "    the data will be a line without markers.\n",
      "    \n",
      "    Other combinations such as ``[color][marker][line]`` are also\n",
      "    supported, but note that their parsing may be ambiguous.\n",
      "    \n",
      "    **Markers**\n",
      "    \n",
      "    =============    ===============================\n",
      "    character        description\n",
      "    =============    ===============================\n",
      "    ``'.'``          point marker\n",
      "    ``','``          pixel marker\n",
      "    ``'o'``          circle marker\n",
      "    ``'v'``          triangle_down marker\n",
      "    ``'^'``          triangle_up marker\n",
      "    ``'<'``          triangle_left marker\n",
      "    ``'>'``          triangle_right marker\n",
      "    ``'1'``          tri_down marker\n",
      "    ``'2'``          tri_up marker\n",
      "    ``'3'``          tri_left marker\n",
      "    ``'4'``          tri_right marker\n",
      "    ``'s'``          square marker\n",
      "    ``'p'``          pentagon marker\n",
      "    ``'*'``          star marker\n",
      "    ``'h'``          hexagon1 marker\n",
      "    ``'H'``          hexagon2 marker\n",
      "    ``'+'``          plus marker\n",
      "    ``'x'``          x marker\n",
      "    ``'D'``          diamond marker\n",
      "    ``'d'``          thin_diamond marker\n",
      "    ``'|'``          vline marker\n",
      "    ``'_'``          hline marker\n",
      "    =============    ===============================\n",
      "    \n",
      "    **Line Styles**\n",
      "    \n",
      "    =============    ===============================\n",
      "    character        description\n",
      "    =============    ===============================\n",
      "    ``'-'``          solid line style\n",
      "    ``'--'``         dashed line style\n",
      "    ``'-.'``         dash-dot line style\n",
      "    ``':'``          dotted line style\n",
      "    =============    ===============================\n",
      "    \n",
      "    Example format strings::\n",
      "    \n",
      "        'b'    # blue markers with default shape\n",
      "        'or'   # red circles\n",
      "        '-g'   # green solid line\n",
      "        '--'   # dashed line with default color\n",
      "        '^k:'  # black triangle_up markers connected by a dotted line\n",
      "    \n",
      "    **Colors**\n",
      "    \n",
      "    The supported color abbreviations are the single letter codes\n",
      "    \n",
      "    =============    ===============================\n",
      "    character        color\n",
      "    =============    ===============================\n",
      "    ``'b'``          blue\n",
      "    ``'g'``          green\n",
      "    ``'r'``          red\n",
      "    ``'c'``          cyan\n",
      "    ``'m'``          magenta\n",
      "    ``'y'``          yellow\n",
      "    ``'k'``          black\n",
      "    ``'w'``          white\n",
      "    =============    ===============================\n",
      "    \n",
      "    and the ``'CN'`` colors that index into the default property cycle.\n",
      "    \n",
      "    If the color is the only part of the format string, you can\n",
      "    additionally use any  `matplotlib.colors` spec, e.g. full names\n",
      "    (``'green'``) or hex strings (``'#008000'``).\n",
      "\n"
     ]
    }
   ],
   "source": [
    "    #根據需要調整繪圖函數的參數\n",
    "help(plt.plot)\n"
   ]
  },
  {
   "cell_type": "code",
   "execution_count": 4,
   "metadata": {},
   "outputs": [
    {
     "data": {
      "text/plain": [
       "[<matplotlib.lines.Line2D at 0x1882be74f48>]"
      ]
     },
     "execution_count": 4,
     "metadata": {},
     "output_type": "execute_result"
    },
    {
     "data": {
      "image/png": "[encoded data removed]",
      "text/plain": [
       "<Figure size 432x288 with 1 Axes>"
      ]
     },
     "metadata": {
      "needs_background": "light"
     },
     "output_type": "display_data"
    }
   ],
   "source": [
    "plt.plot(years, gdp, color='blue', marker='h',linestyle='dashed', linewidth=2, markersize=15)\n",
    "\n",
    "plt.show()"
   ]
  },
  {
   "cell_type": "code",
   "execution_count": 1,
   "metadata": {},
   "outputs": [
    {
     "ename": "TypeError",
     "evalue": "cannot unpack non-iterable float object",
     "output_type": "error",
     "traceback": [
      "\u001b[1;31m---------------------------------------------------------------------------\u001b[0m",
      "\u001b[1;31mTypeError\u001b[0m                                 Traceback (most recent call last)",
      "\u001b[1;32m<ipython-input-1-eda485ac4d1b>\u001b[0m in \u001b[0;36m<module>\u001b[1;34m\u001b[0m\n\u001b[0;32m      3\u001b[0m \u001b[0myears\u001b[0m\u001b[1;33m=\u001b[0m\u001b[1;33m[\u001b[0m\u001b[1;34m'2012'\u001b[0m\u001b[1;33m,\u001b[0m\u001b[1;34m'2013'\u001b[0m\u001b[1;33m,\u001b[0m\u001b[1;34m'2014'\u001b[0m\u001b[1;33m,\u001b[0m\u001b[1;34m'2015'\u001b[0m\u001b[1;33m,\u001b[0m\u001b[1;34m'2016'\u001b[0m\u001b[1;33m,\u001b[0m\u001b[1;34m'2017'\u001b[0m\u001b[1;33m]\u001b[0m\u001b[1;33m\u001b[0m\u001b[1;33m\u001b[0m\u001b[0m\n\u001b[0;32m      4\u001b[0m \u001b[0mmids\u001b[0m\u001b[1;33m=\u001b[0m\u001b[1;33m[\u001b[0m\u001b[1;36m43.6\u001b[0m\u001b[1;33m,\u001b[0m \u001b[1;36m43.8\u001b[0m\u001b[1;33m,\u001b[0m \u001b[1;36m44.9\u001b[0m\u001b[1;33m,\u001b[0m \u001b[1;36m45.8\u001b[0m\u001b[1;33m,\u001b[0m \u001b[1;36m46.1\u001b[0m\u001b[1;33m,\u001b[0m \u001b[1;36m47.0\u001b[0m\u001b[1;33m]\u001b[0m\u001b[1;33m\u001b[0m\u001b[1;33m\u001b[0m\u001b[0m\n\u001b[1;32m----> 5\u001b[1;33m \u001b[0mdiffs\u001b[0m\u001b[1;33m=\u001b[0m \u001b[1;33m[\u001b[0m\u001b[0mx\u001b[0m \u001b[1;33m-\u001b[0m \u001b[0my\u001b[0m \u001b[1;32mfor\u001b[0m \u001b[0mx\u001b[0m\u001b[1;33m,\u001b[0m \u001b[0my\u001b[0m \u001b[1;32min\u001b[0m \u001b[0mmids\u001b[0m\u001b[1;33m]\u001b[0m\u001b[1;33m\u001b[0m\u001b[1;33m\u001b[0m\u001b[0m\n\u001b[0m\u001b[0;32m      6\u001b[0m \u001b[1;33m\u001b[0m\u001b[0m\n\u001b[0;32m      7\u001b[0m \u001b[0mplt\u001b[0m\u001b[1;33m.\u001b[0m\u001b[0mplot\u001b[0m\u001b[1;33m(\u001b[0m\u001b[0myears\u001b[0m\u001b[1;33m,\u001b[0m \u001b[0mmids\u001b[0m\u001b[1;33m,\u001b[0m \u001b[1;34m'g-'\u001b[0m\u001b[1;33m,\u001b[0m  \u001b[0mlabel\u001b[0m\u001b[1;33m=\u001b[0m\u001b[1;34m'Mid.'\u001b[0m\u001b[1;33m)\u001b[0m\u001b[1;33m\u001b[0m\u001b[1;33m\u001b[0m\u001b[0m\n",
      "\u001b[1;32m<ipython-input-1-eda485ac4d1b>\u001b[0m in \u001b[0;36m<listcomp>\u001b[1;34m(.0)\u001b[0m\n\u001b[0;32m      3\u001b[0m \u001b[0myears\u001b[0m\u001b[1;33m=\u001b[0m\u001b[1;33m[\u001b[0m\u001b[1;34m'2012'\u001b[0m\u001b[1;33m,\u001b[0m\u001b[1;34m'2013'\u001b[0m\u001b[1;33m,\u001b[0m\u001b[1;34m'2014'\u001b[0m\u001b[1;33m,\u001b[0m\u001b[1;34m'2015'\u001b[0m\u001b[1;33m,\u001b[0m\u001b[1;34m'2016'\u001b[0m\u001b[1;33m,\u001b[0m\u001b[1;34m'2017'\u001b[0m\u001b[1;33m]\u001b[0m\u001b[1;33m\u001b[0m\u001b[1;33m\u001b[0m\u001b[0m\n\u001b[0;32m      4\u001b[0m \u001b[0mmids\u001b[0m\u001b[1;33m=\u001b[0m\u001b[1;33m[\u001b[0m\u001b[1;36m43.6\u001b[0m\u001b[1;33m,\u001b[0m \u001b[1;36m43.8\u001b[0m\u001b[1;33m,\u001b[0m \u001b[1;36m44.9\u001b[0m\u001b[1;33m,\u001b[0m \u001b[1;36m45.8\u001b[0m\u001b[1;33m,\u001b[0m \u001b[1;36m46.1\u001b[0m\u001b[1;33m,\u001b[0m \u001b[1;36m47.0\u001b[0m\u001b[1;33m]\u001b[0m\u001b[1;33m\u001b[0m\u001b[1;33m\u001b[0m\u001b[0m\n\u001b[1;32m----> 5\u001b[1;33m \u001b[0mdiffs\u001b[0m\u001b[1;33m=\u001b[0m \u001b[1;33m[\u001b[0m\u001b[0mx\u001b[0m \u001b[1;33m-\u001b[0m \u001b[0my\u001b[0m \u001b[1;32mfor\u001b[0m \u001b[0mx\u001b[0m\u001b[1;33m,\u001b[0m \u001b[0my\u001b[0m \u001b[1;32min\u001b[0m \u001b[0mmids\u001b[0m\u001b[1;33m]\u001b[0m\u001b[1;33m\u001b[0m\u001b[1;33m\u001b[0m\u001b[0m\n\u001b[0m\u001b[0;32m      6\u001b[0m \u001b[1;33m\u001b[0m\u001b[0m\n\u001b[0;32m      7\u001b[0m \u001b[0mplt\u001b[0m\u001b[1;33m.\u001b[0m\u001b[0mplot\u001b[0m\u001b[1;33m(\u001b[0m\u001b[0myears\u001b[0m\u001b[1;33m,\u001b[0m \u001b[0mmids\u001b[0m\u001b[1;33m,\u001b[0m \u001b[1;34m'g-'\u001b[0m\u001b[1;33m,\u001b[0m  \u001b[0mlabel\u001b[0m\u001b[1;33m=\u001b[0m\u001b[1;34m'Mid.'\u001b[0m\u001b[1;33m)\u001b[0m\u001b[1;33m\u001b[0m\u001b[1;33m\u001b[0m\u001b[0m\n",
      "\u001b[1;31mTypeError\u001b[0m: cannot unpack non-iterable float object"
     ]
    }
   ],
   "source": [
    "# 練習 20-1：折線圖之台灣 2012-2017 薪資中位數\n",
    "    # 資料來源：https://www.dgbas.gov.tw/ct.asp?xItem=43645&ctNode=5624\n",
    "years=['2012','2013','2014','2015','2016','2017']\n",
    "mids=[43.6, 43.8, 44.9, 45.8, 46.1, 47.0]\n",
    "diffs= [x - y for x, y in mids]\n",
    "\n",
    "plt.plot(years, mids, 'g-',  label='Mid.')\n",
    "\n",
    "plt.plot(years, mid, color='blue', marker='h',linestyle='dashed', linewidth=2, markersize=15)\n",
    "\n",
    "plt.show()\n"
   ]
  },
  {
   "cell_type": "code",
   "execution_count": 5,
   "metadata": {},
   "outputs": [
    {
     "data": {
      "text/plain": [
       "[<matplotlib.lines.Line2D at 0x1882e221b48>]"
      ]
     },
     "execution_count": 5,
     "metadata": {},
     "output_type": "execute_result"
    },
    {
     "data": {
      "text/plain": [
       "[<matplotlib.lines.Line2D at 0x1882e22b3c8>]"
      ]
     },
     "execution_count": 5,
     "metadata": {},
     "output_type": "execute_result"
    },
    {
     "data": {
      "text/plain": [
       "[<matplotlib.lines.Line2D at 0x1882e22ea08>]"
      ]
     },
     "execution_count": 5,
     "metadata": {},
     "output_type": "execute_result"
    },
    {
     "data": {
      "text/plain": [
       "<matplotlib.legend.Legend at 0x1882d6e2a48>"
      ]
     },
     "execution_count": 5,
     "metadata": {},
     "output_type": "execute_result"
    },
    {
     "data": {
      "text/plain": [
       "Text(0.5, 1.0, 'Salary in Taiwan')"
      ]
     },
     "execution_count": 5,
     "metadata": {},
     "output_type": "execute_result"
    },
    {
     "data": {
      "text/plain": [
       "Text(0.5, 0, 'Years: 2012-2017')"
      ]
     },
     "execution_count": 5,
     "metadata": {},
     "output_type": "execute_result"
    },
    {
     "data": {
      "text/plain": [
       "Text(0, 0.5, 'Dollars: 10000')"
      ]
     },
     "execution_count": 5,
     "metadata": {},
     "output_type": "execute_result"
    },
    {
     "data": {
      "image/png": "[encoded data removed]",
      "text/plain": [
       "<Figure size 432x288 with 1 Axes>"
      ]
     },
     "metadata": {
      "needs_background": "light"
     },
     "output_type": "display_data"
    }
   ],
   "source": [
    "# 範例 20-2：多條折線圖之台灣 2012-2017 薪資中位數與薪資平均數\n",
    "    # 資料來源：https://www.dgbas.gov.tw/ct.asp?xItem=43645&ctNode=5624\n",
    "    # 資料擷取\n",
    "years=['2012','2013','2014','2015','2016','2017']\n",
    "mids=[43.6, 43.8, 44.9, 45.8, 46.1, 47.0]\n",
    "avgs=[54.7, 54.8, 56.8, 58.2, 58.5, 60.0]\n",
    "diffs= [x - y for x, y in zip(avgs, mids)] \n",
    "\n",
    "    # 重複使用 plt.plot()繪製多個折線圖 \n",
    "plt.plot(years, mids, 'g-',  label='Mid.')   \n",
    "\n",
    "plt.plot(years, avgs, 'r-.', label='Avg.')    \n",
    " \n",
    "plt.plot(years, diffs, 'b:', label='Diff.')  \n",
    "\n",
    "    # 因為每個折線都有標頭，因此，可以自由地設定圖例說明，使用 \"loc=9\"表示上方置中 \n",
    "plt.legend(loc=9) \n",
    "\n",
    "plt.title(\"Salary in Taiwan\") \n",
    "plt.xlabel(\"Years: 2012-2017\") \n",
    "plt.ylabel(\"Dollars: 10000\") \n",
    "\n",
    "plt.show()\n"
   ]
  },
  {
   "cell_type": "code",
   "execution_count": null,
   "metadata": {},
   "outputs": [],
   "source": [
    "# 補充說明：\n",
    "# 方法legend()位置參數 loc=\n",
    "    # 0-->'best'\n",
    "    # 1-->'upper right'\n",
    "    # 2-->'upper left'\n",
    "    # 3-->'lower left'\n",
    "    # 4-->'lower right'\n",
    "    # 5-->'right'\n",
    "    # 6-->'center left'\n",
    "    # 7-->'center right'\n",
    "    # 8-->'lower center'\n",
    "    # 9-->'upper center'\n",
    "    # 10-->'center'\n",
    "\n",
    "#方法 legend()的使用\n",
    "    # 自動指派圖例：legend()\n",
    "    # 使用特定標籤表示圖例：legend(labels)\n",
    "    # 給定對應標籤與其圖例：legend(handles, labels)\n",
    "help(plt.legend)"
   ]
  },
  {
   "cell_type": "code",
   "execution_count": 6,
   "metadata": {},
   "outputs": [
    {
     "data": {
      "text/plain": [
       "<BarContainer object of 4 artists>"
      ]
     },
     "execution_count": 6,
     "metadata": {},
     "output_type": "execute_result"
    },
    {
     "data": {
      "text/plain": [
       "Text(0.5, 1.0, 'Blood Types of Students in Class')"
      ]
     },
     "execution_count": 6,
     "metadata": {},
     "output_type": "execute_result"
    },
    {
     "data": {
      "text/plain": [
       "Text(0, 0.5, 'Number of Persons')"
      ]
     },
     "execution_count": 6,
     "metadata": {},
     "output_type": "execute_result"
    },
    {
     "data": {
      "text/plain": [
       "([<matplotlib.axis.XTick at 0x1882e25c8c8>,\n",
       "  <matplotlib.axis.XTick at 0x1882e257248>,\n",
       "  <matplotlib.axis.XTick at 0x1882e1cd6c8>,\n",
       "  <matplotlib.axis.XTick at 0x1882e2b8108>],\n",
       " <a list of 4 Text xticklabel objects>)"
      ]
     },
     "execution_count": 6,
     "metadata": {},
     "output_type": "execute_result"
    },
    {
     "data": {
      "image/png": "[encoded data removed]",
      "text/plain": [
       "<Figure size 432x288 with 1 Axes>"
      ]
     },
     "metadata": {
      "needs_background": "light"
     },
     "output_type": "display_data"
    }
   ],
   "source": [
    "# 範例 20-2：長條圖之血型人數\n",
    "    \n",
    "    # 載入函數庫之模組\n",
    "from matplotlib import pyplot as plt\n",
    "    \n",
    "    # 資料取得\n",
    "bloods=[\"A\", \"B\", \"AB\", \"O\"] \n",
    "nums=[5, 11, 3, 8]\n",
    "\n",
    "    # 設定橫軸類別個數(從0開始)\n",
    "xs = [i  for i, _ in enumerate(bloods)]\n",
    "\n",
    "    # 根據類別變數(xs)及其對應數據(nums)使用方法 bar 繪製長條圖 \n",
    "plt.bar(xs, nums)\n",
    "    \n",
    "    # 標示長條圖名稱\n",
    "plt.title(\"Blood Types of Students in Class\")\n",
    "    \n",
    "    # 標示縱軸名稱\n",
    "plt.ylabel(\"Number of Persons\") \n",
    "\n",
    "    # 標示橫軸類別欄位名稱\n",
    "plt.xticks([i for i, _ in enumerate(bloods)], bloods)\n",
    "\n",
    "    # 圖形顯示\n",
    "plt.show()\n"
   ]
  },
  {
   "cell_type": "code",
   "execution_count": null,
   "metadata": {},
   "outputs": [],
   "source": [
    "# 補充說明\n",
    "# 函數 enumerate() 可將串列轉換為(編號,元素)元組的串列\n",
    "    # 所得為 enumerate 物件，若要後續處理，建議強制轉成列表\n",
    "\n",
    "print(bloods,type(bloods))\n",
    "print(enumerate(bloods),type(enumerate(bloods)))\n",
    "print(list(enumerate(bloods)),type(list(enumerate(bloods))))"
   ]
  },
  {
   "cell_type": "code",
   "execution_count": null,
   "metadata": {},
   "outputs": [],
   "source": [
    "    #根據需要調整繪圖函數的參數\n",
    "help(plt.bar)"
   ]
  },
  {
   "cell_type": "code",
   "execution_count": null,
   "metadata": {},
   "outputs": [],
   "source": [
    "plt.bar(xs,nums,width=0.5,align='center',color='red',linewidth=1,edgecolor='black')\n",
    "plt.title(\"Blood Types of Students in Class\")\n",
    "plt.ylabel(\"Number of Persons\") \n",
    "plt.xticks([i for i, _ in enumerate(bloods)], bloods)\n"
   ]
  },
  {
   "cell_type": "code",
   "execution_count": null,
   "metadata": {},
   "outputs": [],
   "source": [
    "# 練習 20-2：太陽系八大行星的衛星數以長條圖呈現\n",
    "planets=['Mercury','Venus','Earth','Mars','Jupiter','Saturn','Uranus','Neptune']\n",
    "nums=[0,0,1,2,67,62,27,14]\n",
    "from matplotlib import pyplot as plt\n",
    "xs = [i  for i, _ in enumerate(planets)]\n",
    "plt.bar(xs, nums)\n",
    "plt.show()"
   ]
  },
  {
   "cell_type": "code",
   "execution_count": null,
   "metadata": {},
   "outputs": [],
   "source": [
    "# 範例 20-3：散點圖之社群成員「朋友數量」和「停留時間」的關係\n",
    "   \n",
    "    # 載入函數庫之模組\n",
    "from matplotlib import pyplot as plt\n",
    "    \n",
    "    #資料取得\n",
    "friends = [ 70,  65,  72,  63,  71,  64,  60,  64,  67] \n",
    "minutes = [175, 170, 205, 120, 220, 130, 105, 145, 190] \n",
    "labels =  ['P1', 'P2', 'P3', 'P4', 'P5', 'P6', 'P7', 'P8', 'P9']\n",
    "\n",
    "plt.scatter(friends, minutes)\n",
    "\n",
    "plt.title(\"Daily Minutes vs. Number of Friends\")\n"
   ]
  },
  {
   "cell_type": "code",
   "execution_count": null,
   "metadata": {},
   "outputs": [],
   "source": [
    "    #根據需要調整繪圖函數的參數\n",
    "help(plt.scatter)"
   ]
  },
  {
   "cell_type": "code",
   "execution_count": null,
   "metadata": {},
   "outputs": [],
   "source": [
    "plt.scatter(friends, minutes,s=50, c='r',marker='h')\n",
    "plt.title(\"Daily Minutes vs. Number of Friends\")"
   ]
  },
  {
   "cell_type": "code",
   "execution_count": null,
   "metadata": {},
   "outputs": [],
   "source": [
    "    #使用方法 annotate() 為散點圖的點加上標籤\n",
    "help(plt.annotate)"
   ]
  },
  {
   "cell_type": "code",
   "execution_count": null,
   "metadata": {},
   "outputs": [],
   "source": [
    "plt.scatter(friends, minutes,s=50, c='b',marker='o')\n",
    "plt.title(\"Daily Minutes vs. Number of Friends\")\n",
    "\n",
    "for label, f_count, m_count in zip(labels, friends, minutes): \n",
    "    plt.annotate(label,                   # 標籤名稱 \n",
    "             xy=(f_count, m_count),       # 標籤位置        \n",
    "             xytext=(5, -5),              # 標籤平移量，向右下移動以免蓋住點        \n",
    "             textcoords='offset points')  # 顯示樣式，坐標點(vs.螢幕點)\n",
    "\n",
    "\n"
   ]
  },
  {
   "cell_type": "code",
   "execution_count": null,
   "metadata": {},
   "outputs": [],
   "source": [
    "# 練習 20-3：散點圖的自訂調整：有時候預設的表格會讓資料關係呈現的圖形產生誤導，我們就可自行調整\n",
    "\n",
    "m_scores= [ 99, 90, 85, 97, 80] \n",
    "l_scores= [100, 85, 60, 90, 70]\n",
    "lables=['S1','S2','S3','S4','S5']\n",
    "plt.scatter(m_scores, l_scores,s=50, c='r',marker='h')\n",
    "\n",
    "for lables, m_scores, l_scores in zip(lables,m_scores,l_scores): \n",
    "    plt.annotate(lables,                   \n",
    "             xy=(m_scores, l_scores),              \n",
    "             xytext=(5, -5),                      \n",
    "             textcoords='offset points')  \n"
   ]
  },
  {
   "cell_type": "code",
   "execution_count": null,
   "metadata": {},
   "outputs": [],
   "source": [
    "#補充說明：使用 axis() 設定兩軸相同\n",
    "\n",
    "plt.axis('equal')\n"
   ]
  },
  {
   "cell_type": "code",
   "execution_count": null,
   "metadata": {},
   "outputs": [],
   "source": [
    "# 數值處理函數庫： numpy\n",
    "    # 針對多維度數值資料物件處理：陣列\n",
    "\n",
    "# 串列 VS. 陣列\n",
    "a=[1,2,3]\n",
    "b=[2,0,-1]\n",
    "print(a+b)\n",
    "\n"
   ]
  },
  {
   "cell_type": "code",
   "execution_count": null,
   "metadata": {},
   "outputs": [],
   "source": [
    "# 範例 20-4：串列陣列化方法 array()\n",
    "import numpy as np\n",
    "A=np.array(a)\n",
    "B=np.array(b)\n",
    "\n",
    "print(type(A))\n",
    "print(A)\n",
    "print(A+B)"
   ]
  },
  {
   "cell_type": "code",
   "execution_count": null,
   "metadata": {},
   "outputs": [],
   "source": [
    "# 練習 20-4：給定兩個串列將其化為2*3陣列並進行相加"
   ]
  },
  {
   "cell_type": "code",
   "execution_count": null,
   "metadata": {},
   "outputs": [],
   "source": [
    "# 範例 20-5a：使用 zeros()與 ones()生成特定陣列(預設為浮點數 float64)\n",
    "Y=np.zeros((4,4))\n",
    "Z=np.ones((4,4),dtype=np.int32)\n",
    "print(Y)\n",
    "print(Z)"
   ]
  },
  {
   "cell_type": "code",
   "execution_count": null,
   "metadata": {},
   "outputs": [],
   "source": [
    "# 範例 20-5b：使用 empty()生成空陣列\n",
    "W=np.empty((5,3))\n",
    "print(W)"
   ]
  },
  {
   "cell_type": "code",
   "execution_count": null,
   "metadata": {},
   "outputs": [],
   "source": [
    "# 範例 20-5c：使用 arrange() 與 reshape() 生成陣列  \n",
    "A=np.arange(1,13,1)\n",
    "X=A.reshape((4,3))\n",
    "print(A)\n",
    "print(X)"
   ]
  },
  {
   "cell_type": "code",
   "execution_count": null,
   "metadata": {},
   "outputs": [],
   "source": [
    "# 練習 20-5c：使用 arrange() 與 reshape() 生成一個 6*4 陣列 "
   ]
  },
  {
   "cell_type": "code",
   "execution_count": null,
   "metadata": {},
   "outputs": [],
   "source": [
    "# 範例 20-5d：使用 linspace() 生成等距資料陣列\n",
    "\n",
    "C=np.arange(1,4,0.67)\n",
    "D=np.linspace(1,3,4)\n",
    "print(C)\n",
    "print(D)"
   ]
  },
  {
   "cell_type": "code",
   "execution_count": null,
   "metadata": {},
   "outputs": [],
   "source": [
    "# 練習 20-5d：使用 linspace() 生成一個[0,2]區間八等分點坐標陣列 "
   ]
  },
  {
   "cell_type": "code",
   "execution_count": null,
   "metadata": {},
   "outputs": [],
   "source": [
    "# 範例 20-5e：其他特殊資料陣列的生成\n",
    "    # 等分圓問題\n",
    "from numpy import pi\n",
    "\n",
    "E=np.linspace(0,2*pi,9)\n",
    "print(E)\n"
   ]
  },
  {
   "cell_type": "code",
   "execution_count": null,
   "metadata": {},
   "outputs": [],
   "source": [
    "# 範例 20-6：陣列物件屬性的方法\n",
    "X=np.arange(12).reshape((3,4))\n",
    "\n",
    "print('矩陣X的維度：',X.ndim)\n",
    "print('矩陣X的尺寸：',X.shape)\n",
    "print('矩陣X的大小(元素個數)：',X.size)\n",
    "print('矩陣X的資料類型：',X.dtype)\n",
    "print('矩陣X的資料類型的大小：',X.dtype.itemsize)\n",
    "print('矩陣X的記憶體：',X.data)\n",
    "\n"
   ]
  },
  {
   "cell_type": "code",
   "execution_count": null,
   "metadata": {},
   "outputs": [],
   "source": [
    "# 練習 20-6：使用上述方法顯示 20-5 案例的屬性 "
   ]
  },
  {
   "cell_type": "code",
   "execution_count": null,
   "metadata": {},
   "outputs": [],
   "source": [
    "# 範例 20-7：陣列的基本運算\n",
    "\n",
    "X=np.arange(0,12,1).reshape(4,3)\n",
    "Y=np.arange(0,-12,-1).reshape(4,3)\n",
    "print('X=\\n',X)\n",
    "print('Y=\\n',Y)\n",
    "print('矩陣X的縮放：3倍\\n',3*X)\n",
    "print('矩陣Y的縮放：-0.5倍\\n',-0.5*Y)\n",
    "print('矩陣X與Y的和：\\n',X+Y)\n",
    "print('矩陣X與Y的線性結合：3X-2Y\\n',3*X-2*Y)\n",
    "print('矩陣X與Y的乘積：X*Y\\n',X*Y)         #留意其結果\n"
   ]
  },
  {
   "cell_type": "code",
   "execution_count": null,
   "metadata": {},
   "outputs": [],
   "source": [
    "# 練習 20-7：生成兩個相同尺寸陣列並練習上述運算"
   ]
  },
  {
   "cell_type": "code",
   "execution_count": null,
   "metadata": {},
   "outputs": [],
   "source": [
    "# 範例 20-8 ：陣列轉置的兩種方法\n",
    "\n",
    "X=np.arange(9).reshape((3,3))\n",
    "Y=X.transpose()\n",
    "Z=X.T\n",
    "print(X)\n",
    "print(Y)\n",
    "print(Z)\n"
   ]
  },
  {
   "cell_type": "code",
   "execution_count": null,
   "metadata": {},
   "outputs": [],
   "source": [
    "# 範例 20-8：陣列的行列式(適用方陣)\n",
    "\n",
    "X=np.arange(1,5,1).reshape((2,2))\n",
    "Xdet=np.linalg.det(X)\n",
    "print(X)\n",
    "print(Xdet)"
   ]
  },
  {
   "cell_type": "code",
   "execution_count": null,
   "metadata": {},
   "outputs": [],
   "source": [
    "# 範例 20-9：反陣列\n",
    "\n",
    "A=np.array([[1,2],[3,4]])\n",
    "B=np.linalg.inv(A)\n",
    "print(A)\n",
    "print(B)\n",
    "O1=A*B\n",
    "O2=A.dot(B)\n",
    "print(O1)\n",
    "print(O2)"
   ]
  },
  {
   "cell_type": "code",
   "execution_count": null,
   "metadata": {},
   "outputs": [],
   "source": []
  },
  {
   "cell_type": "code",
   "execution_count": null,
   "metadata": {},
   "outputs": [],
   "source": [
    "# matplotlib函數庫資訊\n",
    "    # https://matplotlib.org/tutorials/introductory/sample_plots.html\n",
    "\n",
    "# numpy 函數庫資訊\n",
    "    # https://numpy.org/devdocs/user/quickstart.html\n",
    "    "
   ]
  },
  {
   "cell_type": "code",
   "execution_count": null,
   "metadata": {},
   "outputs": [],
   "source": [
    "# 範例 20-4\n",
    "import matplotlib.pyplot as plt\n",
    "import numpy as np\n",
    "\n",
    "np.random.seed(20191217)\n",
    "data = np.random.randn(2, 100)\n",
    "\n",
    "fig, axs = plt.subplots(2, 2, figsize=(5, 5))\n",
    "axs[0, 0].hist(data[0])\n",
    "axs[1, 0].scatter(data[0], data[1])\n",
    "axs[0, 1].plot(data[0], data[1])\n",
    "axs[1, 1].hist2d(data[0], data[1])\n",
    "\n",
    "plt.show()"
   ]
  }
 ],
 "metadata": {
  "kernelspec": {
   "display_name": "Python 3",
   "language": "python",
   "name": "python3"
  },
  "language_info": {
   "codemirror_mode": {
    "name": "ipython",
    "version": 3
   },
   "file_extension": ".py",
   "mimetype": "text/x-python",
   "name": "python",
   "nbconvert_exporter": "python",
   "pygments_lexer": "ipython3",
   "version": "3.7.4"
  }
 },
 "nbformat": 4,
 "nbformat_minor": 2
}
