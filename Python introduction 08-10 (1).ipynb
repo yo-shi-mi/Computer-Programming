{
 "cells": [
  {
   "cell_type": "code",
   "execution_count": null,
   "metadata": {},
   "outputs": [],
   "source": [
    "# 資料類型：第六章串列(list)、第八章元組(tuple)、第九章字典(dict)、第十章集合(set)\n"
   ]
  },
  {
   "cell_type": "code",
   "execution_count": null,
   "metadata": {},
   "outputs": [],
   "source": [
    "# 6、串列與方法\n",
    "\n",
    "# 6-1 串列的定義與切片\n",
    "words=['a','b','c','d','e','f','g','h','i','j']\n",
    "parts=words[1:5:2]\n",
    "print(parts)"
   ]
  },
  {
   "cell_type": "code",
   "execution_count": null,
   "metadata": {},
   "outputs": [],
   "source": [
    "# 6-2 串列的長度\n",
    "n=len(words)\n",
    "print(n)"
   ]
  },
  {
   "cell_type": "code",
   "execution_count": null,
   "metadata": {},
   "outputs": [],
   "source": [
    "# 6-3 串列的修改與合併\n",
    "students=['Chen','Lin','Tseng','Cheng']\n",
    "students[1]='Yang'\n",
    "print(students)\n",
    "\n",
    "students=students+['Hui']\n",
    "print(students)"
   ]
  },
  {
   "cell_type": "code",
   "execution_count": null,
   "metadata": {},
   "outputs": [],
   "source": [
    "# 6-4 串列的方法：查詢\n",
    "dir(students)\n"
   ]
  },
  {
   "cell_type": "code",
   "execution_count": null,
   "metadata": {},
   "outputs": [],
   "source": [
    "# 6-5 串列的方法：移除\n",
    "print('Before removed: ',students)\n",
    "students.remove('Chen')\n",
    "print('After removed:',students)\n"
   ]
  },
  {
   "cell_type": "code",
   "execution_count": null,
   "metadata": {},
   "outputs": [],
   "source": [
    "# 6-6 串列的倒排：利用切片與方法\n",
    "students=students[::-1]\n",
    "print(students)\n",
    "students.reverse()\n",
    "print(students)"
   ]
  },
  {
   "cell_type": "code",
   "execution_count": null,
   "metadata": {},
   "outputs": [],
   "source": [
    "# 6-7 串列的插入：利用切片與方法\n",
    "students=students[:2:]+['Chang']+students[2::]\n",
    "print(students)\n",
    "students.insert(2,'Hong')\n",
    "print(students)"
   ]
  },
  {
   "cell_type": "code",
   "execution_count": null,
   "metadata": {},
   "outputs": [],
   "source": [
    "# 6-8 數值串列的統計：利用函數\n",
    "scores=[82,90,96,80,92]\n",
    "print('最高分:',max(scores))\n",
    "print('最低分:',min(scores))\n",
    "print('總分:',sum(scores))\n",
    "print('平均分數：',sum(scores)/len(scores))"
   ]
  },
  {
   "cell_type": "code",
   "execution_count": null,
   "metadata": {},
   "outputs": [],
   "source": [
    "# 6-9 串列的處理：其他方法\n",
    "students.append('Jai')\n",
    "\n",
    "students.insert(1,'Yeh')\n",
    "\n",
    "students.pop(2)\n",
    "\n",
    "students.remove('Chen')\n",
    "\n",
    "students.sort()\n",
    "\n",
    "m=students.index('Chang')\n",
    "\n",
    "name=['chu','Lee']\n",
    "students.extend(name)"
   ]
  },
  {
   "cell_type": "code",
   "execution_count": null,
   "metadata": {},
   "outputs": [],
   "source": [
    "# 6-10 串列的應用：搭配迴圈\n",
    "for name in students:\n",
    "    print(name)"
   ]
  },
  {
   "cell_type": "code",
   "execution_count": null,
   "metadata": {},
   "outputs": [],
   "source": [
    "# 8、元組\n",
    "\n",
    "# 8-1 元組的定義\n",
    "\n",
    "tuple01=(11,13,17,23,29,31,37,41,43,53,59)\n",
    "tuple02=('Chen','123456','10701',80,90,95,82,92)\n",
    "tuple03=('all pass')         #元組與字串的區隔，逗號\n",
    "\n",
    "print(type(tuple01))\n",
    "print(type(tuple02))\n",
    "print(type(tuple03))"
   ]
  },
  {
   "cell_type": "code",
   "execution_count": null,
   "metadata": {},
   "outputs": [],
   "source": [
    "# 8-2 元組的元素與切片\n",
    "num=tuple01[3]\n",
    "print(num)\n",
    "\n",
    "tuple04=tuple01[::-1]\n",
    "print(tuple04)"
   ]
  },
  {
   "cell_type": "code",
   "execution_count": null,
   "metadata": {},
   "outputs": [],
   "source": [
    "# 8-3 元組的長度\n",
    "n=len(tuple01)\n",
    "print(n)"
   ]
  },
  {
   "cell_type": "code",
   "execution_count": null,
   "metadata": {},
   "outputs": [],
   "source": [
    "# 8-4 元組的修改與合併：無法修改\n",
    "tuple01[1]=12\n",
    "print(tuple01)\n",
    "\n",
    "tuple04=(2,3,5,8)\n",
    "prime_tuple=tuple04+tuple01\n",
    "print(prime_tuple)"
   ]
  },
  {
   "cell_type": "code",
   "execution_count": null,
   "metadata": {},
   "outputs": [],
   "source": [
    "# 8-5 元組的方法查詢\n",
    "dir(tuple01)"
   ]
  },
  {
   "cell_type": "code",
   "execution_count": null,
   "metadata": {},
   "outputs": [],
   "source": [
    "# 8-6 元組的方法使用：指標\n",
    "n=tuple01.index(23)\n",
    "print(n)\n",
    "m=tuple01.count(23)\n",
    "print(m)"
   ]
  },
  {
   "cell_type": "code",
   "execution_count": null,
   "metadata": {},
   "outputs": [],
   "source": [
    "# 8-7 數值元組的統計：利用函數\n",
    "tuple03=(11,13,17,19,23,29,31,37,41,43,53,59,61,67,71,73,79,83,89,97)\n",
    "print('二位數的質數最大為：',max(tuple03))\n",
    "print('二位數的質數最小為：',min(tuple03))\n",
    "print('二位數的質數總合為：',sum(tuple03))"
   ]
  },
  {
   "cell_type": "code",
   "execution_count": null,
   "metadata": {},
   "outputs": [],
   "source": [
    "# 8-8 元組的轉換\n",
    "tuple02=('Chen','123456','10701',80,90,95,82,92)\n",
    "list02=list(tuple02)\n",
    "print('元組案例：',tuple02)\n",
    "print('元祖轉換為串列：',list02)\n",
    "\n",
    "tuple01=tuple(list02)\n",
    "print('串列再轉換為元組：',tuple02)"
   ]
  },
  {
   "cell_type": "code",
   "execution_count": null,
   "metadata": {},
   "outputs": [],
   "source": [
    "# 8-9 元組的修改：利用轉換\n",
    "tuple01=('Chen','123456','10701',80,90,95,82,92)\n",
    "print('原來元組：',tuple01)\n",
    "list01=list(tuple01)\n",
    "list01[0]='Lin'\n",
    "tuple01=tuple(list01)\n",
    "print('經轉換修改的元組：',tuple01)"
   ]
  },
  {
   "cell_type": "code",
   "execution_count": null,
   "metadata": {},
   "outputs": [],
   "source": [
    "# 8-10 元組的應用：使用迴圈\n",
    "for num in tuple01:\n",
    "    print(num)\n"
   ]
  },
  {
   "cell_type": "code",
   "execution_count": null,
   "metadata": {},
   "outputs": [],
   "source": [
    "# 9 字典\n",
    "\n",
    "# 9-1 字典的定義\n",
    "PG01={'Attribute':'fire','Attack':80,'Defence':70,'Stamina':90}\n",
    "print(type(PG01))\n",
    "print(PG01)\n"
   ]
  },
  {
   "cell_type": "code",
   "execution_count": null,
   "metadata": {},
   "outputs": [],
   "source": [
    "# 9-2 字典的元素與長度\n",
    "Stock01={'可樂':30,'沙士':18,'雪碧':12,'芬達':10,'舒跑':28}\n",
    "print('舒跑的庫存量：',Stock01['舒跑'])\n",
    "print('飲料的種類：',len(Stock01))"
   ]
  },
  {
   "cell_type": "code",
   "execution_count": null,
   "metadata": {},
   "outputs": [],
   "source": [
    "# 9-3 字典資料的應用：使用迴圈找出出鍵與值\n",
    "Stock01={'可樂':30,'沙士':18,'雪碧':12,'芬達':10,'舒跑':28}\n",
    "\n",
    "\n",
    "for drink,num in Stock01.items():\n",
    "    print('%s的庫存%2d瓶'%(drink,num))   "
   ]
  },
  {
   "cell_type": "code",
   "execution_count": null,
   "metadata": {},
   "outputs": [],
   "source": [
    "# 9-4 字典的修改與新增\n",
    "Stock01['可樂']=54\n",
    "print(Stock01)\n",
    "\n",
    "Stock01['養樂多']=24\n",
    "print(Stock01)\n"
   ]
  },
  {
   "cell_type": "code",
   "execution_count": null,
   "metadata": {},
   "outputs": [],
   "source": [
    "# 9-5 字典的方法查詢\n",
    "dir(Stock01)"
   ]
  },
  {
   "cell_type": "code",
   "execution_count": null,
   "metadata": {},
   "outputs": [],
   "source": [
    "# 9-6-1 字典的方法使用：清除字典資料使用 clear\n",
    "Stock01.clear()\n",
    "print(Stock01)\n",
    "\n",
    "# del Stock01\n",
    "# print(print(Stock01))"
   ]
  },
  {
   "cell_type": "code",
   "execution_count": null,
   "metadata": {},
   "outputs": [],
   "source": [
    "# 9-6-2 字典的方法使用：複製字典資料使用 copy\n",
    "Stock01={'可樂':30,'沙士':18,'雪碧':12,'芬達':10,'舒跑':50}\n",
    "drinks=Stock01.copy()\n",
    "print(drinks)"
   ]
  },
  {
   "cell_type": "code",
   "execution_count": null,
   "metadata": {},
   "outputs": [],
   "source": [
    "# 9-6-3 字典的方法使用：蒐集字典中的鍵使用 keys\n",
    "Stock01={'可樂':30,'沙士':18,'雪碧':12,'芬達':10,'舒跑':50}\n",
    "print(Stock01.keys())\n",
    "\n",
    "for key in Stock01.keys():\n",
    "    print(key)"
   ]
  },
  {
   "cell_type": "code",
   "execution_count": null,
   "metadata": {},
   "outputs": [],
   "source": [
    "# 9-6-4 字典的方法使用：蒐集字典中的值使用 values\n",
    "Stock01={'可樂':30,'沙士':18,'雪碧':12,'芬達':10,'舒跑':50}\n",
    "print(Stock01.values())\n",
    "\n",
    "for value in Stock01.values():\n",
    "    print(value)\n"
   ]
  },
  {
   "cell_type": "code",
   "execution_count": null,
   "metadata": {},
   "outputs": [],
   "source": [
    "# 9-6-5 字典的方法使用：蒐集字典中的鍵與值使用 items\n",
    "Stock01={'可樂':30,'沙士':18,'雪碧':12,'芬達':10,'舒跑':50}\n",
    "print(Stock01.items())\n",
    "\n",
    "for key,value in Stock01.items():\n",
    "    print(key,value)"
   ]
  },
  {
   "cell_type": "code",
   "execution_count": null,
   "metadata": {},
   "outputs": [],
   "source": [
    "# 9-6-6 字典的方法使用：取得字典特定鍵的值使用 get\n",
    "Stock01={'可樂':30,'沙士':18,'雪碧':12,'芬達':10,'舒跑':50}\n",
    "n=Stock01.get('可樂',0)\n",
    "print(n)\n",
    "m=Stock01.get('養樂多',0)  #如果沒有該項，傳回預設值(此處為0)\n",
    "print(m)"
   ]
  },
  {
   "cell_type": "code",
   "execution_count": null,
   "metadata": {},
   "outputs": [],
   "source": [
    "# 9-7 創建字典的方法使用：使用特定 key產生字典，使用 fromkeys\n",
    "keys=['Attribute', 'Attack', 'Defence', 'Stamina']\n",
    "PG_001=dict.fromkeys(keys)\n",
    "print(PG_001)"
   ]
  },
  {
   "cell_type": "code",
   "execution_count": null,
   "metadata": {},
   "outputs": [],
   "source": [
    "m=['姓名','座號','國語','數學','社會','自然','英語']\n",
    "grade=dict.fromkeys(m)\n",
    "for key,value in grade.items():\n",
    "    y=input('請輸入'+key)\n",
    "    grade[key]=y\n",
    "print(grade)"
   ]
  },
  {
   "cell_type": "code",
   "execution_count": null,
   "metadata": {},
   "outputs": [],
   "source": [
    "m={'姓名':'李曉晴','座號':23,'國語':99,'數學':95,'社會':99,'自然':100,'英語':100}\n",
    "for key,value in m.items():\n",
    "    print(key,value)\n",
    "print(list(m.values()))"
   ]
  },
  {
   "cell_type": "code",
   "execution_count": 2,
   "metadata": {},
   "outputs": [
    {
     "name": "stdout",
     "output_type": "stream",
     "text": [
      "<class 'set'>\n",
      "{'cherry', 'apple', 'grap', 'durian', 'melon', 'banana'}\n",
      "{1, 2, 4, 5, 6, 9}\n"
     ]
    }
   ],
   "source": [
    "# 10 集合\n",
    "\n",
    "# 10-1 集合的定義\n",
    "\n",
    "fruits={'apple','melon','grap','cherry','banana','durian','apple'}\n",
    "print(type(fruits))\n",
    "print(fruits)\n",
    "\n",
    "pi_numbers={1,4,1,5,9,2,5,6}\n",
    "print(pi_numbers)\n"
   ]
  },
  {
   "cell_type": "code",
   "execution_count": null,
   "metadata": {},
   "outputs": [],
   "source": [
    "# 10-2 集合資料的應用：使用迴圈\n",
    "for num in pi_numbers:\n",
    "    print(num)"
   ]
  },
  {
   "cell_type": "code",
   "execution_count": null,
   "metadata": {},
   "outputs": [],
   "source": [
    "# 10-3 集合的運算\n",
    "A={1,2,3,4,5}\n",
    "B={2,4,6,8}\n",
    "ABint=A&B\n",
    "ABuni=A|B\n",
    "ABdif=A-B\n",
    "BAdif=B-A\n",
    "ABsdif=A^B\n",
    "print('集合A：',A)\n",
    "print('集合B：',B)\n",
    "print('A與B的交集：',ABint)\n",
    "print('A與B的聯集：',ABuni)\n",
    "print('A與B的差集：',ABdif)\n",
    "print('B與A的差集：',BAdif)\n",
    "print('A與B的對稱差集：', ABsdif)"
   ]
  },
  {
   "cell_type": "code",
   "execution_count": 3,
   "metadata": {},
   "outputs": [
    {
     "data": {
      "text/plain": [
       "['__and__',\n",
       " '__class__',\n",
       " '__contains__',\n",
       " '__delattr__',\n",
       " '__dir__',\n",
       " '__doc__',\n",
       " '__eq__',\n",
       " '__format__',\n",
       " '__ge__',\n",
       " '__getattribute__',\n",
       " '__gt__',\n",
       " '__hash__',\n",
       " '__iand__',\n",
       " '__init__',\n",
       " '__ior__',\n",
       " '__isub__',\n",
       " '__iter__',\n",
       " '__ixor__',\n",
       " '__le__',\n",
       " '__len__',\n",
       " '__lt__',\n",
       " '__ne__',\n",
       " '__new__',\n",
       " '__or__',\n",
       " '__rand__',\n",
       " '__reduce__',\n",
       " '__reduce_ex__',\n",
       " '__repr__',\n",
       " '__ror__',\n",
       " '__rsub__',\n",
       " '__rxor__',\n",
       " '__setattr__',\n",
       " '__sizeof__',\n",
       " '__str__',\n",
       " '__sub__',\n",
       " '__subclasshook__',\n",
       " '__xor__',\n",
       " 'add',\n",
       " 'clear',\n",
       " 'copy',\n",
       " 'difference',\n",
       " 'difference_update',\n",
       " 'discard',\n",
       " 'intersection',\n",
       " 'intersection_update',\n",
       " 'isdisjoint',\n",
       " 'issubset',\n",
       " 'issuperset',\n",
       " 'pop',\n",
       " 'remove',\n",
       " 'symmetric_difference',\n",
       " 'symmetric_difference_update',\n",
       " 'union',\n",
       " 'update']"
      ]
     },
     "execution_count": 3,
     "metadata": {},
     "output_type": "execute_result"
    }
   ],
   "source": [
    "# 10-4 集合的方法查詢\n",
    "dir(pi_numbers)"
   ]
  },
  {
   "cell_type": "code",
   "execution_count": null,
   "metadata": {},
   "outputs": [],
   "source": [
    "# 10-4-1 集合的方法使用：交集後更新使用 intersection_update()\n",
    "A={1,2,3,4,5}\n",
    "B={2,4,6,8}\n",
    "print('集合A：',A)\n",
    "print('集合B：',B)\n",
    "A.intersection_update(B)\n",
    "print('集合A與集合B交集後更新集合A',A)"
   ]
  },
  {
   "cell_type": "code",
   "execution_count": null,
   "metadata": {},
   "outputs": [],
   "source": [
    "# 10-4-2 集合的方法使用：聯集後更新使用 update()\n",
    "A={1,2,3,4,5}\n",
    "B={2,4,6,8}\n",
    "print('集合A：',A)\n",
    "print('集合B：',B)\n",
    "A.update(B)\n",
    "print('集合A加入集合B後更新集合A',A)"
   ]
  },
  {
   "cell_type": "code",
   "execution_count": null,
   "metadata": {},
   "outputs": [],
   "source": [
    "# 10-4-3 集合的方法使用：差集後更新使用 difference_update()\n",
    "A={1,2,3,4,5}\n",
    "B={2,4,6,8}\n",
    "print('集合A：',A)\n",
    "print('集合B：',B)\n",
    "A.difference_update(B)\n",
    "print('集合A移除集合B後更新集合A',A)"
   ]
  },
  {
   "cell_type": "code",
   "execution_count": null,
   "metadata": {},
   "outputs": [],
   "source": [
    "# 10-4-3 集合的方法使用：聯集並去交集後更新使用 symmetric_difference_update()\n",
    "A={1,2,3,4,5}\n",
    "B={2,4,6,8}\n",
    "print('集合A：',A)\n",
    "print('集合B：',B)\n",
    "A.symmetric_difference_update(B)\n",
    "print('集合A加入集合B並移除交集後更新集合A',A)"
   ]
  },
  {
   "cell_type": "code",
   "execution_count": null,
   "metadata": {},
   "outputs": [],
   "source": []
  }
 ],
 "metadata": {
  "kernelspec": {
   "display_name": "Python 3",
   "language": "python",
   "name": "python3"
  },
  "language_info": {
   "codemirror_mode": {
    "name": "ipython",
    "version": 3
   },
   "file_extension": ".py",
   "mimetype": "text/x-python",
   "name": "python",
   "nbconvert_exporter": "python",
   "pygments_lexer": "ipython3",
   "version": "3.7.4"
  }
 },
 "nbformat": 4,
 "nbformat_minor": 2
}
