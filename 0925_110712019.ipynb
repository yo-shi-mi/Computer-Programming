{
 "cells": [
  {
   "cell_type": "code",
   "execution_count": null,
   "metadata": {},
   "outputs": [],
   "source": [
    "# 3 Python的基本資料型態\n",
    "#數值資料型態(numeric type)：整數(int)、浮點數(float)和複數(complex number)\n",
    "#布林資料型態(Boolean type)\n",
    "#文字序列資料型態(text sequence type): 字串(string type)\n",
    "\n",
    "#序列資料型態(sequence type)：列表(list)、元組(tuple)\n",
    "#對應資料型態(mapping type)：字典(dict)\n",
    "#集合資料型態(set type)：集合(set)、凍結集合(frozenset)"
   ]
  },
  {
   "cell_type": "code",
   "execution_count": null,
   "metadata": {},
   "outputs": [],
   "source": []
  },
  {
   "cell_type": "code",
   "execution_count": 2,
   "metadata": {},
   "outputs": [
    {
     "name": "stdout",
     "output_type": "stream",
     "text": [
      "10000\n",
      "<class 'int'>\n",
      "14307.687835915809\n",
      "<class 'float'>\n"
     ]
    }
   ],
   "source": [
    "# 3-1資料型態的檢視\n",
    "# 內建函式type()\n",
    "# 範例 3-1-1\n",
    "\n",
    "a=10000             #本金\n",
    "r=0.01              #月息一分\n",
    "t=36                #三年共36月 \n",
    "p=a*(1+r)**t        #按月複利計算\n",
    "\n",
    "print(a)\n",
    "print(type(a))      #輸出變數a的資料型態\n",
    "\n",
    "print(p)\n",
    "print(type(p))      #輸出變數p的資料型態"
   ]
  },
  {
   "cell_type": "code",
   "execution_count": 5,
   "metadata": {},
   "outputs": [
    {
     "name": "stdout",
     "output_type": "stream",
     "text": [
      "<class 'int'>\n",
      "<class 'float'>\n"
     ]
    }
   ],
   "source": [
    "# 練習 3-1-1 給定變數 x=10, y=10.0，並以type()函式檢視變數的資料類型\n",
    "x=10\n",
    "y=10.0\n",
    "print(type(x))\n",
    "print(type(y))"
   ]
  },
  {
   "cell_type": "code",
   "execution_count": 6,
   "metadata": {},
   "outputs": [
    {
     "name": "stdout",
     "output_type": "stream",
     "text": [
      "50.0\n",
      "<class 'int'>\n",
      "<class 'int'>\n",
      "<class 'float'>\n"
     ]
    }
   ],
   "source": [
    "# 3-2 數值資料型態\n",
    "# 3-2-1 整數與浮點數的運算\n",
    "\n",
    "# 範例 3-2-1-1：除法的預設資料型態\n",
    "a=100\n",
    "b=2\n",
    "c=a/b\n",
    "print(c)\n",
    "\n",
    "print(type(a))\n",
    "print(type(b))\n",
    "print(type(c))"
   ]
  },
  {
   "cell_type": "code",
   "execution_count": 1,
   "metadata": {},
   "outputs": [
    {
     "name": "stdout",
     "output_type": "stream",
     "text": [
      "50.0\n",
      "<class 'float'>\n",
      "<class 'int'>\n",
      "<class 'float'>\n"
     ]
    }
   ],
   "source": [
    "# 範例 3-2-1-2：設定浮點數資料型態\n",
    "a=100.0\n",
    "b=2\n",
    "c=a/b\n",
    "print(c)\n",
    "\n",
    "print(type(a))\n",
    "print(type(b))\n",
    "print(type(c))"
   ]
  },
  {
   "cell_type": "code",
   "execution_count": 7,
   "metadata": {},
   "outputs": [
    {
     "name": "stdout",
     "output_type": "stream",
     "text": [
      "102.0\n",
      "<class 'float'>\n",
      "<class 'int'>\n",
      "<class 'float'>\n"
     ]
    }
   ],
   "source": [
    "# 範例 3-2-1-3：整數與浮點數混合採後者\n",
    "a=100.0\n",
    "b=2\n",
    "c=a+b\n",
    "print(c)\n",
    "\n",
    "print(type(a))\n",
    "print(type(b))\n",
    "print(type(c))"
   ]
  },
  {
   "cell_type": "code",
   "execution_count": 9,
   "metadata": {},
   "outputs": [
    {
     "name": "stdout",
     "output_type": "stream",
     "text": [
      "11.11111111111111\n",
      "<class 'float'>\n"
     ]
    }
   ],
   "source": [
    "# 練習 3-2-1-1 給定整數與浮點數變數各一個，再以運算產生第三個變數，並以type()函式檢視變數的資料類型\n",
    "a=50\n",
    "b=4.5\n",
    "c=a/b\n",
    "print(c)\n",
    "print(type(c))"
   ]
  },
  {
   "cell_type": "code",
   "execution_count": 10,
   "metadata": {},
   "outputs": [
    {
     "name": "stdout",
     "output_type": "stream",
     "text": [
      "15\n",
      "<class 'int'>\n"
     ]
    }
   ],
   "source": [
    "# 3-2-2 二進位整數與轉換函數 bin()\n",
    "\n",
    "# 範例 3-2-2-1：給定二進位整數\n",
    "x=0b1111\n",
    "print(x)\n",
    "print(type(x))"
   ]
  },
  {
   "cell_type": "code",
   "execution_count": 11,
   "metadata": {},
   "outputs": [
    {
     "name": "stdout",
     "output_type": "stream",
     "text": [
      "0b11110\n",
      "<class 'int'>\n"
     ]
    }
   ],
   "source": [
    "# 範例 3-2-2-2：轉換成二進位整數\n",
    "x=30\n",
    "y=bin(x)\n",
    "print(y)\n",
    "print(type(x))"
   ]
  },
  {
   "cell_type": "code",
   "execution_count": 13,
   "metadata": {},
   "outputs": [
    {
     "name": "stdout",
     "output_type": "stream",
     "text": [
      "0b1000001\n",
      "<class 'int'>\n"
     ]
    }
   ],
   "source": [
    "# 練習 3-2-2-1 給定整數並將其轉換為二進位，輸出結果再以type()函式檢視變數的資料類型\n",
    "x=65\n",
    "y=bin(x)\n",
    "print(y)\n",
    "print(type(x))"
   ]
  },
  {
   "cell_type": "code",
   "execution_count": 14,
   "metadata": {},
   "outputs": [
    {
     "name": "stdout",
     "output_type": "stream",
     "text": [
      "585\n",
      "<class 'int'>\n"
     ]
    }
   ],
   "source": [
    "# 3-2-3 八進位整數與轉換函數 oct()\n",
    "\n",
    "# 範例 3-2-3-1：給定八進位整數\n",
    "x=0o1111\n",
    "print(x)\n",
    "print(type(x))"
   ]
  },
  {
   "cell_type": "code",
   "execution_count": 15,
   "metadata": {},
   "outputs": [
    {
     "name": "stdout",
     "output_type": "stream",
     "text": [
      "0o36\n",
      "<class 'int'>\n"
     ]
    }
   ],
   "source": [
    "# 範例 3-2-3-2：轉換成八進位整數\n",
    "x=30\n",
    "y=oct(x)\n",
    "print(y)\n",
    "print(type(x))"
   ]
  },
  {
   "cell_type": "code",
   "execution_count": 16,
   "metadata": {},
   "outputs": [
    {
     "name": "stdout",
     "output_type": "stream",
     "text": [
      "0o126\n",
      "<class 'int'>\n"
     ]
    }
   ],
   "source": [
    "# 練習 3-2-3-1 給定整數並將其轉換為八進位，輸出結果再以type()函式檢視變數的資料類型\n",
    "x=86\n",
    "y=oct(x)\n",
    "print(y)\n",
    "print(type(x))"
   ]
  },
  {
   "cell_type": "code",
   "execution_count": 18,
   "metadata": {},
   "outputs": [
    {
     "name": "stdout",
     "output_type": "stream",
     "text": [
      "4369\n",
      "<class 'int'>\n"
     ]
    }
   ],
   "source": [
    "# 3-2-4 十六進位整數與轉換函數 hex()\n",
    "\n",
    "# 範例 3-2-4-1：給定十六進位整數\n",
    "x=0x1111\n",
    "print(x)\n",
    "print(type(x))"
   ]
  },
  {
   "cell_type": "code",
   "execution_count": 19,
   "metadata": {},
   "outputs": [
    {
     "name": "stdout",
     "output_type": "stream",
     "text": [
      "0x1e\n",
      "<class 'int'>\n"
     ]
    }
   ],
   "source": [
    "# 範例 3-2-4-2：轉換成十六進位整數\n",
    "x=30\n",
    "y=hex(x)\n",
    "print(y)\n",
    "print(type(x))"
   ]
  },
  {
   "cell_type": "code",
   "execution_count": 20,
   "metadata": {},
   "outputs": [
    {
     "name": "stdout",
     "output_type": "stream",
     "text": [
      "0x34\n",
      "<class 'int'>\n"
     ]
    }
   ],
   "source": [
    "# 練習 3-2-4-1 給定整數並將其轉換為十六進位，輸出結果再以type()函式檢視變數的資料類型\n",
    "x=52\n",
    "y=hex(x)\n",
    "print(y)\n",
    "print(type(x))"
   ]
  },
  {
   "cell_type": "code",
   "execution_count": 2,
   "metadata": {},
   "outputs": [
    {
     "name": "stdout",
     "output_type": "stream",
     "text": [
      "0b100011\n",
      "0o43\n",
      "0x23\n"
     ]
    }
   ],
   "source": [
    "x=35\n",
    "a=bin(x)\n",
    "b=oct(x)\n",
    "c=hex(x)\n",
    "print(a)\n",
    "print(b)\n",
    "print(c)"
   ]
  },
  {
   "cell_type": "code",
   "execution_count": 6,
   "metadata": {},
   "outputs": [
    {
     "name": "stdout",
     "output_type": "stream",
     "text": [
      "10\n",
      "520\n",
      "4112\n"
     ]
    }
   ],
   "source": [
    "x=0b1010\n",
    "print(x)\n",
    "y=0o1010\n",
    "print(y)\n",
    "z=0x1010\n",
    "print(z)"
   ]
  },
  {
   "cell_type": "code",
   "execution_count": 7,
   "metadata": {},
   "outputs": [
    {
     "name": "stdout",
     "output_type": "stream",
     "text": [
      "3.605551275463989\n",
      "<class 'float'>\n",
      "3\n",
      "<class 'int'>\n"
     ]
    }
   ],
   "source": [
    "# 3-2-5 強制轉換為整數或浮點數\n",
    "\n",
    "# 範例 3-2-5-1：強制轉換為整數\n",
    "x=3\n",
    "y=(4*x+1)**(0.5)\n",
    "print(y)\n",
    "print(type(y))\n",
    "\n",
    "z=int(y)\n",
    "print(z)\n",
    "print(type(z))\n"
   ]
  },
  {
   "cell_type": "code",
   "execution_count": 8,
   "metadata": {},
   "outputs": [
    {
     "name": "stdout",
     "output_type": "stream",
     "text": [
      "12.0\n",
      "<class 'float'>\n"
     ]
    }
   ],
   "source": [
    "# 範例 3-2-5-1：強制轉換為浮點數\n",
    "x=3\n",
    "y=4*float(x)\n",
    "print(y)\n",
    "print(type(y))\n"
   ]
  },
  {
   "cell_type": "code",
   "execution_count": 9,
   "metadata": {},
   "outputs": [
    {
     "name": "stdout",
     "output_type": "stream",
     "text": [
      "14\n",
      "<class 'int'>\n"
     ]
    }
   ],
   "source": [
    "# 練習 3-2-5-1 下列程式碼輸出結果\n",
    "x=5\n",
    "y=int((4*x+1)**(0.5))\n",
    "z=2*x+y\n",
    "print(z)\n",
    "print(type(z))"
   ]
  },
  {
   "cell_type": "code",
   "execution_count": 10,
   "metadata": {},
   "outputs": [
    {
     "name": "stdout",
     "output_type": "stream",
     "text": [
      "3375\n",
      "<class 'int'>\n",
      "3375\n",
      "<class 'int'>\n"
     ]
    }
   ],
   "source": [
    "x=5\n",
    "y=(3*x)**3\n",
    "print(y)\n",
    "print(type(y))\n",
    "\n",
    "z=int(y)\n",
    "print(z)\n",
    "print(type(z))"
   ]
  },
  {
   "cell_type": "code",
   "execution_count": 16,
   "metadata": {},
   "outputs": [
    {
     "name": "stdout",
     "output_type": "stream",
     "text": [
      "1.681792830507429\n",
      "<class 'float'>\n"
     ]
    }
   ],
   "source": [
    "x=8\n",
    "y=float(x)**0.25\n",
    "print(y)\n",
    "print(type(y))"
   ]
  },
  {
   "cell_type": "code",
   "execution_count": 12,
   "metadata": {},
   "outputs": [
    {
     "ename": "NameError",
     "evalue": "name 'true' is not defined",
     "output_type": "error",
     "traceback": [
      "\u001b[1;31m---------------------------------------------------------------------------\u001b[0m",
      "\u001b[1;31mNameError\u001b[0m                                 Traceback (most recent call last)",
      "\u001b[1;32m<ipython-input-12-a6fa60396b53>\u001b[0m in \u001b[0;36m<module>\u001b[1;34m\u001b[0m\n\u001b[0;32m      3\u001b[0m \u001b[1;31m# 範例 3-3-1：給定布林資料型態\u001b[0m\u001b[1;33m\u001b[0m\u001b[1;33m\u001b[0m\u001b[1;33m\u001b[0m\u001b[0m\n\u001b[0;32m      4\u001b[0m \u001b[0mx\u001b[0m\u001b[1;33m=\u001b[0m\u001b[1;32mTrue\u001b[0m\u001b[1;33m\u001b[0m\u001b[1;33m\u001b[0m\u001b[0m\n\u001b[1;32m----> 5\u001b[1;33m \u001b[0my\u001b[0m\u001b[1;33m=\u001b[0m\u001b[0mtrue\u001b[0m\u001b[1;33m\u001b[0m\u001b[1;33m\u001b[0m\u001b[0m\n\u001b[0m\u001b[0;32m      6\u001b[0m \u001b[0mprint\u001b[0m\u001b[1;33m(\u001b[0m\u001b[0mx\u001b[0m\u001b[1;33m)\u001b[0m\u001b[1;33m\u001b[0m\u001b[1;33m\u001b[0m\u001b[0m\n\u001b[0;32m      7\u001b[0m \u001b[0mprint\u001b[0m\u001b[1;33m(\u001b[0m\u001b[0mtype\u001b[0m\u001b[1;33m(\u001b[0m\u001b[0mx\u001b[0m\u001b[1;33m)\u001b[0m\u001b[1;33m)\u001b[0m\u001b[1;33m\u001b[0m\u001b[1;33m\u001b[0m\u001b[0m\n",
      "\u001b[1;31mNameError\u001b[0m: name 'true' is not defined"
     ]
    }
   ],
   "source": [
    "# 3-3 布林資料型態\n",
    "\n",
    "# 範例 3-3-1：給定布林資料型態\n",
    "x=True\n",
    "y=true\n",
    "print(x)\n",
    "print(type(x))\n",
    "print(y)\n",
    "print(type(y))\n"
   ]
  },
  {
   "cell_type": "code",
   "execution_count": 11,
   "metadata": {},
   "outputs": [
    {
     "name": "stdout",
     "output_type": "stream",
     "text": [
      "1\n",
      "<class 'int'>\n",
      "0\n",
      "<class 'int'>\n"
     ]
    }
   ],
   "source": [
    "# 範例 3-3-2：布林資料型態轉換為整數\n",
    "x=True\n",
    "y=False\n",
    "a=int(x)\n",
    "b=int(y)\n",
    "\n",
    "print(a)\n",
    "print(type(a))\n",
    "print(b)\n",
    "print(type(b))"
   ]
  },
  {
   "cell_type": "code",
   "execution_count": 18,
   "metadata": {},
   "outputs": [
    {
     "name": "stdout",
     "output_type": "stream",
     "text": [
      "1 1 0 0.0\n"
     ]
    }
   ],
   "source": [
    "# 練習 3-3-1 給定布林資料型態變數，進行四則運算並輸出結果，看看如何\n",
    "a=True\n",
    "b=False\n",
    "w=a+b\n",
    "x=a-b\n",
    "y=a*b\n",
    "z=b/a\n",
    "print(w,x,y,z)"
   ]
  },
  {
   "cell_type": "code",
   "execution_count": 13,
   "metadata": {},
   "outputs": [
    {
     "ename": "SyntaxError",
     "evalue": "invalid syntax (<ipython-input-13-10e95a651b3b>, line 7)",
     "output_type": "error",
     "traceback": [
      "\u001b[1;36m  File \u001b[1;32m\"<ipython-input-13-10e95a651b3b>\"\u001b[1;36m, line \u001b[1;32m7\u001b[0m\n\u001b[1;33m    y='I'll be back'\u001b[0m\n\u001b[1;37m          ^\u001b[0m\n\u001b[1;31mSyntaxError\u001b[0m\u001b[1;31m:\u001b[0m invalid syntax\n"
     ]
    }
   ],
   "source": [
    "# 3-4 字串資料型態\n",
    "#使用兩個單引號或兩個雙引號所包圍的字元符號\n",
    "#若字元符號內有單引號，例如，I'll be back, Jame's notebook，則可用雙引號包圍\n",
    "\n",
    "# 範例 3-4-1：給定字串資料型態\n",
    "x='Python is easy to learn'\n",
    "y='I'll be back'\n",
    "\n",
    "print(x)\n",
    "print(type(x))\n",
    "print(y)\n",
    "print(type(y))"
   ]
  },
  {
   "cell_type": "code",
   "execution_count": 19,
   "metadata": {},
   "outputs": [
    {
     "name": "stdout",
     "output_type": "stream",
     "text": [
      "I'll be back\n",
      "<class 'str'>\n"
     ]
    }
   ],
   "source": [
    "# 練習 3-4-1 修正上例變數y的給定\n",
    "y=\"I'll be back\"\n",
    "print(y)\n",
    "print(type(y))"
   ]
  },
  {
   "cell_type": "code",
   "execution_count": 20,
   "metadata": {},
   "outputs": [
    {
     "name": "stdout",
     "output_type": "stream",
     "text": [
      "123456\n",
      "<class 'str'>\n",
      "579\n",
      "<class 'int'>\n",
      "ab\n",
      "<class 'str'>\n"
     ]
    }
   ],
   "source": [
    "# 範例 3-4-1-1：字串的加法\n",
    "x='123'\n",
    "y='456'\n",
    "z=x+y            #字串的加法\n",
    "print(z)\n",
    "print(type(z))\n",
    "\n",
    "a=123\n",
    "b=456\n",
    "c=a+b            #數值的加法\n",
    "print(c)\n",
    "print(type(c))\n",
    "\n",
    "d='a'+'b'        #字串的加法\n",
    "print(d)\n",
    "print(type(d))"
   ]
  },
  {
   "cell_type": "code",
   "execution_count": 24,
   "metadata": {},
   "outputs": [
    {
     "name": "stdout",
     "output_type": "stream",
     "text": [
      "405 147258\n",
      "<class 'int'>\n",
      "<class 'str'>\n"
     ]
    }
   ],
   "source": [
    "# 練習 3-4-1-1 給定兩個字串x,y，輸出並比較 x+y 與 y+x\n",
    "a=147\n",
    "b=258\n",
    "x=a+b\n",
    "c=\"147\"\n",
    "d=\"258\"\n",
    "y=c+d\n",
    "print(x,y)\n",
    "print(type(x))\n",
    "print(type(y))"
   ]
  },
  {
   "cell_type": "code",
   "execution_count": null,
   "metadata": {},
   "outputs": [],
   "source": [
    "# 3-4-2 分行字串\n",
    "# 範例 3-4-2-1：保留字串原有分行格式，可使用雙個三單引號或雙個三雙引號\n",
    "x='''Never forget\n",
    "Your presence is a gift to the world.\n",
    "You're unique and one of a kind.\n",
    "Your life can be what you want it to be.\n",
    "Take it one day at a time.\n",
    "Focus on your blessings, not your troubles.\n",
    "And you'll make it through what comes along.\n",
    "Have belief in your ability.\n",
    "Persist, have courage, be strong.\n",
    "Nothing wastes more energy than worrying.\n",
    "The longer a problem is carried,\n",
    "the heavier it gets.\n",
    "Don't take things too seriously.\n",
    "Live a life of serenity, not a life of regrets.\n",
    "Don't put limits on yourself.\n",
    "Your dreams are waiting to be realized.\n",
    "Don't waste time making excuses.\n",
    "Reach for your peak, your goal!'''\n",
    "\n",
    "y='''Never forget Your presence is a gift to the world. You're unique and one of a kind. Your life can be what you want it to be. Take it one day at a time. Focus on your blessings, not your troubles. And you'll make it through what comes along. Have belief in your ability. Persist, have courage, be strong. Nothing wastes more energy than worrying. The longer a problem is carried, the heavier it gets. Don't take things too seriously. Live a life of serenity, not a life of regrets. Don't put limits on yourself. Your dreams are waiting to be realized. Don't waste time making excuses. Reach for your peak, your goal!'''\n",
    "\n",
    "print(x)\n",
    "print(y)"
   ]
  },
  {
   "cell_type": "code",
   "execution_count": null,
   "metadata": {},
   "outputs": [],
   "source": [
    "# 3-4-3 逸出字元\n",
    "#字串內含特殊字元，如單引號、雙引號可能造成字串給定錯誤，因此，加上反斜線的逸出字元(escape character)處理\n",
    "Escape_character='''跳脫字元\n",
    "\\\t接續下一行\n",
    "\\\\\t反斜線\n",
    "\\'\t單引號\n",
    "\\\"\t雙引號\n",
    "\\a\t響鈴(BEL)\n",
    "\\b\t倒退\n",
    "\\e\t(ESC)\n",
    "\\f\t換頁(FF)\n",
    "\\n\t換行(LF)\n",
    "\\r\t歸位(CR)\n",
    "\\t\t跳格\n",
    "\\v\t縱向跳格(VT)\n",
    "\\N{id}\tUnicode dbase id\n",
    "\\uhhhh\tUnicode 16-bit hex\n",
    "\\Uhhhh... Unicode 32-bit hex\n",
    "\\xhh\t十六進位數字\n",
    "\\ooo\t八進位數字\n",
    "\\0\t空字元\n",
    "\\other\t其他字元保留'''\n",
    "\n"
   ]
  },
  {
   "cell_type": "code",
   "execution_count": null,
   "metadata": {},
   "outputs": [],
   "source": [
    "# 範例 3-4-3-1：處理單引號字串\n",
    "x='I'll be back'  #以跳脫字元修正\n",
    "print(x)\n"
   ]
  },
  {
   "cell_type": "code",
   "execution_count": null,
   "metadata": {},
   "outputs": [],
   "source": [
    "# 範例 3-4-3-2：處理單引號給定的分行字串\n",
    "y='Never forget\n",
    "Your presence is a gift to the world.\n",
    "You're unique and one of a kind.\n",
    "Your life can be what you want it to be.\n",
    "Take it one day at a time.'\n",
    "\n",
    "print(y)"
   ]
  },
  {
   "cell_type": "code",
   "execution_count": null,
   "metadata": {},
   "outputs": [],
   "source": [
    "# 練習 3-4-3-1：處理單引號給定的分行字串\n",
    "z='Don't take things too seriously.\n",
    "Live a life of serenity, not a life of regrets.\n",
    "Don't put limits on yourself.\n",
    "Your dreams are waiting to be realized.\n",
    "Don't waste time making excuses.\n",
    "Reach for your peak, your goal!'\n",
    "\n",
    "print(z)"
   ]
  },
  {
   "cell_type": "code",
   "execution_count": 27,
   "metadata": {},
   "outputs": [
    {
     "name": "stdout",
     "output_type": "stream",
     "text": [
      "You can't connect the dots looking forward; you can only connect them looking backwards. \n",
      "So you have to trust that the dots will somehow connect in your future.\n"
     ]
    }
   ],
   "source": [
    "x='''You can't connect the dots looking forward; you can only connect them looking backwards. \n",
    "So you have to trust that the dots will somehow connect in your future.'''\n",
    "print(x)"
   ]
  },
  {
   "cell_type": "code",
   "execution_count": 28,
   "metadata": {},
   "outputs": [
    {
     "name": "stdout",
     "output_type": "stream",
     "text": [
      "3191\n",
      "<class 'int'>\n",
      "21461045\n",
      "<class 'str'>\n"
     ]
    }
   ],
   "source": [
    "# 3-4-4 強制轉換為字串資料型態： str()函數\n",
    "# 範例 3-4-4-1：整數轉換為字串\n",
    "num1=2146\n",
    "num2=1045\n",
    "\n",
    "num_sum=num1+num2               #整數相加\n",
    "print(num_sum)\n",
    "print(type(num_sum))\n",
    "\n",
    "letter_sum=str(num1)+str(num2)  #轉換為字串相加\n",
    "print(letter_sum)\n",
    "print(type(letter_sum))"
   ]
  },
  {
   "cell_type": "code",
   "execution_count": 29,
   "metadata": {},
   "outputs": [
    {
     "name": "stdout",
     "output_type": "stream",
     "text": [
      "10242048\n",
      "<class 'str'>\n",
      "3072\n",
      "<class 'int'>\n"
     ]
    }
   ],
   "source": [
    "# 3-4-5 將字串轉換為整數資料型態： int()函數\n",
    "# 範例 3-4-5-1：整數轉換為字串\n",
    "x1='1024'\n",
    "x2='2048'\n",
    "\n",
    "x3=x1+x2               #字串相加\n",
    "print(x3)\n",
    "print(type(x3))\n",
    "\n",
    "x4=int(x1)+int(x2)    #轉換為整數相加\n",
    "print(x4)\n",
    "print(type(x4))"
   ]
  },
  {
   "cell_type": "code",
   "execution_count": 34,
   "metadata": {},
   "outputs": [
    {
     "name": "stdout",
     "output_type": "stream",
     "text": [
      "4364 <class 'int'>\n",
      "124352 <class 'str'>\n"
     ]
    }
   ],
   "source": [
    "# 練習 3-4-5-1：給定兩個數值字串，比較先轉換為整數再加與先加再轉換\n",
    "x=0b1100\n",
    "y=0x1100\n",
    "z=x+y\n",
    "print(z,type(z))\n",
    "\n",
    "w=str(x)+str(y)\n",
    "print(w,type(w))"
   ]
  },
  {
   "cell_type": "code",
   "execution_count": null,
   "metadata": {},
   "outputs": [],
   "source": [
    "# 3-4-6 字元與編碼轉換\n",
    "# chr()函數，可將輸入編碼的字元回傳\n",
    "# ord()函數，可將字元對應的 Unicode 碼值回傳，在英數部分的 ASCII 碼值與 Unicode 碼值相同 \n",
    "\n",
    "# 範例 3-4-6-1\n",
    "a1=97\n",
    "letter1=chr(a1)\n",
    "print(letter1)"
   ]
  },
  {
   "cell_type": "code",
   "execution_count": null,
   "metadata": {},
   "outputs": [],
   "source": [
    "# 範例 3-4-6-2\n",
    "letter2='A'\n",
    "a2=ord(letter2)\n",
    "print(a2)"
   ]
  },
  {
   "cell_type": "code",
   "execution_count": null,
   "metadata": {},
   "outputs": [],
   "source": [
    "# 範例 3-4-6-3\n",
    "letter3='陳'\n",
    "a3=ord(letter3)\n",
    "print(a3)"
   ]
  },
  {
   "cell_type": "code",
   "execution_count": 48,
   "metadata": {},
   "outputs": [
    {
     "name": "stdout",
     "output_type": "stream",
     "text": [
      "ѓ\n",
      "69 114 105 110\n",
      "12424 12375 12415\n"
     ]
    }
   ],
   "source": [
    "# 練習 3-4-6-1：以自己姓名的英文或中文練習字元與編碼轉換\n",
    "x=1107\n",
    "l=chr(x)\n",
    "print(l)\n",
    "\n",
    "a,b,c,d=\"E\",\"r\",\"i\",\"n\"\n",
    "e=ord(a)\n",
    "f=ord(b)\n",
    "g=ord(c)\n",
    "h=ord(d)\n",
    "print(e,f,g,h)\n",
    "\n",
    "i,j,k=\"よ\",\"し\",\"み\"\n",
    "m=ord(i)\n",
    "n=ord(j)\n",
    "o=ord(k)\n",
    "print(m,n,o)"
   ]
  },
  {
   "cell_type": "code",
   "execution_count": null,
   "metadata": {},
   "outputs": [],
   "source": [
    "# 3-4-7 字串的倍數\n",
    "\n",
    "# 範例 3-4-7-1\n",
    "s1='Python is easy'\n",
    "s2='Python'\n",
    "s3=s1+s2      #字串的加法\n",
    "s4=s1-s2      #字串無減法\n",
    "s5=s1*3       #字串的整數倍\n",
    "print(s3)\n",
    "print(s4)\n",
    "print(s5)"
   ]
  },
  {
   "cell_type": "code",
   "execution_count": 3,
   "metadata": {},
   "outputs": [
    {
     "name": "stdout",
     "output_type": "stream",
     "text": [
      "國立台北教育大學\t數學暨資訊教育學系\n",
      "數學組程式設計課程\n",
      "Python 入門\n"
     ]
    }
   ],
   "source": [
    "# 3-4-8 利用字串的加法及跳脫字元產生說明\n",
    "\n",
    "# 範例 3-4-8-1\n",
    "s1='國立台北教育大學'\n",
    "s2='數學暨資訊教育學系'\n",
    "s3='數學組程式設計課程'\n",
    "s4='Python 入門'\n",
    "s5=s1+'\\t'+s2+'\\n'+s3+'\\n'+s4\n",
    "print(s5)"
   ]
  },
  {
   "cell_type": "code",
   "execution_count": 58,
   "metadata": {},
   "outputs": [
    {
     "name": "stdout",
     "output_type": "stream",
     "text": [
      "床前明月光,\n",
      "疑是地上霜,\n",
      "舉頭望明月,\n",
      "低頭思故鄉。\n",
      "\n",
      "床前明月光,\n",
      "疑是地上霜,\n",
      "舉頭望明月,\n",
      "低頭思故鄉。\n",
      "\n",
      "床前明月光,\n",
      "疑是地上霜,\n",
      "舉頭望明月,\n",
      "低頭思故鄉。\n",
      "\n",
      "床前明月光,\n",
      "疑是地上霜,\n",
      "舉頭望明月,\n",
      "低頭思故鄉。\n",
      "\n",
      "床前明月光,\n",
      "疑是地上霜,\n",
      "舉頭望明月,\n",
      "低頭思故鄉。\n",
      "\n",
      "\n"
     ]
    }
   ],
   "source": [
    "# 練習 3-4-8-1：請利用字串呈現李白的《靜夜思》五次，請加上標點符號，每首詩之間空一行\n",
    "poem_title='靜夜思'\n",
    "poem_1='床前明月光'\n",
    "poem_2='疑是地上霜'\n",
    "poem_3='舉頭望明月'\n",
    "poem_4='低頭思故鄉'\n",
    "\n",
    "poem=poem_1+',\\n'+poem_2+',\\n'+poem_3+',\\n'+poem_4+'。\\n\\n'\n",
    "poem5=poem*5\n",
    "print(poem5)"
   ]
  },
  {
   "cell_type": "code",
   "execution_count": 5,
   "metadata": {},
   "outputs": [
    {
     "name": "stdout",
     "output_type": "stream",
     "text": [
      "Hi!\n",
      "Wellcome to learn Python\n",
      "\n",
      "Hi!\\nWellcome to learn Python\\n\n"
     ]
    }
   ],
   "source": [
    "# 3-4-9 取消逸出(跳脫)字元\n",
    "\n",
    "# 範例 3-4-8-1\n",
    "s1='Hi!\\nWellcome to learn Python\\n'\n",
    "s2=r'Hi!\\nWellcome to learn Python\\n'\n",
    "\n",
    "print(s1)\n",
    "print(s2)"
   ]
  },
  {
   "cell_type": "code",
   "execution_count": 62,
   "metadata": {},
   "outputs": [
    {
     "name": "stdout",
     "output_type": "stream",
     "text": [
      "國北教大\n",
      "自然系資訊組\n",
      "Python\t程式設計\u0007\n"
     ]
    }
   ],
   "source": [
    "s1='國北教大'\n",
    "s2='自然系資訊組'\n",
    "s3='程式設計'\n",
    "s4='Python'\n",
    "s5=s1+'\\n'+s2+'\\n'+s4+'\\t'+s3+'\\a'\n",
    "print(s5)"
   ]
  },
  {
   "cell_type": "code",
   "execution_count": null,
   "metadata": {},
   "outputs": [],
   "source": []
  }
 ],
 "metadata": {
  "kernelspec": {
   "display_name": "Python 3",
   "language": "python",
   "name": "python3"
  },
  "language_info": {
   "codemirror_mode": {
    "name": "ipython",
    "version": 3
   },
   "file_extension": ".py",
   "mimetype": "text/x-python",
   "name": "python",
   "nbconvert_exporter": "python",
   "pygments_lexer": "ipython3",
   "version": "3.7.3"
  }
 },
 "nbformat": 4,
 "nbformat_minor": 2
}
