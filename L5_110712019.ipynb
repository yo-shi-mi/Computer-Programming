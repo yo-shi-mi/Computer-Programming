{
 "cells": [
  {
   "cell_type": "code",
   "execution_count": null,
   "metadata": {},
   "outputs": [],
   "source": [
    "# 5 程式的流程控制： if 敘述\n",
    "\n",
    "# 5-1 關係運算子\n",
    "    #  > ： 大於，如 a>b，判別 a 是否大於 b，並以布林資料型態的真(True)或偽(False)回傳\n",
    "    # >= ： 大於或等於，如 a>=b，判別 a 是否大於或等於 b，並以布林資料型態的真(True)或偽(False)回傳\n",
    "    #  < ： 小於，如 a<b，判別 a 是否小於 b，並以布林資料型態的真(True)或偽(False)回傳\n",
    "    # >= ： 小於或等於，如 a<=b，判別 a 是否小於或等於 b，並以布林資料型態的真(True)或偽(False)回傳\n",
    "    # == ： 等於，如 a==b，判別 a 是否等於 b，並以布林資料型態的真(True)或偽(False)回傳\n",
    "    # != ： 不等於，如 a!=b，判別 a 是否不等於 b，並以布林資料型態的真(True)或偽(False)回傳"
   ]
  },
  {
   "cell_type": "code",
   "execution_count": null,
   "metadata": {},
   "outputs": [],
   "source": [
    "# 範例 5-1-1：\n",
    "x=10\n",
    "y=12\n",
    "\n",
    "z1=x>y\n",
    "print(\"判斷 %d > %d ：%s\"%(x,y,z1))\n",
    "\n",
    "z2=x>=y\n",
    "print(\"判斷 %d >= %d ：%s\"%(x,y,z2))\n",
    "\n",
    "Z3=x<y"
   ]
  },
  {
   "cell_type": "code",
   "execution_count": null,
   "metadata": {},
   "outputs": [],
   "source": [
    "# 練習 5-1-1：嘗試字串變數是否可以比較？如 letter1=\"A\"，letter2=\"b\"\n",
    "letter1=\"我\"\n",
    "letter2=\"你\"\n",
    "\n",
    "a=letter1>letter2\n",
    "print(\"判斷 %s > %s ：%s\"%(letter1,letter2,a))"
   ]
  },
  {
   "cell_type": "code",
   "execution_count": null,
   "metadata": {},
   "outputs": [],
   "source": [
    "# 5-2 邏輯運算子\n",
    "'''邏輯運算，參閱https://zh.wikipedia.org/wiki/%E7%9C%9F%E5%80%BC%E8%A1%A8'''\n",
    "    # and ： \n",
    "        # and   True  False\n",
    "        # True  True  False\n",
    "        # False False False\n",
    "    # or ： \n",
    "        # or    True  False\n",
    "        # True  True  True\n",
    "        # False True  False\n",
    "    # not ：\n",
    "        # not   True  False\n",
    "        #       False True\n",
    "   "
   ]
  },
  {
   "cell_type": "code",
   "execution_count": null,
   "metadata": {},
   "outputs": [],
   "source": [
    "# 範例 5-2-1： and\n",
    "a1,a2=85,100   #等第A\n",
    "b1,b2=75,85    #等第B\n",
    "x=89\n",
    "\n",
    "x_in_a=x>=a1 and x<=a2\n",
    "print(x_in_a)\n",
    "\n",
    "x_in_b=x>=b1 and x==b2\n",
    "print(x_in_b)"
   ]
  },
  {
   "cell_type": "code",
   "execution_count": null,
   "metadata": {},
   "outputs": [],
   "source": [
    "# 練習 5-2-1：# 是否符合全部交友條件並輸出\n",
    "height=170       #身高底線\n",
    "weight=100       #體重上限\n",
    "year=35          #年齡上限\n",
    "\n",
    "x_h=174\n",
    "x_w=65\n",
    "x_y=40\n",
    "\n",
    "h=x_h>height\n",
    "\n",
    "w=x_w<weight\n",
    "\n",
    "y=x_y<year\n",
    "\n",
    "z=h and w and y\n",
    "print(z)\n",
    "\n",
    "if z==False:\n",
    "    print(\"我覺得不行\")\n",
    "else:\n",
    "    print(\"我覺得可以\")\n"
   ]
  },
  {
   "cell_type": "code",
   "execution_count": null,
   "metadata": {},
   "outputs": [],
   "source": [
    "# 範例 5-2-2： or\n",
    "x=90%3**4//2+1\n",
    "print(x)\n",
    "y=x>10 or x<1\n",
    "print(y)"
   ]
  },
  {
   "cell_type": "code",
   "execution_count": null,
   "metadata": {},
   "outputs": [],
   "source": [
    "# 練習 5-2-2：是否符合交友條件之一並輸出\n",
    "height=170       #身高底線\n",
    "weight=100       #體重上限\n",
    "year=35          #年齡上限\n",
    "\n",
    "x_h=174\n",
    "x_w=65\n",
    "x_y=40\n",
    "\n",
    "h=x_h>height\n",
    "\n",
    "w=x_w<weight\n",
    "\n",
    "y=x_y<year\n",
    "\n",
    "z=h or w or y\n",
    "print(z)\n",
    "\n",
    "if z==False:\n",
    "    print(\"我覺得不行\")\n",
    "else:\n",
    "    print(\"我覺得可以\")"
   ]
  },
  {
   "cell_type": "code",
   "execution_count": null,
   "metadata": {},
   "outputs": [],
   "source": [
    "# 範例 5-2-3： \n",
    "a=2        #二次項係數\n",
    "b=3        #一次項係數\n",
    "c=2        #常數項係數\n",
    "\n",
    "delta=b**2-4*a*c\n",
    "\n",
    "x=not delta<0\n",
    "\n",
    "print(\"一元二次方程式有實數解：\",x)\n",
    "\n"
   ]
  },
  {
   "cell_type": "code",
   "execution_count": null,
   "metadata": {},
   "outputs": [],
   "source": [
    "# 練習 5-2-2：混合使用 and, or, not\n",
    "x=9\n",
    "y=7\n",
    "z=8\n",
    "u= not(x<y) and (y>z) or (x<z)\n",
    "v= not(x<y and y>z) or (x<z)\n",
    "\n",
    "print(u,v)"
   ]
  },
  {
   "cell_type": "code",
   "execution_count": null,
   "metadata": {},
   "outputs": [],
   "source": [
    "# 5-3 if 敘述\n",
    "# 基本語法\n",
    "'''\n",
    "if (條件判斷) :\n",
    "            (程式碼區塊)\n",
    "'''\n",
    "    # 條件判斷為真(True)，就會執行下方的程式碼區塊；反之，條件判斷為偽(False)，就不會執行\n",
    "    # 條件判斷後方加上\":\"，而且程式碼區塊需要內縮(比if所在向右縮四個字元或以Tab鍵)\n",
    "    \n",
    "# 範例 5-3-1\n",
    "age=int(input(\"請輸入實際年齡：\"))\n",
    "if age<20:\n",
    "    print(\"喔，你好年輕，還沒滿20歲！\")\n",
    "    print(\"你不能購買香菸或酒精飲料喔！\")\n",
    "\n",
    "# Jupyter Notebook 會提示函數及語法"
   ]
  },
  {
   "cell_type": "code",
   "execution_count": null,
   "metadata": {},
   "outputs": [],
   "source": [
    "# 練習 5-3-1：輸入0-99的成績，如果成績小於50，請將它修正為50，並輸出\n",
    "import random\n",
    "x=random.randint(0,99)\n",
    "\n",
    "if x<50:\n",
    "    print(50)\n",
    "else:\n",
    "    print(x)"
   ]
  },
  {
   "cell_type": "code",
   "execution_count": null,
   "metadata": {},
   "outputs": [],
   "source": [
    "# 範例 5-3-2：偶數判別\n",
    "num=int(input(\"請輸入一個自然數：\"))\n",
    "if num%2==0:\n",
    "    print(\"你輸入的 %d 是偶數\"%num)\n",
    "\n"
   ]
  },
  {
   "cell_type": "code",
   "execution_count": null,
   "metadata": {},
   "outputs": [],
   "source": [
    "# 範例 5-3-2a：偶數判別\n",
    "# 不內縮或內縮格式不標準\n",
    "\n",
    "num=int(input(\"請輸入一個自然數：\"))\n",
    "if num%2=0:print(\"你輸入的 %d 是偶數\"%num)\n",
    "\n"
   ]
  },
  {
   "cell_type": "code",
   "execution_count": null,
   "metadata": {},
   "outputs": [],
   "source": [
    "# 練習 5-3-2：奇數判別，仿照上例\n",
    "num=int(input(\"請輸入一個自然數：\"))\n",
    "if num%2!=0:\n",
    "    print(\"你輸入的 %d 是基數\"%num)"
   ]
  },
  {
   "cell_type": "code",
   "execution_count": null,
   "metadata": {},
   "outputs": [],
   "source": [
    "# 5-4 if...else 敘述\n",
    "# 基本語法\n",
    "'''\n",
    "if (條件判斷) :\n",
    "    (程式碼區塊1)\n",
    "else:\n",
    "    (程式碼區塊2)\n",
    "'''\n",
    "    # 條件判斷為真(True)，就執行程式碼區塊1；條件判斷為偽(False)，就執行程式碼區塊2\n",
    "    # else後方如同 if 後方需加上\":\"，同樣，程式碼區塊2如同區塊1，需要內縮\n",
    "    \n",
    "# 範例 5-4-1：奇偶數判別問題\n",
    "num=int(input(\"請輸入一個自然數：\"))\n",
    "if num%2==0:\n",
    "    print(\"你輸入的 %d 是偶數\"%num)\n",
    "else:\n",
    "    print(\"你輸入的 %d 是奇數\"%num)\n",
    "\n"
   ]
  },
  {
   "cell_type": "code",
   "execution_count": null,
   "metadata": {},
   "outputs": [],
   "source": [
    "# 練習 5-4-1：考拉茲猜想(Collatz conjecture)，若是偶數除以2，若是奇數乘上3倍再加1\n",
    "num=int(input(\"請輸入一個自然數：\"))\n",
    "if num%2==0:\n",
    "    print(num/2)\n",
    "else:\n",
    "    print(num*3+1)"
   ]
  },
  {
   "cell_type": "code",
   "execution_count": null,
   "metadata": {},
   "outputs": [],
   "source": [
    "# 5-5 if...elif...else 敘述\n",
    "# 基本語法\n",
    "'''\n",
    "if (條件判斷1) :\n",
    "    (程式碼區塊1)\n",
    "elif (條件判斷2):\n",
    "    (程式碼區塊2)\n",
    "elif (條件判斷3):\n",
    "    (程式碼區塊3)\n",
    "...\n",
    "else:\n",
    "    (程式碼區塊n)\n",
    "'''\n",
    "    # 條件判斷為真(True)，就執行程式碼區塊1；條件判斷為偽(False)，就執行程式碼區塊2\n",
    "    # elif後方如同 if 或 else 後方需加上\":\"\n",
    "    # 程式碼區塊都需要內縮\n",
    "    \n",
    "# 範例 5-5-1：等第成績\n",
    "print('百分成績轉換為等第成績')\n",
    "score=int(input(\"請輸入百分成績：\"))\n",
    "if score>=90:\n",
    "    print(\"成績 %d 的等第是優\"%score)\n",
    "elif score>=80:\n",
    "    print(\"成績 %d 的等第是甲\"%score)\n",
    "elif score>=70:\n",
    "    print(\"成績 %d 的等第是乙\"%score)\n",
    "elif score>=60:\n",
    "    print(\"成績 %d 的等第是丙\"%score)\n",
    "else:\n",
    "    print(\"你的成績 %d 等第是丁\"%score)"
   ]
  },
  {
   "cell_type": "code",
   "execution_count": null,
   "metadata": {},
   "outputs": [],
   "source": [
    "# 範例 5-5-2：遊樂園門票\n",
    "'''幸福遊樂園門票定價600元，適逢10周年慶，推出優惠專案如下：\n",
    "    (1)80歲(含)以上老人與6歲(含)以下嬰幼兒免費\n",
    "    (2)65歲(含)以上至80歲老人打三折\n",
    "    (3)6歲以上至18歲的青少年與兒童打五折\n",
    "    (4)18歲以上至65歲成人打八折\n",
    "根據此條件寫程式判別門票金額'''\n",
    "\n",
    "print(\"歡迎光臨幸福遊樂園\")\n",
    "age=int(input(\"你幾歲?\"))\n",
    "price=600\n",
    "if age>=80 or age<=6:\n",
    "    print(\"免費~歡迎入園\")\n",
    "elif age>=65 and age<80:\n",
    "    print(\"打三折, %d元\"%(price*0.3))\n",
    "elif age>6 and age<=18:\n",
    "    print(\"打五折, %d元\"%(price*0.5))\n",
    "else:\n",
    "    print(\"打八折, %d元\"%(price*0.8))"
   ]
  },
  {
   "cell_type": "code",
   "execution_count": null,
   "metadata": {},
   "outputs": [],
   "source": [
    "# 練習 5-5-1：身體質量指數(Body Mass Index,BMI)\n",
    "\n",
    "# 根據輸入的身高(公尺為單位)與體重(公斤為單位)，計算出 BMI，並依下表判斷體位後輸出\n",
    "    # 體重過輕： BMI<18.5\n",
    "    # 體重正常： 18.5<=BMI<24\n",
    "    # 輕微肥胖： 24<=BMI<27\n",
    "    # 中度肥胖： 27<=BMI<35\n",
    "    # 重度肥胖： 35<=BMI\n",
    "\n",
    "\n",
    "h=float(input(\"請輸入身高(m):\"))\n",
    "w=int(input(\"請輸入體重(kg):\"))\n",
    "B=w/h**2\n",
    "M=round(B,2)\n",
    "if B<18.5:\n",
    "    print(M,\"體重過輕\")\n",
    "elif B<24 and B>=18.5:\n",
    "    print(M,\"體重正常\")\n",
    "elif B<27 and B>=24:\n",
    "    print(M,\"輕微肥胖\")\n",
    "elif B<35 and B>=27:\n",
    "    print(M,\"中度肥胖\")\n",
    "else:\n",
    "    print(M,\"重度肥胖\")\n"
   ]
  },
  {
   "cell_type": "code",
   "execution_count": null,
   "metadata": {},
   "outputs": [],
   "source": [
    "# 5-6 巢狀敘述 if 敘述\n",
    "# 巢狀結構：if敘述內的程式碼區塊包含 if 敘述\n",
    "'''\n",
    "if (條件判斷1) :\n",
    "    ...\n",
    "    if(條件判斷1-1)：\n",
    "        (程式碼區塊1-1)\n",
    "    else：\n",
    "        (程式碼區塊1-2)\n",
    "...\n",
    "else:\n",
    "    (程式碼區塊n)\n",
    "'''\n",
    "    # if敘述的程式碼區塊1-1仍然要再內縮，以呈現程式碼的結構\n",
    "\n",
    "# 範例 5-6-1：閏年的判別\n",
    "'''閏年的規定如下：\n",
    "西元年分除以4不可整除，為平年。\n",
    "西元年分除以4可整除但除以100不可整除，為閏年。\n",
    "西元年分除以100可整除但除以400不可整除，為平年。\n",
    "西元年分除以400可整除，為閏年。'''\n",
    "\n",
    "year=int(input(\"請輸入西元年判斷其是否為閏年：\"))\n",
    "if year%4==0:\n",
    "    if year%100==0:\n",
    "        if year%400==0:\n",
    "            print('西元%d是閏年'%year)\n",
    "        else:\n",
    "            print('西元%d是平年'%year)\n",
    "    else:\n",
    "        print('西元%d是閏年'%year)\n",
    "else:\n",
    "    print('西元%d是平年'%year)"
   ]
  },
  {
   "cell_type": "code",
   "execution_count": null,
   "metadata": {},
   "outputs": [],
   "source": [
    "# 練習 5-6-1：使用非巢狀 if 敘述改寫\n",
    "\n",
    "year=int(input(\"請輸入西元年判斷其是否為閏年：\"))\n",
    "if year%4!=0:\n",
    "    print('西元%d是平年'%year)\n",
    "elif year%100!=0 and year%4==0:\n",
    "    print('西元%d是閏年'%year)\n",
    "elif year%100==0 and year%400!=0:\n",
    "    print('西元%d是平年'%year)\n",
    "else:\n",
    "    print('西元%d是閏年'%year)"
   ]
  },
  {
   "cell_type": "code",
   "execution_count": null,
   "metadata": {},
   "outputs": [],
   "source": [
    "# 5-7 尚未設定的變數\n",
    "# 程式設計時常常先設定變數再使用，例如， C 語言使用變數前得先宣告\n",
    "# 但是，在Python內，變數是透過給特定型態的值而存在的\n",
    "# 如何先給變數名稱而不給值，就得借助 None\n",
    "\n",
    "# 範例 5-7-1：變數給定\n",
    "height=None        # 給定變數 height 的值是 None，也就是變數值是空的\n",
    "print(\"輸出變數的值：\",height)\n",
    "print(type(height))"
   ]
  },
  {
   "cell_type": "code",
   "execution_count": null,
   "metadata": {},
   "outputs": [],
   "source": [
    "# 範例 5-7-2：比較 None, '', 0\n",
    "x=None\n",
    "y=''\n",
    "z=0\n",
    "print('變數x：',x,type(x))\n",
    "print('變數y：',y,type(y))\n",
    "print('變數z：',z,type(z))"
   ]
  },
  {
   "cell_type": "code",
   "execution_count": null,
   "metadata": {},
   "outputs": [],
   "source": [
    "# 範例 5-7-3：檢測變數是否為定義\n",
    "flag=None\n",
    "if flag==None:\n",
    "    print('變數尚未定義！')"
   ]
  },
  {
   "cell_type": "code",
   "execution_count": null,
   "metadata": {},
   "outputs": [],
   "source": [
    "# 實作題 5-1\n",
    "'''\n",
    "若輸入正數值則輸出負數值，\n",
    "若輸入負數值則輸出正數值，\n",
    "若輸入非數值則輸出錯誤\n",
    "'''\n",
    "try:\n",
    "    number=float(input(\"請輸入數字：\"))\n",
    "    if number>0:\n",
    "        print(-number)\n",
    "    elif number<0:\n",
    "        print(abs(number))\n",
    "except:\n",
    "    print(\"錯誤\")\n",
    "# 實作題 5-2：(提示，可使用 chr()和 ord()函數)\n",
    "'''\n",
    "若輸入大寫字元則輸出其小寫字元\n",
    "若輸入小寫字元則輸出其大寫字元\n",
    "若輸入阿拉伯數字則直接輸出\n",
    "若輸入其他字元則輸出字元錯誤\n",
    "'''\n",
    "alphabet=\n",
    "# 實作題 5-3：BMI及腰圍與相關疾病風險如下表\n",
    "'''\n",
    "分類        BMI                腰圍（公分）\n",
    "                      男：<85  男：85-95   男：≥95\n",
    "                      女：<80  女：80-90   女：≥90\n",
    "體重過低   <18.5         --       --         危險\n",
    "體重正常   18.5-24       --       危險       高危險\n",
    "體重超重   24-28         危險     高危險    極高危險\n",
    "肥胖       ≥28          高危險    極高危險  最高危險\n",
    "\n",
    "相關疾病是指高血壓、糖尿病、高血脂等異常和危險因素聚集'''\n",
    "# 實作題 4-1：班上四位同學基本資料逐筆輸出至檔案\n",
    "\n",
    "# 實作題 4-2：撰寫Python學習心得300並輸出至檔案\n",
    "\n",
    "# 實作題 4-3：輸入攝氏溫度，輸出華氏溫度\n",
    "c=float(input(\"輸入攝氏溫度:\"))\n",
    "f=9/5*c+32\n",
    "print(\"%.2f度\"%f)\n",
    "# 實作題 4-4：輸入華氏溫度，輸出攝氏溫度\n",
    "f=float(input(\"輸入攝氏溫度:\"))\n",
    "c=(f-32)*5/9\n",
    "print(\"%.2f度\"%c)\n",
    "# 實作題 4-5：輸入金額，以千元為單位無條件捨去後輸出，如 輸入12,345元，則輸出12,000元\n",
    "import math\n",
    "m=int(input(\"輸入金額:\"))\n",
    "d=m/1000\n",
    "print(math.floor(d)*1000)\n",
    "# 實作題 4-6：根據 BMI 輸入資料，並輸出 BMI值\n",
    "h=float(input(\"請輸入身高(M)：\"))\n",
    "w=float(input(\"請輸入體重(kg)：\"))\n",
    "BMI=w/h**2\n",
    "print(\"BMI值為%.3f\"%BMI)\n",
    "# 實作題 4-7：輸入建物的坪數，輸出建物的平方公尺數\n",
    "p=int(input(\"請輸入建物的坪數：\"))\n",
    "print(p/0.3025,\"m^2\")\n",
    "# 實作題 4-8：輸入建物的平方公尺數，輸出建物的坪數\n",
    "m2=int(input(\"請輸入建物的平方公尺數：\"))\n",
    "print(m2*0.3025,\"坪\")"
   ]
  },
  {
   "cell_type": "code",
   "execution_count": 1,
   "metadata": {},
   "outputs": [
    {
     "name": "stdout",
     "output_type": "stream",
     "text": [
      "輸入金額:12345\n",
      "12000\n"
     ]
    }
   ],
   "source": [
    "import math\n",
    "m=int(input(\"輸入金額:\"))\n",
    "d=m/1000\n",
    "print(math.floor(d)*1000)"
   ]
  },
  {
   "cell_type": "markdown",
   "metadata": {},
   "source": [
    "##### "
   ]
  },
  {
   "cell_type": "code",
   "execution_count": null,
   "metadata": {
    "scrolled": true
   },
   "outputs": [],
   "source": [
    "h=float(input(\"請輸入身高(M)：\"))\n",
    "w=float(input(\"請輸入體重(kg)：\"))\n",
    "BMI=w/h**2\n",
    "print(\"BMI值為%.3f\"%BMI)"
   ]
  },
  {
   "cell_type": "code",
   "execution_count": null,
   "metadata": {},
   "outputs": [],
   "source": [
    "f=float(input(\"輸入攝氏溫度:\"))\n",
    "c=(f-32)*5/9\n",
    "print(\"%.2f度\"%c)"
   ]
  },
  {
   "cell_type": "code",
   "execution_count": null,
   "metadata": {},
   "outputs": [],
   "source": []
  }
 ],
 "metadata": {
  "kernelspec": {
   "display_name": "Python 3",
   "language": "python",
   "name": "python3"
  },
  "language_info": {
   "codemirror_mode": {
    "name": "ipython",
    "version": 3
   },
   "file_extension": ".py",
   "mimetype": "text/x-python",
   "name": "python",
   "nbconvert_exporter": "python",
   "pygments_lexer": "ipython3",
   "version": "3.7.4"
  }
 },
 "nbformat": 4,
 "nbformat_minor": 2
}
