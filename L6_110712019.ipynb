{
 "cells": [
  {
   "cell_type": "code",
   "execution_count": null,
   "metadata": {},
   "outputs": [],
   "source": [
    "# 6 串列(list)\n",
    "\n",
    "# 6-1 認識串列\n",
    "# 串列是「有序的」資料型態，依序給定的資料可以是相同或不同的類型，如整數、字串\n",
    "\n",
    "# 6-1-1 串列的基本定義\n",
    "# 串列資料的定義語法\n",
    "# name_lsit=[element0, element1, element2,...,elementn]\n",
    "    # name_list 是指串列的變數名稱\n",
    "    # element0... 是此串列的有序資料，稱為串列的元素，次序是0,1,2,3,... \n",
    "    # [] 是用來包圍(定義)串列的有序資料\n",
    "\n",
    "# 範例 6-1-1-1：小明程式設計的四次考試成績分別為 82,80,76,90\n",
    "ming_scores=[82,80,76,90]\n",
    "print(ming_scores)\n",
    "print(type(ming_scores))"
   ]
  },
  {
   "cell_type": "code",
   "execution_count": 1,
   "metadata": {},
   "outputs": [
    {
     "name": "stdout",
     "output_type": "stream",
     "text": [
      "['apple', 'banana', 'grape', 'guava', 'orange', 'kiwi fruit']\n",
      "<class 'list'>\n"
     ]
    }
   ],
   "source": [
    "# 範例 6-1-1-2：水果販售攤位的各種水果\n",
    "fruits=['apple','banana','grape','guava','orange','kiwi fruit']\n",
    "print(fruits)\n",
    "print(type(fruits))"
   ]
  },
  {
   "cell_type": "code",
   "execution_count": 19,
   "metadata": {},
   "outputs": [
    {
     "name": "stdout",
     "output_type": "stream",
     "text": [
      "['阿文', '阿叡', '阿彤', '阿珊'] [90, 86, 89, 80]\n"
     ]
    }
   ],
   "source": [
    "# 練習 6-1-1-1：請自行建立串列，依序給定姓名及四次考試成績，並輸出\n",
    "scores=[90,86,89,80]\n",
    "names=['阿文','阿叡','阿彤','阿珊']\n",
    "print(names,scores)"
   ]
  },
  {
   "cell_type": "code",
   "execution_count": 8,
   "metadata": {},
   "outputs": [
    {
     "ename": "NameError",
     "evalue": "name 'ming_scores' is not defined",
     "output_type": "error",
     "traceback": [
      "\u001b[1;31m---------------------------------------------------------------------------\u001b[0m",
      "\u001b[1;31mNameError\u001b[0m                                 Traceback (most recent call last)",
      "\u001b[1;32m<ipython-input-8-59693df39638>\u001b[0m in \u001b[0;36m<module>\u001b[1;34m\u001b[0m\n\u001b[0;32m      3\u001b[0m \u001b[1;33m\u001b[0m\u001b[0m\n\u001b[0;32m      4\u001b[0m \u001b[1;31m# 範例 6-1-2-1：讀取小明程式設計的第三次考試成績\u001b[0m\u001b[1;33m\u001b[0m\u001b[1;33m\u001b[0m\u001b[1;33m\u001b[0m\u001b[0m\n\u001b[1;32m----> 5\u001b[1;33m \u001b[0mprint\u001b[0m\u001b[1;33m(\u001b[0m\u001b[1;34m'小明程式設計的第三次成績：'\u001b[0m\u001b[1;33m,\u001b[0m\u001b[0mming_scores\u001b[0m\u001b[1;33m[\u001b[0m\u001b[1;36m2\u001b[0m\u001b[1;33m]\u001b[0m\u001b[1;33m)\u001b[0m\u001b[1;33m\u001b[0m\u001b[1;33m\u001b[0m\u001b[0m\n\u001b[0m",
      "\u001b[1;31mNameError\u001b[0m: name 'ming_scores' is not defined"
     ]
    }
   ],
   "source": [
    "# 6-1-2 讀取串列元素\n",
    "# name_list[i] 是指串列名稱 lsit_name 編號 i 的元素，記得編號從 0 開始\n",
    "\n",
    "# 範例 6-1-2-1：讀取小明程式設計的第三次考試成績\n",
    "print('小明程式設計的第三次成績：',ming_scores[2])\n"
   ]
  },
  {
   "cell_type": "code",
   "execution_count": null,
   "metadata": {},
   "outputs": [],
   "source": [
    "# 範例 6-1-2-2：讀取小明程式設計的各項成績(1)\n",
    "x0=ming_scores[0]\n",
    "x1=ming_scores[1]\n",
    "x2=ming_scores[2]\n",
    "x3=ming_scores[3]\n",
    "print('小明程式設計的各次成績：',x0,x1,x2,x3)"
   ]
  },
  {
   "cell_type": "code",
   "execution_count": null,
   "metadata": {},
   "outputs": [],
   "source": [
    "# 範例 6-1-2-3：讀取小名程式設計各項成績(2)\n",
    "y0,y1,y2,y3=ming_scores\n",
    "print('小明程式設計的各次成績：',y0,y1,y2,y3)"
   ]
  },
  {
   "cell_type": "code",
   "execution_count": 24,
   "metadata": {},
   "outputs": [
    {
     "name": "stdout",
     "output_type": "stream",
     "text": [
      "費式數列前十項: 0 1 1 2 3 5 8 13 21 34\n"
     ]
    }
   ],
   "source": [
    "# 練習 6-1-2-1：請自行建立 Fibonacci 數列的前十項，並讀取輸出\n",
    "Fibonacci=[0,1,1,2,3,5,8,13,21,34]\n",
    "print('費式數列前十項:',Fibonacci[0],Fibonacci[1],Fibonacci[2],Fibonacci[3],Fibonacci[4],Fibonacci[5],Fibonacci[6],Fibonacci[7],Fibonacci[8],Fibonacci[9])"
   ]
  },
  {
   "cell_type": "code",
   "execution_count": null,
   "metadata": {},
   "outputs": [],
   "source": [
    "# 6-1-3 串列的切片(list slices)\n",
    "# 從原串列中切片形成新串列，方法如下\n",
    "    # name_list[start:end]   #讀取串列索引編號 start 到 end-1 的元素\n",
    "    # name_list[:n]          #讀取串列索引編號 0 到 n-1 的元素(前 n 個)\n",
    "    # name_list[n:]          #讀取串列索引編號 n 到 最後 的元素\n",
    "    # name_list[-n:]         #讀取串列索引編號 -n 到 最後 的元素(後 n 個)\n",
    "    # name_list[:]           #讀取串列所有元素\n",
    "# 特別的是索引編號為負，如同數線，是指反向\n",
    "\n",
    "# 範例 6-1-3-1：各種切片\n",
    "score=['Jian-Cheng', 89, 82, 86, 90, 92]\n",
    "\n",
    "print(score[1:4])\n",
    "print(score[:4])\n",
    "print(score[4:])\n",
    "print(score[-4:])\n",
    "print(score[:])"
   ]
  },
  {
   "cell_type": "code",
   "execution_count": 29,
   "metadata": {},
   "outputs": [
    {
     "name": "stdout",
     "output_type": "stream",
     "text": [
      "['Jian-Cheng', 82, 90]\n"
     ]
    }
   ],
   "source": [
    "# 從原串列中切片形成新串列，亦可跳著切，方法如下\n",
    "    # name_list[start:end:step]   #從 start 並以 step 累加到 end 之前的元素\n",
    "\n",
    "# 範例 6-1-3-2：跳著切片\n",
    "score=['Jian-Cheng', 89, 82, 86, 90, 92]\n",
    "print(score[::2])\n"
   ]
  },
  {
   "cell_type": "code",
   "execution_count": 49,
   "metadata": {},
   "outputs": [
    {
     "name": "stdout",
     "output_type": "stream",
     "text": [
      "[3, 5, 8, 13]\n",
      "[5, 8, 13, 21, 34]\n",
      "[0, 1, 1, 2]\n",
      "[5, 8, 13, 21, 34]\n",
      "[0, 2, 8, 34]\n",
      "[1, 3, 13] [1, 5, 21]\n"
     ]
    }
   ],
   "source": [
    "# 練習 6-1-3-1：請接續 6-1-2-1的 Fibonacci串列完成下列切片\n",
    "    # 切出費氏數列第五項至第八項的串列\n",
    "    # 切出第五項(含)以後\n",
    "    # 切出至第五項(不含)\n",
    "    # 切出最後五項\n",
    "    # 切出偶數項\n",
    "    # 切出奇數項\n",
    "Fibonacci=[0,1,1,2,3,5,8,13,21,34]\n",
    "print(Fibonacci[4:8])\n",
    "print(Fibonacci[5:])\n",
    "print(Fibonacci[:4])\n",
    "print(Fibonacci[-5:])\n",
    "print(Fibonacci[::3])\n",
    "print(Fibonacci[1::3],Fibonacci[2::3])"
   ]
  },
  {
   "cell_type": "code",
   "execution_count": null,
   "metadata": {},
   "outputs": [],
   "source": [
    "# 6-1-4 負的索引編號 -1\n",
    "\n",
    "# 範例 6-1-4-1：元素\n",
    "score=['Jian-Cheng', 89, 82, 86, 90, 92]\n",
    "print(score[0])\n",
    "print(score[-1])\n",
    "print(score[-2])\n",
    "# 串列中最後一個元素使用 name_list[-1]"
   ]
  },
  {
   "cell_type": "code",
   "execution_count": null,
   "metadata": {},
   "outputs": [],
   "source": [
    "# 範例 6-1-4-2：切片\n",
    "score=['Jian-Cheng', 89, 82, 86, 90, 92]\n",
    "# 最後三個元素\n"
   ]
  },
  {
   "cell_type": "code",
   "execution_count": null,
   "metadata": {},
   "outputs": [],
   "source": [
    "# 練習 6-1-4-1：請接續 6-1-2-1的 Fibonacci串列完成下列切片\n",
    "    # [-3:-7]是否可以切出？\n",
    "    # [-7:-3]是否可以切出？\n",
    "  "
   ]
  },
  {
   "cell_type": "code",
   "execution_count": null,
   "metadata": {},
   "outputs": [],
   "source": [
    "# 6-1-5 串列資料的簡單統計：max()、min()、sum()函數\n",
    "# 範例 6-1-5-1\n",
    "p_score=[89, 82, 86, 90, 92, 87, 91]\n",
    "maximum=max(p_score)\n",
    "minimum=min(p_score)\n",
    "totle=sum(p_score)\n",
    "print(\"最大值：\",maximum)\n",
    "print(\"最小值：\",minimum)\n",
    "print(\"總  和：\",totle)\n",
    "\n",
    "# 可利用 help() 查詢這些統計函數的用法"
   ]
  },
  {
   "cell_type": "code",
   "execution_count": null,
   "metadata": {},
   "outputs": [],
   "source": [
    "# 練習 6-1-5-1：每月用電度，最大值，最小值，總和\n",
    "Elect=[240,235,242,235,258,302,321,372,386,335,286,220]\n"
   ]
  },
  {
   "cell_type": "code",
   "execution_count": null,
   "metadata": {},
   "outputs": [],
   "source": [
    "# 範例 6-1-5-2：字串可以嗎？\n",
    "fruits=['apple','banana','grape','guava','orange','kiwi fruit']\n",
    "\n",
    "maxi=max(fruits)\n",
    "print('字串串列最大值：',maxi)\n",
    "\n",
    "mini=min(fruits)\n",
    "print('字串串列最小值：',mini)\n",
    "\n",
    "total=sum(fruits)\n",
    "print('字串串列總  和：',total)"
   ]
  },
  {
   "cell_type": "code",
   "execution_count": null,
   "metadata": {},
   "outputs": [],
   "source": [
    "# 練習 6-1-5-2：混合怎麼辦？姓名與成績串列的成績最大值、最小值及總和\n",
    "score=['Jian-Cheng', 89, 82, 86, 90, 92]"
   ]
  },
  {
   "cell_type": "code",
   "execution_count": null,
   "metadata": {},
   "outputs": [],
   "source": [
    "# 6-1-6 串列資料個數：len()函數\n",
    "fruits=['apple','banana','grape','guava','orange','kiwi fruit']\n",
    "print(len(fruits))"
   ]
  },
  {
   "cell_type": "code",
   "execution_count": null,
   "metadata": {},
   "outputs": [],
   "source": [
    "# 練習 6-1-6-1：輸出程設成績次數、最大值、最小值、總和及平均\n",
    "p_score=[89, 82, 86, 90, 92, 87, 91]"
   ]
  },
  {
   "cell_type": "code",
   "execution_count": null,
   "metadata": {},
   "outputs": [],
   "source": [
    "# 6-1-7 修改串列資料\n",
    "\n",
    "# 範例 6-1-7-1：第四次成績誤植，正確為 80，請修正\n",
    "p_score=[89, 82, 86, 90, 92, 87, 91]\n"
   ]
  },
  {
   "cell_type": "code",
   "execution_count": null,
   "metadata": {},
   "outputs": [],
   "source": [
    "# 練習 6-1-7-1：水果行販售的奇異果(kiwi fruit)換成櫻桃(cherry)\n",
    "fruits=['apple','banana','grape','guava','orange','kiwi fruit']"
   ]
  },
  {
   "cell_type": "code",
   "execution_count": null,
   "metadata": {},
   "outputs": [],
   "source": [
    "# 6-1-8 串列的相加\n",
    "\n",
    "# 範例 6-1-8-1：合併成新的\n",
    "fibonacci_1=[1,1,2,3,5,8,13,21,34,55]\n",
    "fibonacci_2=[89,144,233,377]\n"
   ]
  },
  {
   "cell_type": "code",
   "execution_count": null,
   "metadata": {},
   "outputs": [],
   "source": [
    "# 範例 6-1-8-2：添加至原本的\n",
    "fibonacci_1=[1,1,2,3,5,8,13,21,34,55]\n",
    "fibonacci_2=[89,144,233,377]"
   ]
  },
  {
   "cell_type": "code",
   "execution_count": null,
   "metadata": {},
   "outputs": [],
   "source": [
    "# 練習 6-1-8-1：汽車銷售廠牌，練習合併與添加\n",
    "car1=['Toyota','Nissan','Honda']\n",
    "car2=['Mazda','Mistubici','Subaru']"
   ]
  },
  {
   "cell_type": "code",
   "execution_count": null,
   "metadata": {},
   "outputs": [],
   "source": [
    "# 6-1-9 串列的純量倍\n",
    "\n",
    "# 範例 6-1-9-1：串列資料均為整數，乘上特定倍，會怎樣？\n",
    "fibonacci_1=[1,1,2,3,5,8,13,21,34,55]\n",
    "\n"
   ]
  },
  {
   "cell_type": "code",
   "execution_count": null,
   "metadata": {},
   "outputs": [],
   "source": [
    "# 範例 6-1-9-2：串列資料均為字串，乘上特定倍，會怎樣？\n",
    "car1=['Toyota','Nissan','Honda']\n"
   ]
  },
  {
   "cell_type": "code",
   "execution_count": null,
   "metadata": {},
   "outputs": [],
   "source": [
    "# 練習 6-1-9-1：串列資料混雜數值與字串，乘上特定倍，會怎樣？\n",
    "score=['Jian-Cheng', 89, 82, 86, 90, 92]"
   ]
  },
  {
   "cell_type": "code",
   "execution_count": null,
   "metadata": {},
   "outputs": [],
   "source": [
    "# 6-1-10 串列元素的相加\n",
    "\n",
    "# 範例 6-1-10-1：Toyota 2019/04-2019/07國產房車每月銷售量\n",
    "sales_A=['Altis',3276,2883,3089,4081]\n",
    "sales_Y=['Yari',976,1116,1383,1598]\n",
    "sales_V=['Vios',573,654,888,1441]\n",
    "\n",
    "# 「三種汽車」在2019/04的「銷售總量」\n",
    "\n",
    "# 以「串列」紀錄三種汽車「各月份的銷售總量」"
   ]
  },
  {
   "cell_type": "code",
   "execution_count": null,
   "metadata": {},
   "outputs": [],
   "source": [
    "# 練習 6-1-10-1：籃球選手得分數\n",
    "James=['Leborn James',23,19,22,31,18]\n",
    "Love=['Kevin Love',20,18,30,22,15]\n",
    "\n",
    "# 輸出兩人在第三場比賽的總得分\n",
    "\n"
   ]
  },
  {
   "cell_type": "code",
   "execution_count": null,
   "metadata": {},
   "outputs": [],
   "source": [
    "# 6-1-11 串列元素的刪除\n",
    "# 刪除串列元素的基本語法： del name_list[i]\n",
    "    # del 是指刪除的敘述\n",
    "    # name_list 是指想要刪除元素的串列名稱\n",
    "    # i 是指該元素在串列的索引編號\n",
    "\n",
    "# 範例 6-1-11-1：Toyota 2019/04-2019/07國產房車每月銷售量\n",
    "sales_A=['Altis',3276,2883,3089,4081]\n",
    "sales_Y=['Yari',976,1116,1383,1598]\n",
    "sales_V=['Vios',573,654,888,1441]\n",
    "\n",
    "# 刪除各種汽車在2019/04的銷售量\n"
   ]
  },
  {
   "cell_type": "code",
   "execution_count": null,
   "metadata": {},
   "outputs": [],
   "source": [
    "# 範例 6-1-11-2：刪除串列多個元素\n",
    "fibonacci=[1,1,2,3,5,8,13,21,34,55,89,144,233,377]\n",
    "\n",
    "# 刪除第五項至第八項\n",
    "# 刪除奇數項\n",
    "\n",
    "# 一旦刪除就無法再回復"
   ]
  },
  {
   "cell_type": "code",
   "execution_count": null,
   "metadata": {},
   "outputs": [],
   "source": [
    "# 練習 6-1-11-1：刪除串列元素\n",
    "ice=[7,22,11,34,17,52,26,13,40,20,10,5,16,8,4,2,1]\n",
    "\n",
    "# 刪除串列第六項至十項，再刪除所成新串列的奇數項，最後輸出刪除後串列\n"
   ]
  },
  {
   "cell_type": "code",
   "execution_count": null,
   "metadata": {},
   "outputs": [],
   "source": [
    "# 6-1-12 空串列的判別\n",
    "# 給定空串列語法： name_list=[]\n",
    "\n",
    "# 範例 6-1-12-1：給定空串列\n",
    "num=[]\n",
    "print(num)\n",
    "print(type(num))\n"
   ]
  },
  {
   "cell_type": "code",
   "execution_count": null,
   "metadata": {},
   "outputs": [],
   "source": [
    "# 範例 6-1-12-2：刪除空串列的元素\n",
    "del num[0]\n"
   ]
  },
  {
   "cell_type": "code",
   "execution_count": null,
   "metadata": {},
   "outputs": [],
   "source": [
    "#避免出現上述錯誤：串列長度為 0 時，不可進行元素刪除\n",
    "num=[1,2,3,4,5]\n",
    "if len(num)!=0:\n",
    "    del num[0]\n",
    "    print('刪除串列第一個元素後的新串列：',num)\n",
    "else:\n",
    "    print('串列已無元素')"
   ]
  },
  {
   "cell_type": "code",
   "execution_count": null,
   "metadata": {},
   "outputs": [],
   "source": [
    "if len(num)!=0:\n",
    "    del num[0]\n",
    "    print('刪除串列第一個元素後的新串列：',num)\n",
    "else:\n",
    "    print('串列已無元素')"
   ]
  },
  {
   "cell_type": "code",
   "execution_count": null,
   "metadata": {},
   "outputs": [],
   "source": [
    "# 6-1-13 刪除串列\n",
    "# 刪除串列語法： del name_lsit\n",
    "\n",
    "# 範例 6-1-13-1：給定空串列\n",
    "num=[1,2,3,4,5]\n",
    "print(num)\n"
   ]
  },
  {
   "cell_type": "code",
   "execution_count": null,
   "metadata": {},
   "outputs": [],
   "source": [
    "del num\n",
    "print(num)"
   ]
  },
  {
   "cell_type": "code",
   "execution_count": null,
   "metadata": {},
   "outputs": [],
   "source": [
    "# 練習 6-1-13：給定串列、空串列、輸出、刪除後再輸出"
   ]
  },
  {
   "cell_type": "code",
   "execution_count": null,
   "metadata": {},
   "outputs": [],
   "source": [
    "# 6-2 物件導向程式設計(Object Orientaed Programing)\n",
    "# 整數、浮點數、布林、字串或是串列等不同資料型態，都被看成是物件\n",
    "# 用來處理特定物件的函數會被稱為此物件的「方法(method)」，並以「物件.方法()」語法使用\n",
    "\n",
    "# 6-2-1 字串的方法\n",
    "# 常見字串的方法列舉如下\n",
    "    # lower()：可將字串的英文字母轉成小寫\n",
    "    # upper()：可將字串的英文字母轉成大寫\n",
    "    # title()：可將字串的第一個英文字母轉成大寫，其他轉成小寫\n",
    "    # rstrip()：可將字串尾端(右側)的空白刪除\n",
    "    # lstrip()：可將字串前端(左側)的空白刪除\n",
    "    # strip()：可將字串兩端的空白刪除\n",
    "\n",
    "# 範例 6-2-1\n",
    "\n",
    "welcome=\"  welcome to learn python!  \"\n",
    "welcome_L=welcome.lower()\n",
    "welcome_U=welcome.upper()\n",
    "welcome_T=welcome.title()\n",
    "welcome_R=welcome.rstrip()\n",
    "welcome_L=welcome.lstrip()\n",
    "welcome_S=welcome.strip()\n",
    "print(welcome)\n",
    "print('小寫',welcome_L)"
   ]
  },
  {
   "cell_type": "code",
   "execution_count": null,
   "metadata": {},
   "outputs": [],
   "source": [
    "# 練習 6-2-1：建立含有英文、標點、數字與空白的字串，並使用方法處理"
   ]
  },
  {
   "cell_type": "code",
   "execution_count": null,
   "metadata": {},
   "outputs": [],
   "source": [
    "# 6-2-2 方法的使用時機\n",
    "cars=['toyota','nissan','benz','bmw']\n",
    "mycar1='我的車廠牌是'+cars[1].title()\n",
    "mycar2='我心中想要的車廠牌是'+cars[2].title()+'或是'+cars[3].upper()\n",
    "print(mycar1)\n",
    "print(mycar2)"
   ]
  },
  {
   "cell_type": "code",
   "execution_count": null,
   "metadata": {},
   "outputs": [],
   "source": [
    "# 6-2-3 物件方法的查詢：dir()\n",
    "# 範例 6-2-3：字串方法\n",
    "dir(welcome)"
   ]
  },
  {
   "cell_type": "code",
   "execution_count": null,
   "metadata": {},
   "outputs": [],
   "source": [
    "# 練習 6-2-3：給定一個整數，使用dir()查找處理整數的方法，並使用其中一個處理該整數"
   ]
  },
  {
   "cell_type": "code",
   "execution_count": null,
   "metadata": {},
   "outputs": [],
   "source": [
    "# 6-3 串列的方法\n",
    "# 範例 6-3-1：串列方法查詢\n",
    "\n",
    "# 常見串列的方法(作用在物件(原串列)上，無法給定新串列)\n",
    "    # append(element)：原串列末端增加元素(element)\n",
    "    # insert(index,element)：原串列索引位置(index)增加元素，後方元素索引值增加1\n",
    "    # pop(index)：原串列索引位置元素刪除，不輸入索引採預設值為 -1(末端)\n",
    "    # remove(element)：原串列的特定元素全數刪除\n",
    "    # reverse()：原串列元素排序顛倒\n",
    "    # sort()：原串列元素由小至大排列，若要反向可加入參數(reverse=True)\n",
    "\n",
    "    # index(element)：查找給定元素出現的第一個索引值，如果都沒有，就會出現錯誤\n",
    "    # count(element)：計數給定元素出現的次數\n",
    "\n",
    "cars=[]\n",
    "dir(cars)\n"
   ]
  },
  {
   "cell_type": "code",
   "execution_count": null,
   "metadata": {},
   "outputs": [],
   "source": [
    "cars=['toyota','nissan','benz','bmw']\n",
    "print(cars)\n",
    "newcars=cars.reverse()\n",
    "print(newcars)\n",
    "print(cars)"
   ]
  },
  {
   "cell_type": "code",
   "execution_count": null,
   "metadata": {},
   "outputs": [],
   "source": [
    "# 練習 6-3-1：給定一個串列，並查詢串列方法，找一個方法進行練習"
   ]
  },
  {
   "cell_type": "code",
   "execution_count": null,
   "metadata": {},
   "outputs": [],
   "source": [
    "# 6-4 串列元素的增減\n",
    "\n",
    "# 設定串列元素的語法無法新增元素\n",
    "\n",
    "# 範例 6-4\n",
    "cars=['toyota','nissan','benz','bmw']\n",
    "cars[4]=('honda')\n",
    "print(cars)"
   ]
  },
  {
   "cell_type": "code",
   "execution_count": null,
   "metadata": {},
   "outputs": [],
   "source": [
    "# 6-4-1 串列\"末端\"增加元素方法 append()\n",
    "    #方法 append()的參數為串列的元素(element)\n",
    "\n",
    "# 範例 6-4-1\n",
    "cars=['toyota','nissan','benz','bmw']\n",
    "cars.append('honda')\n",
    "print(cars)"
   ]
  },
  {
   "cell_type": "code",
   "execution_count": null,
   "metadata": {},
   "outputs": [],
   "source": [
    "# 練習 6-4-1：建立空串列，利用 append()新增三個元素"
   ]
  },
  {
   "cell_type": "code",
   "execution_count": null,
   "metadata": {},
   "outputs": [],
   "source": [
    "# 6-4-2 串列\"特定位置\"插入元素方法 insert()\n",
    "    #方法 insert()的參數包含串列的位置(index)和元素(element)\n",
    "\n",
    "# 範例 6-4-2\n",
    "cars.insert(2,'ford')\n",
    "print(cars)"
   ]
  },
  {
   "cell_type": "code",
   "execution_count": null,
   "metadata": {},
   "outputs": [],
   "source": [
    "# 練習 6-4-2 ：使用練習 6-4-1，在第二個元素後方插入二個新元素"
   ]
  },
  {
   "cell_type": "code",
   "execution_count": null,
   "metadata": {},
   "outputs": [],
   "source": [
    "# 6-4-3a 串列\"特定位置\"元素刪除可用敘述 del\n",
    "\n",
    "# 範例 6-4-3a\n",
    "cars=['toyota', 'nissan', 'ford', 'benz', 'bmw', 'honda']\n",
    "del cars[2]\n",
    "print(cars)\n"
   ]
  },
  {
   "cell_type": "code",
   "execution_count": null,
   "metadata": {},
   "outputs": [],
   "source": [
    "# 6-4-3b 串列\"特定位置\"元素刪除的方法 pop()\n",
    "    # del 是一般敘述，可使用在各種資料型態上\n",
    "    # pop()是串列的方法(針對串列的函數)，刪除特定位置元素並回傳該元素(element)\n",
    "        #方法 pop()的參數為位置(index)\n",
    "\n",
    "# 範例 6-4-3b\n",
    "cars=['toyota', 'nissan', 'ford', 'benz', 'bmw', 'honda']\n",
    "del_index=cars.pop(2)\n",
    "print(cars)\n",
    "print('已被刪除的資料：',del_index)"
   ]
  },
  {
   "cell_type": "code",
   "execution_count": null,
   "metadata": {},
   "outputs": [],
   "source": [
    "# 練習 6-4-3：建立新串列並使用與比較 敘述 del與 方法 pop()"
   ]
  },
  {
   "cell_type": "code",
   "execution_count": null,
   "metadata": {},
   "outputs": [],
   "source": [
    "# 6-4-4串列\"特定元素\"刪除的方法 remove()\n",
    "    #方法 remove()的參數為元素(element)\n",
    "\n",
    "# 範例 6-4-4\n",
    "cars=['toyota', 'nissan', 'ford', 'benz', 'bmw', 'honda']\n",
    "cars.remove('benz')\n",
    "print(cars)"
   ]
  },
  {
   "cell_type": "code",
   "execution_count": null,
   "metadata": {},
   "outputs": [],
   "source": [
    "# 練習 6-4-4：建立新串列並使用方法 remove() 刪除特定元素"
   ]
  },
  {
   "cell_type": "code",
   "execution_count": null,
   "metadata": {},
   "outputs": [],
   "source": [
    "# 6-5 串列的排序\n",
    "# 6-5-1 反向排序可使用方法 reverse()\n",
    "\n",
    "# 範例 6-5-1\n",
    "cars=['toyota', 'nissan', 'ford', 'benz', 'bmw', 'honda']\n",
    "cars.reverse()\n",
    "print(cars)"
   ]
  },
  {
   "cell_type": "code",
   "execution_count": null,
   "metadata": {},
   "outputs": [],
   "source": [
    "# 練習 6-5-1：給定一個串列並使用 reverse() 將其反向排列"
   ]
  },
  {
   "cell_type": "code",
   "execution_count": null,
   "metadata": {},
   "outputs": [],
   "source": [
    "# 6-5-2 串列元素由小至大排列的方法 sort()\n",
    "\n",
    "# 範例 6-5-2a\n",
    "cars=['toyota', 'nissan', 'ford', 'benz', 'bmw', 'honda']\n",
    "cars.sort()\n",
    "print(cars)"
   ]
  },
  {
   "cell_type": "code",
   "execution_count": null,
   "metadata": {},
   "outputs": [],
   "source": [
    "# 練習 6-5-2：給定一個串列並使用 sort()和 reverse() 兩方法將其由大至小排列"
   ]
  },
  {
   "cell_type": "code",
   "execution_count": null,
   "metadata": {},
   "outputs": [],
   "source": [
    "# 範例 6-5-2b：前述練習可結合\n",
    "cars=['toyota', 'nissan', 'ford', 'benz', 'bmw', 'honda']\n",
    "cars.sort(reverse=True)\n",
    "print(cars)"
   ]
  },
  {
   "cell_type": "code",
   "execution_count": null,
   "metadata": {},
   "outputs": [],
   "source": [
    "# 6-5-3 原串列排序後設為新串列的函數 sorted()\n",
    "# 並非串列類別的方法，而是作用在串列的函數，以串列為參數\n",
    "\n",
    "# 範例 6-5-3a\n",
    "cars=['toyota', 'nissan', 'ford', 'benz', 'bmw', 'honda']\n",
    "newcars=sorted(cars)\n",
    "print(cars)\n",
    "print(newcars)"
   ]
  },
  {
   "cell_type": "code",
   "execution_count": null,
   "metadata": {},
   "outputs": [],
   "source": [
    "# 練習 6-5-3：給定一個串列，使用 sorted() 函數建立排序的另一串列"
   ]
  },
  {
   "cell_type": "code",
   "execution_count": null,
   "metadata": {},
   "outputs": [],
   "source": [
    "# 範例 6-5-3b：sorted()函數亦可設定為反向排序\n",
    "cars=['toyota', 'nissan', 'ford', 'benz', 'bmw', 'honda']\n",
    "newcars=sorted(cars,reverse=True)\n",
    "print(cars)\n",
    "print(newcars)"
   ]
  },
  {
   "cell_type": "code",
   "execution_count": null,
   "metadata": {},
   "outputs": [],
   "source": [
    "# 6-6 串列的進階方法\n",
    "\n",
    "# 6-6-1 找出串列特定元素的第一個位置的方法 index()\n",
    "# 方法 index()的參數是元素(element)，並會回傳位置(index)\n",
    "\n",
    "# 範例 6-6-1\n",
    "pi50=[1,4,1,5,9,2,6,5,3,5,8,9,7,9,3,2,3,8,4,6,2,6,4,3,3,8,3,2,7,9,5,0,2,8,8,4,1,9,7,1,6,9,3,9,9,3,7,5,1,0]\n",
    "i=pi50.index(9)\n",
    "print('圓周率中第一次出現9是在小數點以下第幾位：',i+1)"
   ]
  },
  {
   "cell_type": "code",
   "execution_count": null,
   "metadata": {},
   "outputs": [],
   "source": [
    "# 練習 6-6-1：建立一個包含姓名與六次成績的串列，利用max()函數最高成績，並以 index()方法最高成績是在第幾次"
   ]
  },
  {
   "cell_type": "code",
   "execution_count": null,
   "metadata": {},
   "outputs": [],
   "source": [
    "# 6-6-2 計數串列特定元素的出現次數的方法 count()\n",
    "# 方法 count()的參數是元素(element)，並回傳次數值(非負整數)\n",
    "\n",
    "# 範例 6-6-1\n",
    "pi50=[1,4,1,5,9,2,6,5,3,5,8,9,7,9,3,2,3,8,4,6,2,6,4,3,3,8,3,2,7,9,5,0,2,8,8,4,1,9,7,1,6,9,3,9,9,3,7,5,1,0]\n",
    "num=pi50.count(9)\n",
    "print('圓周率的前五十位中，出現9的次數：',num)"
   ]
  },
  {
   "cell_type": "code",
   "execution_count": null,
   "metadata": {},
   "outputs": [],
   "source": [
    "# 練習 6-6-2：建立一個30人的成績串列，並以 count()方法計數最高成績出現的次數"
   ]
  },
  {
   "cell_type": "code",
   "execution_count": null,
   "metadata": {},
   "outputs": [],
   "source": [
    "# 6-6-3 字串的方法 join()可將串列所有元素組合成字串\n",
    "# 字串(string)方法 join()，其參數為有序資料型態，如串列(list)、元組(tuple)\n",
    "\n",
    "# 範例 6-6-3\n",
    "connector=''\n",
    "pi10=['1','4','1','5','9','2','6','5','3','5']\n",
    "pi10_word=connector.join(pi10)\n",
    "print('圓周率(小數點前十位)：','3.'+pi10_word)\n",
    "\n",
    "#備註：有序資料，如串列，元素須為字串，否則會出錯"
   ]
  },
  {
   "cell_type": "code",
   "execution_count": null,
   "metadata": {},
   "outputs": [],
   "source": [
    "# 範例 6-6-3：利用下面的列表練習字串方法 join()\n",
    "# ['Mathematics','Information','Education'] 組合成系名\n",
    "# ['1234','4321','5678','8999'] 組合成卡號"
   ]
  },
  {
   "cell_type": "code",
   "execution_count": null,
   "metadata": {},
   "outputs": [],
   "source": [
    "# 6-7串列內有串列\n",
    "\n",
    "# 6-7-1 表示方式\n",
    "# 範例 6-7-1\n",
    "matrix_A=[[1,3,2],[5,6,4],[9,8,7]]\n",
    "print('矩陣A第二列的元素：',matrix_A[1])\n",
    "print('矩陣A第二列第三行的元素：',matrix_A[1][2])"
   ]
  },
  {
   "cell_type": "code",
   "execution_count": null,
   "metadata": {},
   "outputs": [],
   "source": [
    "# 練習 6-7-1a：輸出下列矩陣(1)第三列第二行的元素(2)第二行元素\n",
    "matrix_A=[[1,3,2],[5,6,4],[9,8,7]]"
   ]
  },
  {
   "cell_type": "code",
   "execution_count": null,
   "metadata": {},
   "outputs": [],
   "source": [
    "# 練習 6-7-1b：逐列輸出基本資料及最高成績\n",
    "data_01=[['Jiancheng Chen','Doctor','19XX/XX/XX'],90,87,85,89,91,88]\n"
   ]
  },
  {
   "cell_type": "code",
   "execution_count": null,
   "metadata": {},
   "outputs": [],
   "source": [
    "# 6-7-2 串列的方法 append()\n",
    "# 範例 6-7-2：利用上例，串列後端再加入三次成績，並仿照上例輸出\n",
    "data_01=[['Jiancheng Chen','Doctor','19XX/XX/XX'],90,87,85,89,91,88]\n",
    "data_01.append(92)\n",
    "data_01.append(99)\n",
    "data_01.append(80)\n",
    "maximum=max(data_01[1:])\n",
    "print('Name:',data_01[0][0])\n",
    "print('Postion:',data_01[0][1])\n",
    "print('Birthday:',data_01[0][2])\n",
    "print('Maximum of scores:',maximum)"
   ]
  },
  {
   "cell_type": "code",
   "execution_count": null,
   "metadata": {},
   "outputs": [],
   "source": [
    "# 6-7-3 串列的方法 extend()\n",
    "# 範例 6-7-3：同樣使用上例，串列後端再加入三次成績，並仿照上例輸出\n",
    "data_01=[['Jiancheng Chen','Doctor','19XX/XX/XX'],90,87,85,89,91,88]\n",
    "score=[92,96,80]\n",
    "data_01.extend(score)\n",
    "maximum=max(data_01[1:])\n",
    "print('Name:',data_01[0][0])\n",
    "print('Postion:',data_01[0][1])\n",
    "print('Birthday:',data_01[0][2])\n",
    "print('Maximum of scores:',maximum)"
   ]
  },
  {
   "cell_type": "code",
   "execution_count": null,
   "metadata": {},
   "outputs": [],
   "source": [
    "# 練習 6-7-3：仿照下例建立自己的成績資料，並利用方法 append()與 extend()增加成績資料\n",
    "data_01=[['Jiancheng Chen','Doctor','19XX/XX/XX'],90,87,85,89,91,88]\n"
   ]
  },
  {
   "cell_type": "code",
   "execution_count": null,
   "metadata": {},
   "outputs": [],
   "source": [
    "# 6-8 串列的拷貝\n",
    "\n",
    "# 6-8-1 串列的深層拷貝(deep copy)\n",
    "\n",
    "# 範例 6-8-1a\n",
    "myfruits=['mango','guava','banana']\n",
    "hisfruits=myfruits\n",
    "print('我最愛的水果：',myfruits)\n",
    "print('他最愛的水果：',hisfruits)\n",
    "\n"
   ]
  },
  {
   "cell_type": "code",
   "execution_count": null,
   "metadata": {},
   "outputs": [],
   "source": [
    "# 範例 6-8-1b：各自添加元素，結果...\n",
    "myfruits.append('watermelon')\n",
    "hisfruits.append('cherry')\n",
    "print('我最愛的水果：',myfruits)\n",
    "print('他最愛的水果：',hisfruits)\n",
    "\n"
   ]
  },
  {
   "cell_type": "code",
   "execution_count": null,
   "metadata": {},
   "outputs": [],
   "source": [
    "# 使用等號宣告變數，其變數名稱像是標籤，指向相同的儲存資料，稱為深層拷貝\n",
    "# 可利用檢查變數資料儲存位址的函數 id()\n",
    "# 範例 6-8-1c：\n",
    "print('我最愛的水果資料位址：',id(myfruits))\n",
    "print('他最愛的水果資料位址：',id(hisfruits))"
   ]
  },
  {
   "cell_type": "code",
   "execution_count": null,
   "metadata": {},
   "outputs": [],
   "source": [
    "# 為了避免深層拷貝，不同變數指向相同儲存資料，產生連動改變，可改採淺拷貝(shallow copy)\n",
    "# 淺拷貝只拷貝資料內容\n",
    "# 範例 6-8-1d\n",
    "myfruits=['mango','guava','banana']\n",
    "hisfruits=myfruits[:]\n",
    "print('我最愛的水果：',myfruits)\n",
    "print('他最愛的水果：',hisfruits)\n",
    "print('我最愛的水果資料位址：',id(myfruits))\n",
    "print('他最愛的水果資料位址：',id(hisfruits))\n",
    "myfruits.append('watermelon')\n",
    "hisfruits.append('cherry')\n",
    "print('我最愛的水果：',myfruits)\n",
    "print('他最愛的水果：',hisfruits)"
   ]
  },
  {
   "cell_type": "code",
   "execution_count": null,
   "metadata": {},
   "outputs": [],
   "source": [
    "# 練習 6-8-1：建立運動類型的串列資料，並進行深拷貝與淺拷貝練習"
   ]
  },
  {
   "cell_type": "code",
   "execution_count": null,
   "metadata": {},
   "outputs": [],
   "source": [
    "# 6-9 再談字串\n",
    "\n",
    "# 6-9-1 字串索引\n",
    "# 範例 6-9-1\n",
    "department='Mathematics and Information Education'\n",
    "print(department[0])\n",
    "print(department[1])\n",
    "print(department[2])\n",
    "print(department[-1])\n",
    "print(department[-2])\n",
    "print(department[-3])"
   ]
  },
  {
   "cell_type": "code",
   "execution_count": null,
   "metadata": {},
   "outputs": [],
   "source": [
    "# 6-9-2 字串切片\n",
    "# 範例 6-9-2\n",
    "department='Mathematics and Information Education'\n",
    "print(department[:11])\n"
   ]
  },
  {
   "cell_type": "code",
   "execution_count": null,
   "metadata": {},
   "outputs": [],
   "source": [
    "# 練習 6-9-2：利用上例切出'Education'\n",
    "department='Mathematics and Information Education'\n"
   ]
  },
  {
   "cell_type": "code",
   "execution_count": null,
   "metadata": {},
   "outputs": [],
   "source": [
    "# 6-9-3 可用在字串的函數 len(),max(),min()\n",
    "# 範例 6-9-3\n",
    "department='Mathematics and Information Education'\n",
    "print('給定字串的長度：',len(department))\n",
    "print('給定字串中編碼最大為的字元：',max(department),'編碼為：',ord(max(department)))\n",
    "print('給定字串中編碼最小的字元：',min(department),'編碼為：',ord(min(department)))"
   ]
  },
  {
   "cell_type": "code",
   "execution_count": null,
   "metadata": {},
   "outputs": [],
   "source": [
    "# 練習 6-9-3：利用字串'Learning Python'練習上述函數"
   ]
  },
  {
   "cell_type": "code",
   "execution_count": null,
   "metadata": {},
   "outputs": [],
   "source": [
    "# 6-9-4 將字串轉換為串列的函數 list()\n",
    "# 範例 6-9-4\n",
    "word='Mathematics'\n",
    "word_list=list(word)\n",
    "print('字串：',word)\n",
    "print('字串字元串列：',word_list)"
   ]
  },
  {
   "cell_type": "code",
   "execution_count": null,
   "metadata": {},
   "outputs": [],
   "source": [
    "# 練習 6-9-4：利用字串'Learning Python'練習上述函數"
   ]
  },
  {
   "cell_type": "code",
   "execution_count": null,
   "metadata": {},
   "outputs": [],
   "source": [
    "# 6-9-5 將字串以切片賦值修改部分內容\n",
    "# 範例 6-9-5\n",
    "w='Deep Copy'\n",
    "w_list=list(w)\n",
    "print('字串：',w)\n",
    "print('字串字元串列：',w_list)\n",
    "w_list[5:]='Learning'\n",
    "c=''\n",
    "w_new=c.join(w_list)\n",
    "print(w_new)"
   ]
  },
  {
   "cell_type": "code",
   "execution_count": null,
   "metadata": {},
   "outputs": [],
   "source": [
    "# 練習 6-9-5：仿照上例，將字串'Learning Mathematics'改成'Learning Python'"
   ]
  },
  {
   "cell_type": "code",
   "execution_count": null,
   "metadata": {},
   "outputs": [],
   "source": [
    "# 6-9-6 字串的方法\n",
    "w='Learning Mathematics'\n",
    "dir(w)"
   ]
  },
  {
   "cell_type": "code",
   "execution_count": null,
   "metadata": {},
   "outputs": [],
   "source": [
    "# 範例 6-9-6：字串方法 split()為例\n",
    "# 方法split()的參數為字串，預設為' '，並回傳分割後各部分為元素組成的串列\n",
    "\n",
    "w='Learning Mathematics'\n",
    "s='1234-4567-8990-2417'\n",
    "t='Jiancheng'\n",
    "w_list=w.split()\n",
    "s_list=s.split('-')\n",
    "t_list=t.split()\n",
    "print(w_list)\n",
    "print(s_list)\n",
    "print(t_list)\n",
    "print(list(t))"
   ]
  },
  {
   "cell_type": "code",
   "execution_count": null,
   "metadata": {},
   "outputs": [],
   "source": [
    "# 練習 6-9-6：建立字串並練習方法 split()"
   ]
  },
  {
   "cell_type": "code",
   "execution_count": null,
   "metadata": {},
   "outputs": [],
   "source": [
    "# 6-10 使用 in 或 not in 運算進行判斷\n",
    "\n",
    "# 範例 6-10\n",
    "name_list=['Chen','Tsai','Lin','Yang','Tseng','Hui']\n",
    "name=input('請輸入你的姓氏(英文)：')\n",
    "if name in name_list:\n",
    "    print('你的姓氏(英文)已經存在資料表內')\n",
    "else:\n",
    "    name_list.append(name)\n",
    "    print('你的姓氏(英文)已經加到資料表內')\n",
    "print(name_list)"
   ]
  },
  {
   "cell_type": "code",
   "execution_count": null,
   "metadata": {},
   "outputs": [],
   "source": [
    "# 練習 6-10：使用 not in 修改上面的例子，使其具有相同功能"
   ]
  },
  {
   "cell_type": "code",
   "execution_count": 3,
   "metadata": {
    "scrolled": true
   },
   "outputs": [
    {
     "name": "stdout",
     "output_type": "stream",
     "text": [
      "myfruits: ['mango', 'guava', 'banana', 'watermelon'] id: 2466698338248\n",
      "fruits_1: ['mango', 'guava', 'banana', 'watermelon'] id: 2466698338248\n",
      "fruots_2: ['mango', 'guava', 'banana', 'watermelon'] id: 2466698350664\n",
      "myfruits is fruits_1? True\n",
      "myfruits is fruits_2? False\n"
     ]
    }
   ],
   "source": [
    "# 6-11 使用 is 或 is not 運算進行判斷\n",
    "# 範例 6-11\n",
    "myfruits=['mango','guava','banana','watermelon']\n",
    "fruits_1=myfruits\n",
    "fruits_2=myfruits[:]\n",
    "print('myfruits:',myfruits,'id:',id(myfruits))\n",
    "print('fruits_1:',fruits_1,'id:',id(fruits_1))\n",
    "print('fruots_2:',fruits_2,'id:',id(fruits_2))\n",
    "print('myfruits is fruits_1?',myfruits is fruits_1)\n",
    "print('myfruits is fruits_2?',myfruits is fruits_2)"
   ]
  },
  {
   "cell_type": "code",
   "execution_count": null,
   "metadata": {},
   "outputs": [],
   "source": [
    "# 練習 6-10：使用下列變數，並結合 is 運算判斷是否相同\n",
    "x=100\n",
    "y=100\n",
    "z=x*1"
   ]
  },
  {
   "cell_type": "code",
   "execution_count": 6,
   "metadata": {},
   "outputs": [
    {
     "name": "stdout",
     "output_type": "stream",
     "text": [
      "<enumerate object at 0x0000023E52ADE0D8> <class 'enumerate'>\n",
      "[(0, 'J'), (1, 'i'), (2, 'a'), (3, 'n'), (4, 'c'), (5, 'h'), (6, 'e'), (7, 'n'), (8, 'g'), (9, ' '), (10, 'C'), (11, 'h'), (12, 'e'), (13, 'n')] <class 'list'>\n"
     ]
    }
   ],
   "source": [
    "# 6-12 函數 enumerate()\n",
    "# 將資料及其次序，以特殊的enumerate的資料型式回傳\n",
    "\n",
    "# 範例 6-12a：字串\n",
    "name='Jiancheng Chen'\n",
    "name_e=enumerate(name)\n",
    "print(name_e,type(name_e))\n",
    "\n",
    "name_list=list(name_e)\n",
    "print(name_list,type(name_list))"
   ]
  },
  {
   "cell_type": "code",
   "execution_count": 8,
   "metadata": {},
   "outputs": [
    {
     "name": "stdout",
     "output_type": "stream",
     "text": [
      "[(1, 'mango'), (2, 'guava'), (3, 'banana'), (4, 'watermelon')]\n"
     ]
    }
   ],
   "source": [
    "# 範例 6-12b：串列\n",
    "myfruits=['mango','guava','banana','watermelon']\n",
    "fruits_list=list(enumerate(myfruits,1)) #序號預設 0，可以修改\n",
    "print(fruits_list)"
   ]
  },
  {
   "cell_type": "code",
   "execution_count": null,
   "metadata": {},
   "outputs": [],
   "source": [
    "# 練習 6-12：建立字串或串列，並使用enumerate()轉換成有序資料"
   ]
  },
  {
   "cell_type": "code",
   "execution_count": null,
   "metadata": {},
   "outputs": [],
   "source": [
    "# 作業 6：實作題 (選擇題請自行參考教科書)\n",
    "\n",
    "# 6-1：列出10個最想去旅行的城市或風景區(英文表示)，並完成下列動作\n",
    "    # 1.建立此10個名稱資料串列\n",
    "    # 2.反向排列，並呈現\n",
    "    # 3.由小至大排列，並呈現\n",
    "    # 4.由大至小排列，並呈現\n",
    "    # 5.最前端加入'Antarictic'，尾端加入'Arctic Seea'，並呈現\n",
    "    # 6.中間加入'Tainan'，並呈現\n",
    "    # 7.刪除第 3 和第 9 筆資料，並呈現\n",
    "\n",
    "# 6-2：建立晚會邀請名單\n",
    "    # 建立初始為空白的邀請名單\n",
    "    # 建立有三項功能選單(1為新增、2為刪除、3為查詢)\n",
    "    # 新增名單功能中，新增名單若已有，則告知並且毋須新增\n",
    "    # 刪除名單功能中，刪除名單若沒有，則告知並且毋須刪除\n",
    "    # 目前功能選單只需調整一次，後續再修改成可重複調整\n"
   ]
  }
 ],
 "metadata": {
  "kernelspec": {
   "display_name": "Python 3",
   "language": "python",
   "name": "python3"
  },
  "language_info": {
   "codemirror_mode": {
    "name": "ipython",
    "version": 3
   },
   "file_extension": ".py",
   "mimetype": "text/x-python",
   "name": "python",
   "nbconvert_exporter": "python",
   "pygments_lexer": "ipython3",
   "version": "3.7.4"
  }
 },
 "nbformat": 4,
 "nbformat_minor": 2
}
