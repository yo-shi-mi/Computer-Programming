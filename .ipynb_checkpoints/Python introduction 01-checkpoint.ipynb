{
 "cells": [
  {
   "cell_type": "code",
   "execution_count": null,
   "metadata": {},
   "outputs": [],
   "source": [
    "# 1-1 認識 Pyhton\n",
    "\n",
    "'''Python的維基百科知識，https://zh.wikipedia.org/wiki/Python'''\n"
   ]
  },
  {
   "cell_type": "code",
   "execution_count": null,
   "metadata": {},
   "outputs": [],
   "source": [
    "# 1-7 系統安裝與執行\n",
    "\n",
    "\"\"\" Anaconda for windows 安裝實作\"\"\""
   ]
  },
  {
   "cell_type": "code",
   "execution_count": null,
   "metadata": {},
   "outputs": [],
   "source": [
    "# 1-8 Python 2.x 與 Python 3.x 不相容\n",
    "\n",
    "print\"程式設計課程\"     # Python 2.x\n",
    "print(\"程式設計課程\")   # Python 3.x\n"
   ]
  },
  {
   "cell_type": "code",
   "execution_count": null,
   "metadata": {},
   "outputs": [],
   "source": [
    "# 1-9 Python 程式檔案的建立、編輯與執行\n",
    "\n",
    "'''搭配Spider使用'''\n",
    "\n",
    "print(\"108學年度程式設計課程\")\n",
    "print(\"授課教師 陳建誠 老師\")\n",
    "\n"
   ]
  },
  {
   "cell_type": "code",
   "execution_count": 13,
   "metadata": {},
   "outputs": [
    {
     "name": "stdout",
     "output_type": "stream",
     "text": [
      "魏氏智力分數低至高累積至0.5的高分數 100.0\n",
      "魏氏智力分數高至低累積至0.75的低分數 89.88265374705878\n",
      "魏氏智力分數中間累積至0.75的高低分數 (82.74475929435988, 117.25524070564012)\n"
     ]
    }
   ],
   "source": [
    "# 1-10 程式註解\n",
    "'''註解就是以特定符號標記起來的文字說明\n",
    "程式執行時會被忽略，但可增加程式的可讀性\n",
    "，有助於後續程式的維護或調整。'''\n",
    "\n",
    "from scipy.stats import norm\n",
    "\n",
    "normal_upper_bound=norm.ppf  #根據某常態分布的機率值=P(Z<z)回傳z值\n",
    "\n",
    "def normal_lower_bound(probability, mu=0, sigma=1):\n",
    "    \"\"\"根據某常態分布的機率值=P(Z >= z)回傳z值\"\"\"\n",
    "    return norm.ppf(1 - probability, mu, sigma)\n",
    "\n",
    "def normal_two_sided_bounds(probability, mu=0, sigma=1):\n",
    "    \"\"\"根據某常態分布的平均兩側相同邊界範圍的機率值回傳邊界的區間\"\"\"\n",
    "    tail_probability = (1 - probability) / 2\n",
    "    #右邊界\n",
    "    upper_bound = normal_lower_bound(tail_probability, mu, sigma)\n",
    "    #左邊界\n",
    "    lower_bound = normal_upper_bound(tail_probability, mu, sigma)\n",
    "    return lower_bound, upper_bound\n",
    "\n",
    "#常見案例：魏氏智力分數\n",
    "print(\"魏氏智力分數低至高累積至0.5的高分數\",normal_upper_bound(0.5,100,15))\n",
    "\n",
    "print(\"魏氏智力分數高至低累積至0.75的低分數\",normal_lower_bound(0.75,100,15))\n",
    "\n",
    "print(\"魏氏智力分數中間累積至0.75的高低分數\",normal_two_sided_bounds(0.75,100,15))\n"
   ]
  },
  {
   "cell_type": "code",
   "execution_count": null,
   "metadata": {},
   "outputs": [],
   "source": []
  }
 ],
 "metadata": {
  "kernelspec": {
   "display_name": "Python 3",
   "language": "python",
   "name": "python3"
  },
  "language_info": {
   "codemirror_mode": {
    "name": "ipython",
    "version": 3
   },
   "file_extension": ".py",
   "mimetype": "text/x-python",
   "name": "python",
   "nbconvert_exporter": "python",
   "pygments_lexer": "ipython3",
   "version": "3.7.4"
  }
 },
 "nbformat": 4,
 "nbformat_minor": 2
}
