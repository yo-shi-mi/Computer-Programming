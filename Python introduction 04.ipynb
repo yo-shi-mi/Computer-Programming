{
 "cells": [
  {
   "cell_type": "code",
   "execution_count": null,
   "metadata": {},
   "outputs": [],
   "source": [
    "# 4-1 輔助說明：help()\n",
    "# 範例 4-1-1：檢視輸出函數 print()的輔助說明\n",
    "\n",
    "help(print)\n"
   ]
  },
  {
   "cell_type": "code",
   "execution_count": null,
   "metadata": {},
   "outputs": [],
   "source": [
    "# 練習 4-1-1：檢視 round()函數的輔助說明\n"
   ]
  },
  {
   "cell_type": "code",
   "execution_count": null,
   "metadata": {},
   "outputs": [],
   "source": [
    "# 練習 4-1-2：根據輔助說明嘗試使用 round()函數"
   ]
  },
  {
   "cell_type": "code",
   "execution_count": null,
   "metadata": {},
   "outputs": [],
   "source": [
    "# 4-2 格式化輸出函數：print()\n",
    "# 4-2-1 print()函數的基本語法\n",
    "# print(value, ..., sep=' ', end='\\n', file=sys.stdout, flush=False)\n",
    "    # value：是指需要輸出的資料，若要同時輸出多個資料，各資料需以逗號(,)區隔\n",
    "    # sep：是指同時輸出多個資料時，輸出資料間的分隔符號，需以引號包圍，預設(沒有設定時)是一個空白字元\n",
    "    # end：是指輸出完畢後最後插入的字元，需以引號包圍，預設是換行(相當於逸出字元 \\n )\n",
    "    # file：是指輸出的所在處，預設是系統的標準輸出裝置(sys.stdout)\n",
    "    # flush：是指是否清除資料流的緩衝區，預設是不清除\n",
    "\n"
   ]
  },
  {
   "cell_type": "code",
   "execution_count": null,
   "metadata": {},
   "outputs": [],
   "source": [
    "# 範例 4-2-1-1\n",
    "name01='陳建誠'\n",
    "score1=89\n",
    "score2=92\n",
    "score3=90\n",
    "print(name01,score1,score2,score3)\n",
    "print(name01,score1,score2,score3, sep='  ', end='...')"
   ]
  },
  {
   "cell_type": "code",
   "execution_count": null,
   "metadata": {},
   "outputs": [],
   "source": [
    "# 範例 4-2-1-2：加上項目名稱的輸出\n",
    "name01='陳建誠'\n",
    "score1=89\n",
    "score2=92\n",
    "score3=90\n",
    "print('姓名:',name01)\n",
    "print('國語：',score1, sep='')   #調整 sep 與 end 並觀察與比較效果\n",
    "print('數學：',score2)\n",
    "print('社會：',score3)\n",
    "print('平均：',(score1+score2+score3)/3)"
   ]
  },
  {
   "cell_type": "code",
   "execution_count": null,
   "metadata": {},
   "outputs": [],
   "source": [
    "#練習 4-2-1-1：電子郵件回復附加資料如下，利用print()輸出如格式\n",
    "'''\n",
    "Jian-Cheng Chen\n",
    "Assistant Professor, Department of Mathematics and Information Education, National Taipei University of Education\n",
    "No.134, Sec. 2, Heping E. Rd., Da-an District, Taipei City 106, Taiwan (R.O.C.) \n",
    "+886-2-2732-1104 # 53305\n",
    "'''\n",
    "\n",
    "name1='Jian-Cheng'\n",
    "name2='Chen'\n",
    "title='Assistant Professor'\n",
    "department='Department of Mathematics and Information Education'\n",
    "institution='National Taipei University of Education'\n",
    "address='No.134, Sec. 2, Heping E. Rd., Da-an District, Taipei City 106, Taiwan (R.O.C.)'\n",
    "telephone='+886-2-2732-1104 # 53305'\n",
    "\n"
   ]
  },
  {
   "cell_type": "code",
   "execution_count": null,
   "metadata": {},
   "outputs": [],
   "source": [
    "#練習 4-2-1-2：利用變數 x 與 y 輸出下方結果\n",
    "'''22222+33333='''\n",
    "x=2\n",
    "y=3\n"
   ]
  },
  {
   "cell_type": "code",
   "execution_count": null,
   "metadata": {},
   "outputs": [],
   "source": [
    "# 4-2-2 print()函數的格式化輸出\n",
    "# print(\"...輸出說明與格式區...\"%(變數區))\n",
    "    # %d：是指以整數輸出\n",
    "    # %f：是指以浮點數輸出\n",
    "    # %x：是指以16進位整數輸出\n",
    "    # %o：是指以8進位整數輸出\n",
    "    # %s： 是指以字串輸出\n",
    "\n",
    "#範例 4-2-2-1\n",
    "x=97\n",
    "print(\"整數%d；浮點數%f；16進位整數%x；8進位整數%o；字串%s\"%(x,x,x,x,x))\n"
   ]
  },
  {
   "cell_type": "code",
   "execution_count": null,
   "metadata": {},
   "outputs": [],
   "source": [
    "#範例 4-2-2-2\n",
    "name01='陳建誠'\n",
    "score1=89\n",
    "score2=92\n",
    "score3=90\n",
    "average=(score1+score2+score3)/3\n",
    "print('姓名：%s 國語：%d 數學：%d 社會：%d 平均：%f'%(name01,score1,score2,score3,average))\n"
   ]
  },
  {
   "cell_type": "code",
   "execution_count": null,
   "metadata": {},
   "outputs": [],
   "source": [
    "#練習 4-2-2-1：利用變數 x,y,z 輸出下方結果\n",
    "'''成績通知：曉華你的程式設計第3章平時成績為82分'''\n",
    "x='曉華'\n",
    "y=3\n",
    "z=82"
   ]
  },
  {
   "cell_type": "code",
   "execution_count": null,
   "metadata": {},
   "outputs": [],
   "source": [
    "# 4-2-3 print()函數的精準控制格式化輸出\n",
    "# print(\"...輸出說明與格式區...\"%(變數序列區,...))\n",
    "    # %(+|-)nd：是指以整數輸出\n",
    "    # %(+|-)m.nf：是指以浮點數輸出\n",
    "    # %(+|-)nx：是指以16進位整數輸出\n",
    "    # %(+|-)no：是指以8進位整數輸出\n",
    "    # %(-)ns： 是指以字串輸出\n",
    "        # m 或 n 是指所佔位置數\n",
    "        # + 是指數值為正會加上正號 + \n",
    "        # - 是指靠左對齊\n",
    "\n",
    "# 範例 4-2-3-1\n",
    "print('姓名：%-10s'%name01)\n",
    "print('姓名：%10s'%name01)"
   ]
  },
  {
   "cell_type": "code",
   "execution_count": null,
   "metadata": {},
   "outputs": [],
   "source": [
    "# 範例 4-2-3-2\n",
    "print('國語：%5d'%score1)\n",
    "print('國語：%+5d'%score1)\n",
    "print('國語：%-5d'%score1)\n",
    "print('國語：%+-5d'%score1)"
   ]
  },
  {
   "cell_type": "code",
   "execution_count": null,
   "metadata": {},
   "outputs": [],
   "source": [
    "# 範例 4-2-3-3\n",
    "print('平均：%3.2f'%average)\n",
    "print('平均：%+3.2f'%average)\n",
    "print('平均：%-3.2f'%average)\n",
    "print('平均：%+-3.2f'%average)"
   ]
  },
  {
   "cell_type": "code",
   "execution_count": null,
   "metadata": {},
   "outputs": [],
   "source": [
    "#練習 4-2-3-1：利用精準控制格式化輸出下方結果\n",
    "'''\n",
    "  姓  名   國  語   數  學   社  會   平  均\n",
    "  陳小華     80       85       75     80.00\n",
    "  林大明     95       75       85     85.00\n",
    "  王中全     82       86       81     83.00\n",
    "'''"
   ]
  },
  {
   "cell_type": "code",
   "execution_count": null,
   "metadata": {},
   "outputs": [],
   "source": [
    "# 4-2-4 print()函數搭配 format()函數方法控制輸出輸出\n",
    "# print(\"...輸出說明與格式區...\",format(變數序列區,...))\n",
    "    # {}：是指標示變數輸出位置\n",
    "    \n",
    "help(format)"
   ]
  },
  {
   "cell_type": "code",
   "execution_count": null,
   "metadata": {},
   "outputs": [],
   "source": [
    "#範例 4-2-4-1\n",
    "name01='林大元'\n",
    "score11=85\n",
    "score12=93\n",
    "score13=80\n",
    "average1=(score11+score12+score13)/3\n",
    "name02='王小明'\n",
    "score21=100\n",
    "score22=100\n",
    "score23=100\n",
    "average2=(score21+score22+score23)/3\n",
    "\n",
    "print('姓名：{} 國語：{} 數學：{} 社會：{} 平均：{}'.format(name01,score11,score12,score13,average1))\n",
    "print('姓名：{} 國語：{} 數學：{} 社會：{} 平均：{}'.format(name02,score21,score22,score23,average2))"
   ]
  },
  {
   "cell_type": "code",
   "execution_count": null,
   "metadata": {},
   "outputs": [],
   "source": [
    "#範例 4-2-4-2：格式化區域使用字串表示\n",
    "name01='林大元'\n",
    "score11=85\n",
    "score12=93\n",
    "score13=80\n",
    "average1=(score11+score12+score13)/3\n",
    "f_str='姓名：{} 國語：{} 數學：{} 社會：{} 平均：{}'\n",
    "\n",
    "print(f_str.format(name01,score11,score12,score13,average1))\n"
   ]
  },
  {
   "cell_type": "code",
   "execution_count": null,
   "metadata": {},
   "outputs": [],
   "source": [
    "#練習 4-2-4-1：利用下列變數及format()輸出下方結果\n",
    "'''金曉華同學你好：你的程式設計第3次平時成績為82分，特此通知'''\n",
    "x='金曉華'\n",
    "y=3\n",
    "z=82"
   ]
  },
  {
   "cell_type": "code",
   "execution_count": null,
   "metadata": {},
   "outputs": [],
   "source": [
    "#練習 4-2-4-2：自行利用 format()輸出\n"
   ]
  },
  {
   "cell_type": "code",
   "execution_count": null,
   "metadata": {},
   "outputs": [],
   "source": [
    "# 4-3 輸出資料至檔案\n",
    "# 4-3-1 使用open()函數開啟檔案\n",
    "\n",
    "#查詢 open()函數\n",
    "\n",
    "help(open)"
   ]
  },
  {
   "cell_type": "code",
   "execution_count": null,
   "metadata": {},
   "outputs": [],
   "source": [
    "\n",
    "# open()函數的基本使用格式\n",
    "# file_Obj=open(file, mode='r')            #僅列出函數常用的2個參數\n",
    "    # file_Obj：是指給定檔案物件的變數名稱\n",
    "    # file：是指使用字串表示想開啟之檔案名稱(可含路徑)\n",
    "    # mode：是指開啟檔案的模式\n",
    "        #  'r': open for reading (default)\n",
    "        #  'w': open for writing, truncating the file first\n",
    "        #  'x': create a new file and open it for writing\n",
    "        #  'a': open for writing, appending to the end of the file if it exists\n",
    "        #  'b': binary mode\n",
    "        #  't': text mode (default)\n",
    "        #  '+': open a disk file for updating (reading and writing)\n",
    "        #  'U': universal newline mode (deprecated) \n",
    "# 使用檔案開啟 file_Obj=open(file, mode='r')，需要搭配 file_Obj.close()，才能從系統中確認寫入檔案"
   ]
  },
  {
   "cell_type": "code",
   "execution_count": null,
   "metadata": {},
   "outputs": [],
   "source": [
    "# 4-3-2 使用print()函數輸出資料至開啟檔案\n",
    "\n",
    "#範例 4-3-2-1：修課成績資料_開啟新檔案(若檔案已有則回傳錯誤)\n",
    "f_score=open('python_socre.txt',mode='x')\n",
    "f_score.close()"
   ]
  },
  {
   "cell_type": "code",
   "execution_count": null,
   "metadata": {},
   "outputs": [],
   "source": [
    "#範例 4-3-2-1：修課成績資料_開啟新檔案(若檔案已有則清空)並寫入資料\n",
    "f_score=open('python_socre.txt',mode='w')\n",
    "print('110713001 闞祥誠 數二甲 81分',file=f_score)\n",
    "f_score.close()"
   ]
  },
  {
   "cell_type": "code",
   "execution_count": null,
   "metadata": {},
   "outputs": [],
   "source": [
    "#範例 4-3-2-2：修課成績資料_開啟新檔案(若檔案已有則保留資料)並添加資料\n",
    "f_score=open(r'c:\\Users\\jiancheng\\python_socre.txt',mode='a')  #指定路徑字串前加上 r，忽略逸出字元\n",
    "print('110713002 鄭景文 數二甲 82分',file=f_score)\n",
    "print('110713003 陳維孝 數二甲 83分',file=f_score)\n",
    "print('110713004 巫一金 數二甲 84分',file=f_score)\n",
    "f_score.close()"
   ]
  },
  {
   "cell_type": "code",
   "execution_count": null,
   "metadata": {},
   "outputs": [],
   "source": [
    "#範例 4-3-2-1：練習開啟檔案並寫入\n",
    "#檔名為<學號+instro.txt>\n",
    "#逐行寫入個人姓名、班級、學號、興趣"
   ]
  },
  {
   "cell_type": "code",
   "execution_count": null,
   "metadata": {},
   "outputs": [],
   "source": [
    "# 4-4 資料輸入：input()函數\n",
    "\n",
    "#查詢 input()函數\n",
    "help(input)"
   ]
  },
  {
   "cell_type": "code",
   "execution_count": null,
   "metadata": {},
   "outputs": [],
   "source": [
    "# input()函數的使用\n",
    "# value=input(\"資料輸入說明：\")\n",
    "    #value：是指儲存輸入資料的變數名稱，此變數以字串資料型態存放，若要數值資料，需要經過轉換\n",
    "\n",
    "# 範例 4-4-1：學生資料輸入\n",
    "name=input(\"請輸入姓名：\")\n",
    "id=input(\"請輸入學號：\")\n",
    "score=input(\"請輸入程式設計課程成績：\")\n",
    "\n",
    "print(name, type(name),sep=': ')\n",
    "print(id,type(id),sep=': ')\n",
    "print(score, type(score),sep=': ')"
   ]
  },
  {
   "cell_type": "code",
   "execution_count": null,
   "metadata": {},
   "outputs": [],
   "source": [
    "# 範例 4-4-2：轉換為數值\n",
    "name=input(\"請輸入姓名：\")\n",
    "id=input(\"請輸入學號：\")\n",
    "s1=input(\"請輸入程式設計課程期中成績：\")\n",
    "score1=int(s1)\n",
    "s2=input(\"請輸入程式設計課程期末成績：\")\n",
    "score2=int(s2)\n",
    "\n",
    "print(\"姓名：%4s 學號：%10s 程式設計成績：%2.2f\"%(name,id,(score1+score2)/2))"
   ]
  },
  {
   "cell_type": "code",
   "execution_count": null,
   "metadata": {},
   "outputs": [],
   "source": [
    "# 範例 4-3-3：字串合併\n",
    "firstname=input(\"First name:\")\n",
    "lastname=input(\"Last name:\")\n",
    "fullname=firstname+lastname\n",
    "print(\"%s welcome to Python lesson\"%fullname)"
   ]
  },
  {
   "cell_type": "code",
   "execution_count": null,
   "metadata": {},
   "outputs": [],
   "source": [
    "# 練習 4-4-1：輸入姓名及其國、英、數三科成績，並輸出姓名及其三科平均成績"
   ]
  },
  {
   "cell_type": "code",
   "execution_count": null,
   "metadata": {},
   "outputs": [],
   "source": [
    "# 4-5 內建函數查詢\n",
    "\n",
    "#使用過函數包含 type(), help(), print(), input()...\n",
    "#使用 dir()函數並搭配特定參數 __builtins__ ，可以查詢內建的函數\n",
    "\n",
    "dir(__builtins__)"
   ]
  },
  {
   "cell_type": "code",
   "execution_count": null,
   "metadata": {},
   "outputs": [],
   "source": [
    "# 範例 4-5-1：查詢並試用內建函數\n",
    "help(abs)\n"
   ]
  },
  {
   "cell_type": "code",
   "execution_count": null,
   "metadata": {},
   "outputs": [],
   "source": [
    "x0=input(\"請輸入一個整數(正負皆可)：\")\n",
    "x1=int(x0)\n",
    "x2=abs(x1)\n",
    "print(\"你輸入的整數之絕對值為：%d\"%x2)\n"
   ]
  },
  {
   "cell_type": "code",
   "execution_count": null,
   "metadata": {},
   "outputs": [],
   "source": [
    "#簡化\n",
    "x0=abs(int(input(\"請輸入一個整數(正負皆可)：\")))\n",
    "print(\"你輸入的整數之絕對值為：%d\"%x0)"
   ]
  },
  {
   "cell_type": "code",
   "execution_count": null,
   "metadata": {},
   "outputs": [],
   "source": [
    "# 練習 4-5-1：查詢與試用 round() 函數\n"
   ]
  },
  {
   "cell_type": "code",
   "execution_count": null,
   "metadata": {},
   "outputs": [],
   "source": [
    "# 實作題 4-1：班上四位同學基本資料逐筆輸出至檔案\n",
    "# 實作題 4-2：撰寫Python學習心得300並輸出至檔案\n",
    "# 實作題 4-3：輸入攝氏溫度，輸出華氏溫度\n",
    "# 實作題 4-4：輸入華氏溫度，輸出攝氏溫度\n",
    "# 實作題 4-5：輸入金額，以千元為單位無條件捨去後輸出，如 輸入12,345元，則輸出12,000元\n",
    "# 實作題 4-6：根據 BMI 輸入資料，並輸出 BMI值\n",
    "# 實作題 4-7：輸入建物的坪數，輸出建物的平方公尺數\n",
    "# 實作題 4-8：輸入建物的平方公尺數，輸出建物的坪數\n",
    "\n"
   ]
  },
  {
   "cell_type": "code",
   "execution_count": null,
   "metadata": {},
   "outputs": [],
   "source": []
  }
 ],
 "metadata": {
  "kernelspec": {
   "display_name": "Python 3",
   "language": "python",
   "name": "python3"
  },
  "language_info": {
   "codemirror_mode": {
    "name": "ipython",
    "version": 3
   },
   "file_extension": ".py",
   "mimetype": "text/x-python",
   "name": "python",
   "nbconvert_exporter": "python",
   "pygments_lexer": "ipython3",
   "version": "3.5.6"
  }
 },
 "nbformat": 4,
 "nbformat_minor": 2
}
