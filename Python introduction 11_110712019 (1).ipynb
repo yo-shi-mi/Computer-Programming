{
 "cells": [
  {
   "cell_type": "code",
   "execution_count": null,
   "metadata": {},
   "outputs": [],
   "source": [
    "# 11 函數(function)：重複相同的處理程序可改用函數表示\n",
    "\n",
    "# 範例 11-1 歡迎詞程序函數化(單參數)\n",
    "\n",
    "def welcome(x):\n",
    "    print('Hi,%s!\\n'%x,'Welcome to learn python\\n','Have a nice day!')\n",
    "names=['A','B','C','D']\n",
    "for name in names:\n",
    "    welcome(name)"
   ]
  },
  {
   "cell_type": "code",
   "execution_count": null,
   "metadata": {},
   "outputs": [],
   "source": [
    "# 練習 11-1 自然數加總 1+2+3+...+n 函數化 \n",
    "def total(n):\n",
    "    sum_all=(n+1)*n/2\n",
    "    print('1+2+3+...+%d=%d'%(n,sum_all))\n",
    "n=int(input('計算1+2+3+...+n,請輸入n:'))\n",
    "total(n)"
   ]
  },
  {
   "cell_type": "code",
   "execution_count": null,
   "metadata": {},
   "outputs": [],
   "source": [
    "# 範例 11-2 等比級數計算程序函數化(多參數)\n",
    "a=1\n",
    "r=2\n",
    "n=10\n",
    "\n",
    "def gs(a,r,n):\n",
    "    s=a*(r**n-1)/(r-1)\n",
    "    print('首項%f,公比%f,項數%d的等比級數為%f'%(a,r,n,s))"
   ]
  },
  {
   "cell_type": "code",
   "execution_count": 2,
   "metadata": {},
   "outputs": [
    {
     "name": "stdout",
     "output_type": "stream",
     "text": [
      "計算等差級數，請輸入首項1\n",
      "計算等差級數，請輸入公差2\n",
      "計算等差級數，請輸入項數6\n",
      "首項1.00,公比2.00,項數6的等比級數為36.00\n"
     ]
    }
   ],
   "source": [
    "# 練習 11-2 等差級數計算程序函數化(多參數)\n",
    "def DS(a,d,n):\n",
    "    s=(a+a+(n-1)*d)*n/2\n",
    "    print('首項%.2f,公比%.2f,項數%d的等比級數為%.2f'%(a,d,n,s))\n",
    "a=float(input('計算等差級數，請輸入首項'))\n",
    "d=float(input('計算等差級數，請輸入公差'))\n",
    "n=int(input('計算等差級數，請輸入項數'))\n",
    "DS(a,d,n)"
   ]
  },
  {
   "cell_type": "code",
   "execution_count": null,
   "metadata": {},
   "outputs": [],
   "source": [
    "# 範例 11-3 二次多項式函數定積分程序函數化(多參數)"
   ]
  },
  {
   "cell_type": "code",
   "execution_count": null,
   "metadata": {},
   "outputs": [],
   "source": [
    "# 練習 11-4 三次多項式函數定積分程序函數化(多參數)"
   ]
  },
  {
   "cell_type": "code",
   "execution_count": null,
   "metadata": {},
   "outputs": [],
   "source": [
    "# 範例 11-4 Simpson' rule 函數化(多參數，重複呼叫)\n",
    "    # https://en.wikipedia.org/wiki/Simpson%27s_rule"
   ]
  },
  {
   "cell_type": "code",
   "execution_count": null,
   "metadata": {},
   "outputs": [],
   "source": [
    "# 範例 11-5 河內塔最佳移動法的遞迴函數化(多參數，自我呼叫)\n",
    "    # https://www.novelgames.com/zh-HK/tower/"
   ]
  }
 ],
 "metadata": {
  "kernelspec": {
   "display_name": "Python 3",
   "language": "python",
   "name": "python3"
  },
  "language_info": {
   "codemirror_mode": {
    "name": "ipython",
    "version": 3
   },
   "file_extension": ".py",
   "mimetype": "text/x-python",
   "name": "python",
   "nbconvert_exporter": "python",
   "pygments_lexer": "ipython3",
   "version": "3.7.4"
  }
 },
 "nbformat": 4,
 "nbformat_minor": 2
}
