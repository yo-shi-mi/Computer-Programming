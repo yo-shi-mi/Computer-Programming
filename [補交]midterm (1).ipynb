{
 "cells": [
  {
   "cell_type": "code",
   "execution_count": 12,
   "metadata": {},
   "outputs": [
    {
     "name": "stdout",
     "output_type": "stream",
     "text": [
      "請輸入姓名：123\n",
      "關於阿叡的問題挑戰要開始囉~共五題\n",
      "1.睡覺 2.玩手機 3.跳舞 4.唱歌\n",
      "Q1:以上哪個是阿叡最喜歡做的事情?3\n",
      "不錯喔~懂我\n",
      "下一題\n",
      "1.昀彤 2.汶樺 3.維軒 4.子云\n",
      "Q2:以上哪個是阿叡的寶寶?1\n",
      "不錯喔~懂我\n",
      "下一題\n",
      "1.謹如 2.仁俊 3.柏瑋 4.絢卉\n",
      "Q3:以上哪個是阿叡覺得最可愛的?2\n",
      "不錯喔~懂我\n",
      "下一題\n",
      "1.維蘇威火山 2.羽蛇神殿 3.埃及金字塔 4.德國集中營\n",
      "Q4:以上哪個是阿叡現在最想去的地方?4\n",
      "不錯喔~懂我\n",
      "最後一題\n",
      "1.腳踏車 2.摩托車 3.汽車 4.電動車\n",
      "Q5:以上哪個是阿叡會的?3\n",
      "不錯喔~懂我\n",
      "你的總分是 5\n",
      "太了解我了!\n"
     ]
    }
   ],
   "source": [
    "import time\n",
    "point=0\n",
    "ans=str(input(\"請輸入姓名：\"))\n",
    "print(\"關於阿叡的問題挑戰要開始囉~共五題\")\n",
    "time.sleep(2)\n",
    "print(\"1.睡覺 2.玩手機 3.跳舞 4.唱歌\")\n",
    "q1=int(input(\"Q1:以上哪個是阿叡最喜歡做的事情?\"))\n",
    "if q1==3:\n",
    "    print(\"不錯喔~懂我\")\n",
    "    point+=1\n",
    "else:\n",
    "    print(\"不對不對\")\n",
    "time.sleep(1)\n",
    "print(\"下一題\")\n",
    "time.sleep(2)\n",
    "print(\"1.昀彤 2.汶樺 3.維軒 4.子云\")\n",
    "q2=int(input(\"Q2:以上哪個是阿叡的寶寶?\"))\n",
    "if q2==1:\n",
    "    print(\"不錯喔~懂我\") \n",
    "    point+=1\n",
    "else:\n",
    "    print(\"不對不對\")\n",
    "time.sleep(1)\n",
    "print(\"下一題\")\n",
    "time.sleep(2)\n",
    "print(\"1.謹如 2.仁俊 3.柏瑋 4.絢卉\")\n",
    "q3=int(input(\"Q3:以上哪個是阿叡覺得最可愛的?\"))\n",
    "if q3==2:\n",
    "    print(\"不錯喔~懂我\")\n",
    "    point+=1\n",
    "else:\n",
    "    print(\"不對不對\")\n",
    "time.sleep(1)\n",
    "print(\"下一題\")\n",
    "time.sleep(2)\n",
    "print(\"1.維蘇威火山 2.羽蛇神殿 3.埃及金字塔 4.德國集中營\")\n",
    "q4=int(input(\"Q4:以上哪個是阿叡現在最想去的地方?\"))\n",
    "if q4==4:\n",
    "    print(\"不錯喔~懂我\")\n",
    "    point+=1\n",
    "else:\n",
    "    print(\"不對不對\")\n",
    "time.sleep(1)\n",
    "print(\"最後一題\")\n",
    "time.sleep(2)\n",
    "print(\"1.腳踏車 2.摩托車 3.汽車 4.電動車\")\n",
    "q5=int(input(\"Q5:以上哪個是阿叡會的?\"))\n",
    "if q5==3:\n",
    "    print(\"不錯喔~懂我\")\n",
    "    point+=1\n",
    "else:\n",
    "    print(\"不對不對\")\n",
    "print(\"你的總分是\",point)\n",
    "if point==5:\n",
    "    print(\"太了解我了!\")\n",
    "elif point==4:\n",
    "    print(\"就當你粗心\")\n",
    "elif point==3:\n",
    "    print(\"給過給過~\")\n",
    "elif point==2:\n",
    "    print(\"這樣不及格喔\")\n",
    "elif point==1:\n",
    "    print(\"太少了啦!\")\n",
    "else:\n",
    "    print(\"我們一定不熟QAQ\")"
   ]
  },
  {
   "cell_type": "code",
   "execution_count": null,
   "metadata": {},
   "outputs": [],
   "source": [
    "\n",
    "\n"
   ]
  },
  {
   "cell_type": "code",
   "execution_count": null,
   "metadata": {},
   "outputs": [],
   "source": []
  },
  {
   "cell_type": "code",
   "execution_count": null,
   "metadata": {},
   "outputs": [],
   "source": []
  }
 ],
 "metadata": {
  "kernelspec": {
   "display_name": "Python 3",
   "language": "python",
   "name": "python3"
  },
  "language_info": {
   "codemirror_mode": {
    "name": "ipython",
    "version": 3
   },
   "file_extension": ".py",
   "mimetype": "text/x-python",
   "name": "python",
   "nbconvert_exporter": "python",
   "pygments_lexer": "ipython3",
   "version": "3.7.4"
  }
 },
 "nbformat": 4,
 "nbformat_minor": 2
}
