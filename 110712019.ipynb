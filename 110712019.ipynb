{
 "cells": [
  {
   "cell_type": "code",
   "execution_count": null,
   "metadata": {},
   "outputs": [],
   "source": [
    "# 2-1 使用 Python 做計算\n",
    "\n",
    "#工讀金採時薪制，每小時 120 元。小美每週工讀 8 小時，持續 16 週，工讀金總額多少元？\n",
    "\n",
    "\n"
   ]
  },
  {
   "cell_type": "code",
   "execution_count": null,
   "metadata": {},
   "outputs": [],
   "source": [
    "# 練習 2-1-1\n",
    "#工讀金採時薪制，每小時 130元。小華每日各工讀 8 小時，持續一年，工讀金總額多少元？\n"
   ]
  },
  {
   "cell_type": "code",
   "execution_count": null,
   "metadata": {},
   "outputs": [],
   "source": [
    "# 練習 2-1-2\n",
    "# 嘗試其他數字計算\n"
   ]
  },
  {
   "cell_type": "code",
   "execution_count": null,
   "metadata": {},
   "outputs": [],
   "source": [
    "# 2-2 認識變數\n",
    "#工讀金採時薪制，金額會隨法規而變動，不同人的工讀總時間會不同，同一人每月工讀時間會有所不同...\n",
    "\"\"\"2019年8月新規定新聞，https://www.cna.com.tw/news/firstnews/201908145004.aspx\"\"\"\n",
    "\n",
    "x=120       #變數名稱x，以等號賦予整數值120\n",
    "print(x)    #輸出函數print()，輸出在螢幕上\n"
   ]
  },
  {
   "cell_type": "code",
   "execution_count": null,
   "metadata": {},
   "outputs": [],
   "source": [
    "x=140\n",
    "print(x)"
   ]
  },
  {
   "cell_type": "code",
   "execution_count": null,
   "metadata": {},
   "outputs": [],
   "source": [
    "#小美的工讀金總額\n",
    "x=158          \n",
    "y=158*8*16     \n",
    "print(y)       \n"
   ]
  },
  {
   "cell_type": "code",
   "execution_count": null,
   "metadata": {},
   "outputs": [],
   "source": [
    "#練習 2-2-1\n",
    "#小華的工讀金總額\n"
   ]
  },
  {
   "cell_type": "code",
   "execution_count": null,
   "metadata": {},
   "outputs": [],
   "source": [
    "# 年度收入、支出與結餘金額(數學符號的變數)\n",
    "x=158\n",
    "y=x*30*8\n",
    "a=6000\n",
    "b=a*12\n",
    "s=y-b\n",
    "print(y)\n",
    "print(b)\n",
    "print(s)\n"
   ]
  },
  {
   "cell_type": "code",
   "execution_count": null,
   "metadata": {},
   "outputs": [],
   "source": [
    "# 年度收入、支出與結餘金額(字面意義的變數)\n",
    "\n",
    "hourly_wage=158                  \n",
    "annaul_salary=hourly_wage*30*8      \n",
    "monthly_fee=6000                    \n",
    "annaul_fee=monthly_fee*12 \n",
    "savings=annaul_salary-annaul_fee \n",
    "\n",
    "print(annaul_salary)\n",
    "print(annaul_fee)\n",
    "print(savings)\n"
   ]
  },
  {
   "cell_type": "code",
   "execution_count": null,
   "metadata": {},
   "outputs": [],
   "source": [
    "#練習 2-2-2 (改寫成字面意義的變數)\n",
    "#優惠存款問題：本金 100000 元，優存年利率 2%，按日複利計算利息，1 年後的本利和為多少？\n",
    "A=10000\n",
    "r=0.02\n",
    "t=1\n",
    "P=A*(1+r/365)**(t*365)\n",
    "print(P)"
   ]
  },
  {
   "cell_type": "code",
   "execution_count": null,
   "metadata": {},
   "outputs": [],
   "source": [
    "# 2-3 程式的意義\n",
    "#計算程序化：可重複開啟執行，免去重複編寫的麻煩\n",
    "#數值可變化：可因應變數調整，適用不同數值情形\n"
   ]
  },
  {
   "cell_type": "code",
   "execution_count": null,
   "metadata": {},
   "outputs": [],
   "source": [
    "# 2-4 程式的註解\n",
    "'''年度費用收入、支出與結餘'''\n",
    "hourly_wage=158                     #每小時工讀薪水\n",
    "annaul_salary=hourly_wage*30*8      #每年工讀總額\n",
    "monthly_fee=6000                    #每月生活支出\n",
    "annaul_fee=monthly_fee*12           #每年生活總支出\n",
    "savings=annaul_salary-annaul_fee    #每年結餘\n",
    "print(annaul_salary)\n",
    "print(annaul_fee)\n",
    "print(savings)"
   ]
  },
  {
   "cell_type": "code",
   "execution_count": null,
   "metadata": {},
   "outputs": [],
   "source": [
    "#練習 2-4-1 (字面意義、加註並存成 *.py 檔)\n",
    "#優惠存款問題：本金 1000000 元，優存年利率 2%，按日複利計算利息，1 年後的本利和為多少？\n"
   ]
  },
  {
   "cell_type": "code",
   "execution_count": null,
   "metadata": {},
   "outputs": [],
   "source": [
    "#練習 2-4-2 (字面意義、加註並存成 *.py 檔)\n",
    "#高利貸問題：借款 60000 元，月息一分，按日複利計算利息，3年後的本利和為多少？"
   ]
  },
  {
   "cell_type": "code",
   "execution_count": null,
   "metadata": {},
   "outputs": [],
   "source": [
    "# 2-5 變數宣告方式\n",
    "# Python的變數給值後就可使用，不同於其他語言，需先宣告此變數名稱與類型後，才可以賦予值及使用"
   ]
  },
  {
   "cell_type": "code",
   "execution_count": null,
   "metadata": {},
   "outputs": [],
   "source": [
    "# 2-6 變數的命名方式\n",
    "#字首必須是英文字母、中文字或底線_，不過，中文字不建議使用，底線為特殊用途\n",
    "#變數名稱只能是英文字母、數字、中文字及底線組成\n",
    "#大小寫的英文字母是被看成不同的\n",
    "#系統有內建的保留字和函數，不建議使用\n",
    "\n",
    "\"\"\" Python 3.x 有33 個保留字，中文請參考https://www.itread01.com/content/1548367586.html\"\"\"\n",
    "\"\"\" Python 3.x 內建函數，原文請參考https://docs.python.org/3.5/library/functions.html\"\"\""
   ]
  },
  {
   "cell_type": "code",
   "execution_count": null,
   "metadata": {},
   "outputs": [],
   "source": [
    "# 範例 2-6-1\n",
    "\n",
    "illegal_names=[sum'1, 3y, s&2, and]\n",
    "\n",
    "legal_name=[Sum, _fpga, x11, 小計]"
   ]
  },
  {
   "cell_type": "code",
   "execution_count": null,
   "metadata": {},
   "outputs": [],
   "source": [
    "# 範例 2-6-2\n",
    "SUM=1\n",
    "Sum=10\n",
    "sum=100\n",
    "\n",
    "print(Sum)"
   ]
  },
  {
   "cell_type": "code",
   "execution_count": 9,
   "metadata": {},
   "outputs": [
    {
     "ename": "SyntaxError",
     "evalue": "invalid syntax (<ipython-input-9-44b7909720c2>, line 1)",
     "output_type": "error",
     "traceback": [
      "\u001b[1;36m  File \u001b[1;32m\"<ipython-input-9-44b7909720c2>\"\u001b[1;36m, line \u001b[1;32m1\u001b[0m\n\u001b[1;33m    if=123\u001b[0m\n\u001b[1;37m      ^\u001b[0m\n\u001b[1;31mSyntaxError\u001b[0m\u001b[1;31m:\u001b[0m invalid syntax\n"
     ]
    }
   ],
   "source": [
    "if=123\n",
    "print(if)"
   ]
  },
  {
   "cell_type": "code",
   "execution_count": 10,
   "metadata": {},
   "outputs": [
    {
     "name": "stdout",
     "output_type": "stream",
     "text": [
      "12\n"
     ]
    }
   ],
   "source": [
    "# 練習 2-6-1：合法與不合法變數個舉一例，賦予值並輸出檢視\n",
    "abc=12\n",
    "print(abc)"
   ]
  },
  {
   "cell_type": "code",
   "execution_count": null,
   "metadata": {},
   "outputs": [],
   "source": [
    "# 2-7 基本數值運算\n",
    "# 2-7-1 四則運算\n",
    "\n",
    "# 範例 2-7-1-1\n",
    "x=5\n",
    "y=x+1-2*3/4\n",
    "print(y)"
   ]
  },
  {
   "cell_type": "code",
   "execution_count": 11,
   "metadata": {},
   "outputs": [
    {
     "name": "stdout",
     "output_type": "stream",
     "text": [
      "23\n"
     ]
    }
   ],
   "source": [
    "# 範例 2-7-1-2\n",
    "a=9\n",
    "b=2\n",
    "c=3*a-2*b\n",
    "print(c)"
   ]
  },
  {
   "cell_type": "code",
   "execution_count": 14,
   "metadata": {},
   "outputs": [
    {
     "name": "stdout",
     "output_type": "stream",
     "text": [
      "-7.0\n"
     ]
    }
   ],
   "source": [
    "# 練習 2-7-1-1：給定一些變數的值，並利用四則運算產生另一個變數值，並輸出檢視\n",
    "\n",
    "a=5\n",
    "b=2\n",
    "c=3-4*a/b\n",
    "print(c)"
   ]
  },
  {
   "cell_type": "code",
   "execution_count": 5,
   "metadata": {},
   "outputs": [
    {
     "name": "stdout",
     "output_type": "stream",
     "text": [
      "4.285714285714286\n",
      "4\n",
      "2\n"
     ]
    }
   ],
   "source": [
    "# 2-7 基本數值運算\n",
    "# 2-7-2 整數除法\n",
    "# 範例 2-7-2-1\n",
    "\n",
    "x=30\n",
    "y=7\n",
    "z1=x/y         #基本除法，商數(以小數表示)\n",
    "z2=x//y        #整數除法，商數(整數運算，表示商數部分)\n",
    "z3=x%y         #整數除法，餘數(整數運算，表示餘數部分)\n",
    "\n",
    "print(z1)\n",
    "print(z2)\n",
    "print(z3)"
   ]
  },
  {
   "cell_type": "code",
   "execution_count": 19,
   "metadata": {},
   "outputs": [
    {
     "name": "stdout",
     "output_type": "stream",
     "text": [
      "26.666666666666668\n",
      "26\n",
      "4\n"
     ]
    }
   ],
   "source": [
    "# 練習 2-7-2-1：給定一些變數的值，並利用四則運算與整數除法產生另一個變數值，並輸出檢視\n",
    "x=80\n",
    "y=6\n",
    "a=2*x/y\n",
    "b=2*x//y\n",
    "c=2*x%y\n",
    "\n",
    "print(a)\n",
    "print(b)\n",
    "print(c)"
   ]
  },
  {
   "cell_type": "code",
   "execution_count": null,
   "metadata": {},
   "outputs": [],
   "source": [
    "# 2-7 基本數值運算\n",
    "# 2-7-3 次方\n",
    "# 範例 2-7-3-1：多項式的表示\n",
    "\n",
    "x=-1\n",
    "y=2*x**3-4*x**2+5*x-9\n",
    "\n",
    "print(y)"
   ]
  },
  {
   "cell_type": "code",
   "execution_count": 22,
   "metadata": {},
   "outputs": [
    {
     "name": "stdout",
     "output_type": "stream",
     "text": [
      "12455\n"
     ]
    }
   ],
   "source": [
    "# 練習 2-7-3-1：給定一個變數值，並利用其產生一個多項式變數值，並輸出檢視\n",
    "a=-5\n",
    "b=3*a-4*a**5+6*a\n",
    "\n",
    "print(b)"
   ]
  },
  {
   "cell_type": "code",
   "execution_count": 23,
   "metadata": {},
   "outputs": [
    {
     "name": "stdout",
     "output_type": "stream",
     "text": [
      "1\n"
     ]
    }
   ],
   "source": [
    "# 2-7 基本數值運算\n",
    "# 2-7-4 運算次序\n",
    "  #括號\n",
    "  #次方\n",
    "  #除、乘、整數除之商、整數除之餘(同時出現由左至右)\n",
    "  #加、減(同時出現由左至右)\n",
    "\n",
    "# 範例 2-7-4-1：多項式的表示\n",
    "\n",
    "a=-1\n",
    "b=2\n",
    "c=4\n",
    "d=a*b//c**3%2\n",
    "#次方先算-2//64=-1.-2%64=62\n",
    "\n",
    "print(d)"
   ]
  },
  {
   "cell_type": "code",
   "execution_count": 31,
   "metadata": {},
   "outputs": [
    {
     "name": "stdout",
     "output_type": "stream",
     "text": [
      "0.011474609375\n"
     ]
    }
   ],
   "source": [
    "# 練習 2-7-4-1：給定一些變數值，並利用各種運算產生另一個變數值，並輸出檢視\n",
    "a=47\n",
    "b=8\n",
    "print(a/b**4%6)"
   ]
  },
  {
   "cell_type": "code",
   "execution_count": 34,
   "metadata": {},
   "outputs": [
    {
     "name": "stdout",
     "output_type": "stream",
     "text": [
      "8\n"
     ]
    }
   ],
   "source": [
    "# 2-8 指派運算子：變數的原有值會依特定運算而賦予新值的表示方式\n",
    "\n",
    "# 範例 2-8-1：(累加形式)\n",
    "a=5\n",
    "a+=3    #相當於 a=a+3\n",
    "print(a)"
   ]
  },
  {
   "cell_type": "code",
   "execution_count": 33,
   "metadata": {},
   "outputs": [
    {
     "name": "stdout",
     "output_type": "stream",
     "text": [
      "2\n"
     ]
    }
   ],
   "source": [
    "# 範例 2-8-2：(累減形式)\n",
    "b=5\n",
    "b-=3    #相當於 b=b-3\n",
    "print(b)"
   ]
  },
  {
   "cell_type": "code",
   "execution_count": null,
   "metadata": {},
   "outputs": [],
   "source": [
    "# 範例 2-8-3：(累乘形式)\n",
    "c=5\n",
    "c*=3    #相當於 c=c*3\n",
    "print(b)"
   ]
  },
  {
   "cell_type": "code",
   "execution_count": null,
   "metadata": {},
   "outputs": [],
   "source": [
    "# 範例 2-8-4：(累除形式)\n",
    "d=5\n",
    "d/=3    #相當於 d=d/3\n",
    "print(d)"
   ]
  },
  {
   "cell_type": "code",
   "execution_count": null,
   "metadata": {},
   "outputs": [],
   "source": [
    "# 範例 2-8-5：(累次方形式)\n",
    "e=1.18\n",
    "e**=2    #相當於 e=e**2\n",
    "print(e)"
   ]
  },
  {
   "cell_type": "code",
   "execution_count": 42,
   "metadata": {},
   "outputs": [
    {
     "name": "stdout",
     "output_type": "stream",
     "text": [
      "9\n"
     ]
    }
   ],
   "source": [
    "# 練習 2-8-1：(舉例呈現整數除法求商的累除形式)\n",
    "a=76\n",
    "b=8\n",
    "c=a//b\n",
    "print(c)"
   ]
  },
  {
   "cell_type": "code",
   "execution_count": 43,
   "metadata": {},
   "outputs": [
    {
     "name": "stdout",
     "output_type": "stream",
     "text": [
      "4\n"
     ]
    }
   ],
   "source": [
    "# 練習 2-8-2：(舉例呈現整數除法求餘的累除形式)\n",
    "a=76\n",
    "b=8\n",
    "c=a%b\n",
    "print(c)"
   ]
  },
  {
   "cell_type": "code",
   "execution_count": 45,
   "metadata": {},
   "outputs": [
    {
     "ename": "SyntaxError",
     "evalue": "invalid syntax (<ipython-input-45-760334e6b445>, line 4)",
     "output_type": "error",
     "traceback": [
      "\u001b[1;36m  File \u001b[1;32m\"<ipython-input-45-760334e6b445>\"\u001b[1;36m, line \u001b[1;32m4\u001b[0m\n\u001b[1;33m    a=5 b=3 c=1\u001b[0m\n\u001b[1;37m        ^\u001b[0m\n\u001b[1;31mSyntaxError\u001b[0m\u001b[1;31m:\u001b[0m invalid syntax\n"
     ]
    }
   ],
   "source": [
    "# 2-9 多重給定變數\n",
    "\n",
    "# 範例 2-9-1：錯誤\n",
    "a=5, b=3, c=1\n",
    "e=a*2+b*3+c*4\n",
    "print(e)"
   ]
  },
  {
   "cell_type": "code",
   "execution_count": 46,
   "metadata": {},
   "outputs": [
    {
     "name": "stdout",
     "output_type": "stream",
     "text": [
      "23\n"
     ]
    }
   ],
   "source": [
    "# 範例 2-9-2：正確\n",
    "a,b,c=5,3,1\n",
    "e=a*2+b*3+c*4\n",
    "print(e)"
   ]
  },
  {
   "cell_type": "code",
   "execution_count": null,
   "metadata": {},
   "outputs": [],
   "source": [
    "# 範例 2-9-3\n",
    "a=b=c=5\n",
    "e=a*2+b*3+c*4\n",
    "print(e)"
   ]
  },
  {
   "cell_type": "code",
   "execution_count": null,
   "metadata": {},
   "outputs": [],
   "source": [
    "# 範例 2-9-4：數值交換\n",
    "a,b,c=5,3,1\n",
    "print(a,b,c)\n",
    "a,b,c=c,a,b\n",
    "print(a,b,c)\n",
    "e=a*2+b*3+c*4\n",
    "print(e)"
   ]
  },
  {
   "cell_type": "code",
   "execution_count": 48,
   "metadata": {},
   "outputs": [
    {
     "name": "stdout",
     "output_type": "stream",
     "text": [
      "6\n",
      "2\n",
      "(6, 2)\n"
     ]
    }
   ],
   "source": [
    "# 範例 2-9-4：整數除法的函數 divmod()\n",
    "a,b=32,5\n",
    "print(a//b)\n",
    "print(a%b)\n",
    "print(divmod(a,b))"
   ]
  },
  {
   "cell_type": "code",
   "execution_count": 49,
   "metadata": {},
   "outputs": [
    {
     "name": "stdout",
     "output_type": "stream",
     "text": [
      "4 3 5\n"
     ]
    }
   ],
   "source": [
    "# 練習 2-9-1：(同時給定三個變數，再利用此三變數同時給定另三個變數)，輸出並檢視\n",
    "x,y,z=5,4,3\n",
    "x,y,z=z,x,y\n",
    "print(z,x,y)"
   ]
  },
  {
   "cell_type": "code",
   "execution_count": 8,
   "metadata": {},
   "outputs": [
    {
     "name": "stdout",
     "output_type": "stream",
     "text": [
      "31\n",
      "31\n"
     ]
    },
    {
     "ename": "NameError",
     "evalue": "name 'd' is not defined",
     "output_type": "error",
     "traceback": [
      "\u001b[1;31m---------------------------------------------------------------------------\u001b[0m",
      "\u001b[1;31mNameError\u001b[0m                                 Traceback (most recent call last)",
      "\u001b[1;32m<ipython-input-8-d8f252b221ad>\u001b[0m in \u001b[0;36m<module>\u001b[1;34m()\u001b[0m\n\u001b[0;32m      8\u001b[0m \u001b[0mprint\u001b[0m\u001b[1;33m(\u001b[0m\u001b[0md\u001b[0m\u001b[1;33m)\u001b[0m\u001b[1;33m\u001b[0m\u001b[0m\n\u001b[0;32m      9\u001b[0m \u001b[1;32mdel\u001b[0m \u001b[0md\u001b[0m\u001b[1;33m\u001b[0m\u001b[0m\n\u001b[1;32m---> 10\u001b[1;33m \u001b[0mprint\u001b[0m\u001b[1;33m(\u001b[0m\u001b[0md\u001b[0m\u001b[1;33m)\u001b[0m\u001b[1;33m\u001b[0m\u001b[0m\n\u001b[0m",
      "\u001b[1;31mNameError\u001b[0m: name 'd' is not defined"
     ]
    }
   ],
   "source": [
    "# 2-10 刪除變數\n",
    "\n",
    "# 範例 2-10-1：\n",
    "a,b,c=1,3,5\n",
    "d=2*a+3*b+4*c\n",
    "print(d)\n",
    "\n",
    "del a\n",
    "print(d)\n",
    "del d\n",
    "print(d)"
   ]
  },
  {
   "cell_type": "code",
   "execution_count": null,
   "metadata": {},
   "outputs": [],
   "source": [
    "# 2-11 多行合併與斷行\n",
    "# 範例 2-11-1：多行以分號合併，但破壞結構，非常不建議使用\n",
    "a,b,c=1,3,5;d=2*a+3*b+4*c;print(d)"
   ]
  },
  {
   "cell_type": "code",
   "execution_count": null,
   "metadata": {},
   "outputs": [],
   "source": [
    "# 範例 2-11-2：以反斜線\\或小括號斷行，但沒必要也不要做\n",
    "a,b,c=1,3,5\n",
    "d=2*a+\\\n",
    "  3*b+\\\n",
    "  4*c\n",
    "print(d)\n",
    "e=(4*a+\n",
    "   3*b+\n",
    "   2*c)\n",
    "print(e)"
   ]
  }
 ],
 "metadata": {
  "kernelspec": {
   "display_name": "Python 3",
   "language": "python",
   "name": "python3"
  },
  "language_info": {
   "codemirror_mode": {
    "name": "ipython",
    "version": 3
   },
   "file_extension": ".py",
   "mimetype": "text/x-python",
   "name": "python",
   "nbconvert_exporter": "python",
   "pygments_lexer": "ipython3",
   "version": "3.7.4"
  }
 },
 "nbformat": 4,
 "nbformat_minor": 2
}
